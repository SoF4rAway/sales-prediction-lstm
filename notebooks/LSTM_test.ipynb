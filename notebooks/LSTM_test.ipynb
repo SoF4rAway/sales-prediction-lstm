{
 "cells": [
  {
   "cell_type": "code",
   "execution_count": 1,
   "id": "7fba9ffe",
   "metadata": {},
   "outputs": [],
   "source": [
    "import pandas as pd\n",
    "import psycopg2\n",
    "from psycopg2 import Error\n",
    "import os\n",
    "import tensorflow as tf\n",
    "import numpy as np\n",
    "import matplotlib.pyplot as plt\n",
    "from sklearn.preprocessing import MinMaxScaler\n",
    "from sklearn.metrics import mean_absolute_error, mean_squared_error, r2_score\n",
    "from tensorflow import keras\n",
    "from keras import models\n",
    "from keras.models import sequential\n",
    "from keras.layers import Dense, LSTM\n",
    "from keras.callbacks import EarlyStopping"
   ]
  },
  {
   "cell_type": "code",
   "execution_count": 10,
   "id": "844e54b7",
   "metadata": {},
   "outputs": [
    {
     "name": "stdout",
     "output_type": "stream",
     "text": [
      "<class 'pandas.core.frame.DataFrame'>\n",
      "RangeIndex: 39961 entries, 0 to 39960\n",
      "Data columns (total 5 columns):\n",
      " #   Column          Non-Null Count  Dtype \n",
      "---  ------          --------------  ----- \n",
      " 0   material        39961 non-null  int64 \n",
      " 1   posting_date    39961 non-null  object\n",
      " 2   bill_qty_sku    39961 non-null  int64 \n",
      " 3   material.1      39961 non-null  int64 \n",
      " 4   posting_date.1  39961 non-null  object\n",
      "dtypes: int64(3), object(2)\n",
      "memory usage: 1.5+ MB\n"
     ]
    },
    {
     "data": {
      "text/plain": "   material posting_date  bill_qty_sku  material.1 posting_date.1\n0  11000000   2021-01-07           100    11000000     2021-01-07\n1  11000000   2021-01-08          1900    11000000     2021-01-08\n2  11000000   2021-01-09          2700    11000000     2021-01-09\n3  11000000   2021-01-11          5700    11000000     2021-01-11\n4  11000000   2021-01-12         23200    11000000     2021-01-12\n5  11000000   2021-01-13          4700    11000000     2021-01-13\n6  11000000   2021-01-14          7200    11000000     2021-01-14\n7  11000000   2021-01-15          6800    11000000     2021-01-15\n8  11000000   2021-01-16          1000    11000000     2021-01-16\n9  11000000   2021-01-18          1100    11000000     2021-01-18",
      "text/html": "<div>\n<style scoped>\n    .dataframe tbody tr th:only-of-type {\n        vertical-align: middle;\n    }\n\n    .dataframe tbody tr th {\n        vertical-align: top;\n    }\n\n    .dataframe thead th {\n        text-align: right;\n    }\n</style>\n<table border=\"1\" class=\"dataframe\">\n  <thead>\n    <tr style=\"text-align: right;\">\n      <th></th>\n      <th>material</th>\n      <th>posting_date</th>\n      <th>bill_qty_sku</th>\n      <th>material.1</th>\n      <th>posting_date.1</th>\n    </tr>\n  </thead>\n  <tbody>\n    <tr>\n      <th>0</th>\n      <td>11000000</td>\n      <td>2021-01-07</td>\n      <td>100</td>\n      <td>11000000</td>\n      <td>2021-01-07</td>\n    </tr>\n    <tr>\n      <th>1</th>\n      <td>11000000</td>\n      <td>2021-01-08</td>\n      <td>1900</td>\n      <td>11000000</td>\n      <td>2021-01-08</td>\n    </tr>\n    <tr>\n      <th>2</th>\n      <td>11000000</td>\n      <td>2021-01-09</td>\n      <td>2700</td>\n      <td>11000000</td>\n      <td>2021-01-09</td>\n    </tr>\n    <tr>\n      <th>3</th>\n      <td>11000000</td>\n      <td>2021-01-11</td>\n      <td>5700</td>\n      <td>11000000</td>\n      <td>2021-01-11</td>\n    </tr>\n    <tr>\n      <th>4</th>\n      <td>11000000</td>\n      <td>2021-01-12</td>\n      <td>23200</td>\n      <td>11000000</td>\n      <td>2021-01-12</td>\n    </tr>\n    <tr>\n      <th>5</th>\n      <td>11000000</td>\n      <td>2021-01-13</td>\n      <td>4700</td>\n      <td>11000000</td>\n      <td>2021-01-13</td>\n    </tr>\n    <tr>\n      <th>6</th>\n      <td>11000000</td>\n      <td>2021-01-14</td>\n      <td>7200</td>\n      <td>11000000</td>\n      <td>2021-01-14</td>\n    </tr>\n    <tr>\n      <th>7</th>\n      <td>11000000</td>\n      <td>2021-01-15</td>\n      <td>6800</td>\n      <td>11000000</td>\n      <td>2021-01-15</td>\n    </tr>\n    <tr>\n      <th>8</th>\n      <td>11000000</td>\n      <td>2021-01-16</td>\n      <td>1000</td>\n      <td>11000000</td>\n      <td>2021-01-16</td>\n    </tr>\n    <tr>\n      <th>9</th>\n      <td>11000000</td>\n      <td>2021-01-18</td>\n      <td>1100</td>\n      <td>11000000</td>\n      <td>2021-01-18</td>\n    </tr>\n  </tbody>\n</table>\n</div>"
     },
     "execution_count": 10,
     "metadata": {},
     "output_type": "execute_result"
    }
   ],
   "source": [
    "df = pd.read_csv('E:/Program/PKLProjekt/Jupyter/Sales-Forecasting/material_df.csv')\n",
    "df.info()\n",
    "df.head(10)"
   ]
  },
  {
   "cell_type": "code",
   "execution_count": 12,
   "id": "a76f4c5e",
   "metadata": {},
   "outputs": [
    {
     "name": "stdout",
     "output_type": "stream",
     "text": [
      "<class 'pandas.core.frame.DataFrame'>\n",
      "RangeIndex: 39961 entries, 0 to 39960\n",
      "Data columns (total 3 columns):\n",
      " #   Column        Non-Null Count  Dtype \n",
      "---  ------        --------------  ----- \n",
      " 0   material      39961 non-null  int64 \n",
      " 1   posting_date  39961 non-null  object\n",
      " 2   bill_qty_sku  39961 non-null  int64 \n",
      "dtypes: int64(2), object(1)\n",
      "memory usage: 936.7+ KB\n"
     ]
    },
    {
     "data": {
      "text/plain": "       material posting_date  bill_qty_sku\n0      11000000   2021-01-07           100\n1      11000000   2021-01-08          1900\n2      11000000   2021-01-09          2700\n3      11000000   2021-01-11          5700\n4      11000000   2021-01-12         23200\n...         ...          ...           ...\n39956  11002182   2021-05-28          1260\n39957  11002182   2021-05-29           700\n39958  11002182   2021-05-31          1400\n39959  11002198   2021-04-30           250\n39960  11002204   2021-05-11        499773\n\n[39961 rows x 3 columns]",
      "text/html": "<div>\n<style scoped>\n    .dataframe tbody tr th:only-of-type {\n        vertical-align: middle;\n    }\n\n    .dataframe tbody tr th {\n        vertical-align: top;\n    }\n\n    .dataframe thead th {\n        text-align: right;\n    }\n</style>\n<table border=\"1\" class=\"dataframe\">\n  <thead>\n    <tr style=\"text-align: right;\">\n      <th></th>\n      <th>material</th>\n      <th>posting_date</th>\n      <th>bill_qty_sku</th>\n    </tr>\n  </thead>\n  <tbody>\n    <tr>\n      <th>0</th>\n      <td>11000000</td>\n      <td>2021-01-07</td>\n      <td>100</td>\n    </tr>\n    <tr>\n      <th>1</th>\n      <td>11000000</td>\n      <td>2021-01-08</td>\n      <td>1900</td>\n    </tr>\n    <tr>\n      <th>2</th>\n      <td>11000000</td>\n      <td>2021-01-09</td>\n      <td>2700</td>\n    </tr>\n    <tr>\n      <th>3</th>\n      <td>11000000</td>\n      <td>2021-01-11</td>\n      <td>5700</td>\n    </tr>\n    <tr>\n      <th>4</th>\n      <td>11000000</td>\n      <td>2021-01-12</td>\n      <td>23200</td>\n    </tr>\n    <tr>\n      <th>...</th>\n      <td>...</td>\n      <td>...</td>\n      <td>...</td>\n    </tr>\n    <tr>\n      <th>39956</th>\n      <td>11002182</td>\n      <td>2021-05-28</td>\n      <td>1260</td>\n    </tr>\n    <tr>\n      <th>39957</th>\n      <td>11002182</td>\n      <td>2021-05-29</td>\n      <td>700</td>\n    </tr>\n    <tr>\n      <th>39958</th>\n      <td>11002182</td>\n      <td>2021-05-31</td>\n      <td>1400</td>\n    </tr>\n    <tr>\n      <th>39959</th>\n      <td>11002198</td>\n      <td>2021-04-30</td>\n      <td>250</td>\n    </tr>\n    <tr>\n      <th>39960</th>\n      <td>11002204</td>\n      <td>2021-05-11</td>\n      <td>499773</td>\n    </tr>\n  </tbody>\n</table>\n<p>39961 rows × 3 columns</p>\n</div>"
     },
     "execution_count": 12,
     "metadata": {},
     "output_type": "execute_result"
    }
   ],
   "source": [
    "df = df.drop(['material.1','posting_date.1'],axis=1)\n",
    "df.info()\n",
    "df"
   ]
  },
  {
   "cell_type": "code",
   "execution_count": 4,
   "id": "ffc48c1c",
   "metadata": {},
   "outputs": [],
   "source": [
    "monthly_data = df"
   ]
  },
  {
   "cell_type": "code",
   "execution_count": 5,
   "id": "c2b497c6",
   "metadata": {},
   "outputs": [
    {
     "name": "stdout",
     "output_type": "stream",
     "text": [
      "<class 'pandas.core.frame.DataFrame'>\n",
      "RangeIndex: 841600 entries, 0 to 841599\n",
      "Data columns (total 2 columns):\n",
      " #   Column           Non-Null Count   Dtype         \n",
      "---  ------           --------------   -----         \n",
      " 0   posting_date     841600 non-null  datetime64[ns]\n",
      " 1   total_penjualan  841600 non-null  object        \n",
      "dtypes: datetime64[ns](1), object(1)\n",
      "memory usage: 12.8+ MB\n"
     ]
    },
    {
     "data": {
      "text/html": [
       "<div>\n",
       "<style scoped>\n",
       "    .dataframe tbody tr th:only-of-type {\n",
       "        vertical-align: middle;\n",
       "    }\n",
       "\n",
       "    .dataframe tbody tr th {\n",
       "        vertical-align: top;\n",
       "    }\n",
       "\n",
       "    .dataframe thead th {\n",
       "        text-align: right;\n",
       "    }\n",
       "</style>\n",
       "<table border=\"1\" class=\"dataframe\">\n",
       "  <thead>\n",
       "    <tr style=\"text-align: right;\">\n",
       "      <th></th>\n",
       "      <th>posting_date</th>\n",
       "      <th>total_penjualan</th>\n",
       "    </tr>\n",
       "  </thead>\n",
       "  <tbody>\n",
       "    <tr>\n",
       "      <th>0</th>\n",
       "      <td>2021-02-11</td>\n",
       "      <td>172975.00</td>\n",
       "    </tr>\n",
       "    <tr>\n",
       "      <th>1</th>\n",
       "      <td>2021-02-11</td>\n",
       "      <td>66600.00</td>\n",
       "    </tr>\n",
       "    <tr>\n",
       "      <th>2</th>\n",
       "      <td>2021-02-11</td>\n",
       "      <td>71456.00</td>\n",
       "    </tr>\n",
       "    <tr>\n",
       "      <th>3</th>\n",
       "      <td>2021-02-11</td>\n",
       "      <td>71019.00</td>\n",
       "    </tr>\n",
       "    <tr>\n",
       "      <th>4</th>\n",
       "      <td>2021-02-11</td>\n",
       "      <td>167795.00</td>\n",
       "    </tr>\n",
       "  </tbody>\n",
       "</table>\n",
       "</div>"
      ],
      "text/plain": [
       "  posting_date total_penjualan\n",
       "0   2021-02-11       172975.00\n",
       "1   2021-02-11        66600.00\n",
       "2   2021-02-11        71456.00\n",
       "3   2021-02-11        71019.00\n",
       "4   2021-02-11       167795.00"
      ]
     },
     "execution_count": 5,
     "metadata": {},
     "output_type": "execute_result"
    }
   ],
   "source": [
    "monthly_data['posting_date'] = pd.to_datetime(monthly_data['posting_date'])\n",
    "monthly_data.info()\n",
    "monthly_data.head()"
   ]
  },
  {
   "cell_type": "code",
   "execution_count": 6,
   "id": "e4a07808",
   "metadata": {},
   "outputs": [
    {
     "name": "stdout",
     "output_type": "stream",
     "text": [
      "<class 'pandas.core.frame.DataFrame'>\n",
      "RangeIndex: 118 entries, 0 to 117\n",
      "Data columns (total 2 columns):\n",
      " #   Column           Non-Null Count  Dtype         \n",
      "---  ------           --------------  -----         \n",
      " 0   posting_date     118 non-null    datetime64[ns]\n",
      " 1   total_penjualan  118 non-null    float64       \n",
      "dtypes: datetime64[ns](1), float64(1)\n",
      "memory usage: 2.0 KB\n"
     ]
    },
    {
     "data": {
      "text/html": [
       "<div>\n",
       "<style scoped>\n",
       "    .dataframe tbody tr th:only-of-type {\n",
       "        vertical-align: middle;\n",
       "    }\n",
       "\n",
       "    .dataframe tbody tr th {\n",
       "        vertical-align: top;\n",
       "    }\n",
       "\n",
       "    .dataframe thead th {\n",
       "        text-align: right;\n",
       "    }\n",
       "</style>\n",
       "<table border=\"1\" class=\"dataframe\">\n",
       "  <thead>\n",
       "    <tr style=\"text-align: right;\">\n",
       "      <th></th>\n",
       "      <th>posting_date</th>\n",
       "      <th>total_penjualan</th>\n",
       "    </tr>\n",
       "  </thead>\n",
       "  <tbody>\n",
       "    <tr>\n",
       "      <th>0</th>\n",
       "      <td>2021-01-07</td>\n",
       "      <td>2.513559e+05</td>\n",
       "    </tr>\n",
       "    <tr>\n",
       "      <th>1</th>\n",
       "      <td>2021-01-08</td>\n",
       "      <td>5.945508e+05</td>\n",
       "    </tr>\n",
       "    <tr>\n",
       "      <th>2</th>\n",
       "      <td>2021-01-09</td>\n",
       "      <td>5.555348e+05</td>\n",
       "    </tr>\n",
       "    <tr>\n",
       "      <th>3</th>\n",
       "      <td>2021-01-11</td>\n",
       "      <td>4.832709e+05</td>\n",
       "    </tr>\n",
       "    <tr>\n",
       "      <th>4</th>\n",
       "      <td>2021-01-12</td>\n",
       "      <td>1.182430e+06</td>\n",
       "    </tr>\n",
       "  </tbody>\n",
       "</table>\n",
       "</div>"
      ],
      "text/plain": [
       "  posting_date  total_penjualan\n",
       "0   2021-01-07     2.513559e+05\n",
       "1   2021-01-08     5.945508e+05\n",
       "2   2021-01-09     5.555348e+05\n",
       "3   2021-01-11     4.832709e+05\n",
       "4   2021-01-12     1.182430e+06"
      ]
     },
     "execution_count": 6,
     "metadata": {},
     "output_type": "execute_result"
    }
   ],
   "source": [
    "monthly_data['total_penjualan'] = pd.to_numeric(monthly_data['total_penjualan'], errors='coerce')\n",
    "monthly_data = monthly_data.groupby('posting_date').mean().reset_index()\n",
    "monthly_data.info()\n",
    "monthly_data.head()"
   ]
  },
  {
   "cell_type": "code",
   "execution_count": 7,
   "id": "491d5220",
   "metadata": {},
   "outputs": [
    {
     "data": {
      "text/plain": [
       "Text(0, 0.5, 'sales')"
      ]
     },
     "execution_count": 7,
     "metadata": {},
     "output_type": "execute_result"
    },
    {
     "data": {
      "image/png": "[encoded data removed]",
      "text/plain": [
       "<Figure size 432x288 with 1 Axes>"
      ]
     },
     "metadata": {
      "needs_background": "light"
     },
     "output_type": "display_data"
    }
   ],
   "source": [
    "plt.plot(monthly_data['posting_date'], monthly_data['total_penjualan'])\n",
    "plt.xlabel('Date')\n",
    "plt.ylabel('sales')"
   ]
  },
  {
   "cell_type": "code",
   "execution_count": 15,
   "id": "6c4d9a5a",
   "metadata": {},
   "outputs": [],
   "source": [
    "supervised_data = monthly_data.drop(['posting_date'], axis = 1)"
   ]
  },
  {
   "cell_type": "code",
   "execution_count": 16,
   "id": "802f7d20",
   "metadata": {},
   "outputs": [
    {
     "name": "stdout",
     "output_type": "stream",
     "text": [
      "<class 'pandas.core.frame.DataFrame'>\n",
      "RangeIndex: 118 entries, 0 to 117\n",
      "Data columns (total 1 columns):\n",
      " #   Column           Non-Null Count  Dtype  \n",
      "---  ------           --------------  -----  \n",
      " 0   total_penjualan  118 non-null    float64\n",
      "dtypes: float64(1)\n",
      "memory usage: 1.0 KB\n"
     ]
    }
   ],
   "source": [
    "supervised_data.head()\n",
    "supervised_data.info()"
   ]
  },
  {
   "cell_type": "code",
   "execution_count": 17,
   "id": "57579869",
   "metadata": {},
   "outputs": [
    {
     "data": {
      "text/html": [
       "<div>\n",
       "<style scoped>\n",
       "    .dataframe tbody tr th:only-of-type {\n",
       "        vertical-align: middle;\n",
       "    }\n",
       "\n",
       "    .dataframe tbody tr th {\n",
       "        vertical-align: top;\n",
       "    }\n",
       "\n",
       "    .dataframe thead th {\n",
       "        text-align: right;\n",
       "    }\n",
       "</style>\n",
       "<table border=\"1\" class=\"dataframe\">\n",
       "  <thead>\n",
       "    <tr style=\"text-align: right;\">\n",
       "      <th></th>\n",
       "      <th>total_penjualan</th>\n",
       "      <th>month_1</th>\n",
       "      <th>month_2</th>\n",
       "      <th>month_3</th>\n",
       "      <th>month_4</th>\n",
       "      <th>month_5</th>\n",
       "      <th>month_6</th>\n",
       "      <th>month_7</th>\n",
       "      <th>month_8</th>\n",
       "      <th>month_9</th>\n",
       "      <th>...</th>\n",
       "      <th>month_20</th>\n",
       "      <th>month_21</th>\n",
       "      <th>month_22</th>\n",
       "      <th>month_23</th>\n",
       "      <th>month_24</th>\n",
       "      <th>month_25</th>\n",
       "      <th>month_26</th>\n",
       "      <th>month_27</th>\n",
       "      <th>month_28</th>\n",
       "      <th>month_29</th>\n",
       "    </tr>\n",
       "  </thead>\n",
       "  <tbody>\n",
       "    <tr>\n",
       "      <th>0</th>\n",
       "      <td>1.585592e+06</td>\n",
       "      <td>1.352804e+06</td>\n",
       "      <td>6.749466e+05</td>\n",
       "      <td>1.863090e+06</td>\n",
       "      <td>1.656699e+06</td>\n",
       "      <td>1.577183e+06</td>\n",
       "      <td>1.081620e+06</td>\n",
       "      <td>4.768919e+06</td>\n",
       "      <td>8.429147e+05</td>\n",
       "      <td>1.480980e+06</td>\n",
       "      <td>...</td>\n",
       "      <td>2.473927e+06</td>\n",
       "      <td>7.815582e+05</td>\n",
       "      <td>1.894416e+06</td>\n",
       "      <td>1.429257e+06</td>\n",
       "      <td>8.682038e+05</td>\n",
       "      <td>1.182430e+06</td>\n",
       "      <td>4.832709e+05</td>\n",
       "      <td>5.555348e+05</td>\n",
       "      <td>5.945508e+05</td>\n",
       "      <td>2.513559e+05</td>\n",
       "    </tr>\n",
       "    <tr>\n",
       "      <th>1</th>\n",
       "      <td>1.245011e+06</td>\n",
       "      <td>1.585592e+06</td>\n",
       "      <td>1.352804e+06</td>\n",
       "      <td>6.749466e+05</td>\n",
       "      <td>1.863090e+06</td>\n",
       "      <td>1.656699e+06</td>\n",
       "      <td>1.577183e+06</td>\n",
       "      <td>1.081620e+06</td>\n",
       "      <td>4.768919e+06</td>\n",
       "      <td>8.429147e+05</td>\n",
       "      <td>...</td>\n",
       "      <td>2.006929e+06</td>\n",
       "      <td>2.473927e+06</td>\n",
       "      <td>7.815582e+05</td>\n",
       "      <td>1.894416e+06</td>\n",
       "      <td>1.429257e+06</td>\n",
       "      <td>8.682038e+05</td>\n",
       "      <td>1.182430e+06</td>\n",
       "      <td>4.832709e+05</td>\n",
       "      <td>5.555348e+05</td>\n",
       "      <td>5.945508e+05</td>\n",
       "    </tr>\n",
       "    <tr>\n",
       "      <th>2</th>\n",
       "      <td>1.047885e+06</td>\n",
       "      <td>1.245011e+06</td>\n",
       "      <td>1.585592e+06</td>\n",
       "      <td>1.352804e+06</td>\n",
       "      <td>6.749466e+05</td>\n",
       "      <td>1.863090e+06</td>\n",
       "      <td>1.656699e+06</td>\n",
       "      <td>1.577183e+06</td>\n",
       "      <td>1.081620e+06</td>\n",
       "      <td>4.768919e+06</td>\n",
       "      <td>...</td>\n",
       "      <td>2.385314e+06</td>\n",
       "      <td>2.006929e+06</td>\n",
       "      <td>2.473927e+06</td>\n",
       "      <td>7.815582e+05</td>\n",
       "      <td>1.894416e+06</td>\n",
       "      <td>1.429257e+06</td>\n",
       "      <td>8.682038e+05</td>\n",
       "      <td>1.182430e+06</td>\n",
       "      <td>4.832709e+05</td>\n",
       "      <td>5.555348e+05</td>\n",
       "    </tr>\n",
       "    <tr>\n",
       "      <th>3</th>\n",
       "      <td>5.273029e+05</td>\n",
       "      <td>1.047885e+06</td>\n",
       "      <td>1.245011e+06</td>\n",
       "      <td>1.585592e+06</td>\n",
       "      <td>1.352804e+06</td>\n",
       "      <td>6.749466e+05</td>\n",
       "      <td>1.863090e+06</td>\n",
       "      <td>1.656699e+06</td>\n",
       "      <td>1.577183e+06</td>\n",
       "      <td>1.081620e+06</td>\n",
       "      <td>...</td>\n",
       "      <td>2.567238e+06</td>\n",
       "      <td>2.385314e+06</td>\n",
       "      <td>2.006929e+06</td>\n",
       "      <td>2.473927e+06</td>\n",
       "      <td>7.815582e+05</td>\n",
       "      <td>1.894416e+06</td>\n",
       "      <td>1.429257e+06</td>\n",
       "      <td>8.682038e+05</td>\n",
       "      <td>1.182430e+06</td>\n",
       "      <td>4.832709e+05</td>\n",
       "    </tr>\n",
       "    <tr>\n",
       "      <th>4</th>\n",
       "      <td>9.106434e+05</td>\n",
       "      <td>5.273029e+05</td>\n",
       "      <td>1.047885e+06</td>\n",
       "      <td>1.245011e+06</td>\n",
       "      <td>1.585592e+06</td>\n",
       "      <td>1.352804e+06</td>\n",
       "      <td>6.749466e+05</td>\n",
       "      <td>1.863090e+06</td>\n",
       "      <td>1.656699e+06</td>\n",
       "      <td>1.577183e+06</td>\n",
       "      <td>...</td>\n",
       "      <td>1.356262e+06</td>\n",
       "      <td>2.567238e+06</td>\n",
       "      <td>2.385314e+06</td>\n",
       "      <td>2.006929e+06</td>\n",
       "      <td>2.473927e+06</td>\n",
       "      <td>7.815582e+05</td>\n",
       "      <td>1.894416e+06</td>\n",
       "      <td>1.429257e+06</td>\n",
       "      <td>8.682038e+05</td>\n",
       "      <td>1.182430e+06</td>\n",
       "    </tr>\n",
       "    <tr>\n",
       "      <th>5</th>\n",
       "      <td>1.259240e+06</td>\n",
       "      <td>9.106434e+05</td>\n",
       "      <td>5.273029e+05</td>\n",
       "      <td>1.047885e+06</td>\n",
       "      <td>1.245011e+06</td>\n",
       "      <td>1.585592e+06</td>\n",
       "      <td>1.352804e+06</td>\n",
       "      <td>6.749466e+05</td>\n",
       "      <td>1.863090e+06</td>\n",
       "      <td>1.656699e+06</td>\n",
       "      <td>...</td>\n",
       "      <td>1.409551e+06</td>\n",
       "      <td>1.356262e+06</td>\n",
       "      <td>2.567238e+06</td>\n",
       "      <td>2.385314e+06</td>\n",
       "      <td>2.006929e+06</td>\n",
       "      <td>2.473927e+06</td>\n",
       "      <td>7.815582e+05</td>\n",
       "      <td>1.894416e+06</td>\n",
       "      <td>1.429257e+06</td>\n",
       "      <td>8.682038e+05</td>\n",
       "    </tr>\n",
       "    <tr>\n",
       "      <th>6</th>\n",
       "      <td>1.136129e+06</td>\n",
       "      <td>1.259240e+06</td>\n",
       "      <td>9.106434e+05</td>\n",
       "      <td>5.273029e+05</td>\n",
       "      <td>1.047885e+06</td>\n",
       "      <td>1.245011e+06</td>\n",
       "      <td>1.585592e+06</td>\n",
       "      <td>1.352804e+06</td>\n",
       "      <td>6.749466e+05</td>\n",
       "      <td>1.863090e+06</td>\n",
       "      <td>...</td>\n",
       "      <td>1.424118e+06</td>\n",
       "      <td>1.409551e+06</td>\n",
       "      <td>1.356262e+06</td>\n",
       "      <td>2.567238e+06</td>\n",
       "      <td>2.385314e+06</td>\n",
       "      <td>2.006929e+06</td>\n",
       "      <td>2.473927e+06</td>\n",
       "      <td>7.815582e+05</td>\n",
       "      <td>1.894416e+06</td>\n",
       "      <td>1.429257e+06</td>\n",
       "    </tr>\n",
       "    <tr>\n",
       "      <th>7</th>\n",
       "      <td>1.763693e+06</td>\n",
       "      <td>1.136129e+06</td>\n",
       "      <td>1.259240e+06</td>\n",
       "      <td>9.106434e+05</td>\n",
       "      <td>5.273029e+05</td>\n",
       "      <td>1.047885e+06</td>\n",
       "      <td>1.245011e+06</td>\n",
       "      <td>1.585592e+06</td>\n",
       "      <td>1.352804e+06</td>\n",
       "      <td>6.749466e+05</td>\n",
       "      <td>...</td>\n",
       "      <td>2.243813e+06</td>\n",
       "      <td>1.424118e+06</td>\n",
       "      <td>1.409551e+06</td>\n",
       "      <td>1.356262e+06</td>\n",
       "      <td>2.567238e+06</td>\n",
       "      <td>2.385314e+06</td>\n",
       "      <td>2.006929e+06</td>\n",
       "      <td>2.473927e+06</td>\n",
       "      <td>7.815582e+05</td>\n",
       "      <td>1.894416e+06</td>\n",
       "    </tr>\n",
       "    <tr>\n",
       "      <th>8</th>\n",
       "      <td>4.679418e+06</td>\n",
       "      <td>1.763693e+06</td>\n",
       "      <td>1.136129e+06</td>\n",
       "      <td>1.259240e+06</td>\n",
       "      <td>9.106434e+05</td>\n",
       "      <td>5.273029e+05</td>\n",
       "      <td>1.047885e+06</td>\n",
       "      <td>1.245011e+06</td>\n",
       "      <td>1.585592e+06</td>\n",
       "      <td>1.352804e+06</td>\n",
       "      <td>...</td>\n",
       "      <td>1.600047e+06</td>\n",
       "      <td>2.243813e+06</td>\n",
       "      <td>1.424118e+06</td>\n",
       "      <td>1.409551e+06</td>\n",
       "      <td>1.356262e+06</td>\n",
       "      <td>2.567238e+06</td>\n",
       "      <td>2.385314e+06</td>\n",
       "      <td>2.006929e+06</td>\n",
       "      <td>2.473927e+06</td>\n",
       "      <td>7.815582e+05</td>\n",
       "    </tr>\n",
       "    <tr>\n",
       "      <th>9</th>\n",
       "      <td>1.908404e+06</td>\n",
       "      <td>4.679418e+06</td>\n",
       "      <td>1.763693e+06</td>\n",
       "      <td>1.136129e+06</td>\n",
       "      <td>1.259240e+06</td>\n",
       "      <td>9.106434e+05</td>\n",
       "      <td>5.273029e+05</td>\n",
       "      <td>1.047885e+06</td>\n",
       "      <td>1.245011e+06</td>\n",
       "      <td>1.585592e+06</td>\n",
       "      <td>...</td>\n",
       "      <td>2.481478e+06</td>\n",
       "      <td>1.600047e+06</td>\n",
       "      <td>2.243813e+06</td>\n",
       "      <td>1.424118e+06</td>\n",
       "      <td>1.409551e+06</td>\n",
       "      <td>1.356262e+06</td>\n",
       "      <td>2.567238e+06</td>\n",
       "      <td>2.385314e+06</td>\n",
       "      <td>2.006929e+06</td>\n",
       "      <td>2.473927e+06</td>\n",
       "    </tr>\n",
       "  </tbody>\n",
       "</table>\n",
       "<p>10 rows × 30 columns</p>\n",
       "</div>"
      ],
      "text/plain": [
       "   total_penjualan       month_1       month_2       month_3       month_4  \\\n",
       "0     1.585592e+06  1.352804e+06  6.749466e+05  1.863090e+06  1.656699e+06   \n",
       "1     1.245011e+06  1.585592e+06  1.352804e+06  6.749466e+05  1.863090e+06   \n",
       "2     1.047885e+06  1.245011e+06  1.585592e+06  1.352804e+06  6.749466e+05   \n",
       "3     5.273029e+05  1.047885e+06  1.245011e+06  1.585592e+06  1.352804e+06   \n",
       "4     9.106434e+05  5.273029e+05  1.047885e+06  1.245011e+06  1.585592e+06   \n",
       "5     1.259240e+06  9.106434e+05  5.273029e+05  1.047885e+06  1.245011e+06   \n",
       "6     1.136129e+06  1.259240e+06  9.106434e+05  5.273029e+05  1.047885e+06   \n",
       "7     1.763693e+06  1.136129e+06  1.259240e+06  9.106434e+05  5.273029e+05   \n",
       "8     4.679418e+06  1.763693e+06  1.136129e+06  1.259240e+06  9.106434e+05   \n",
       "9     1.908404e+06  4.679418e+06  1.763693e+06  1.136129e+06  1.259240e+06   \n",
       "\n",
       "        month_5       month_6       month_7       month_8       month_9  ...  \\\n",
       "0  1.577183e+06  1.081620e+06  4.768919e+06  8.429147e+05  1.480980e+06  ...   \n",
       "1  1.656699e+06  1.577183e+06  1.081620e+06  4.768919e+06  8.429147e+05  ...   \n",
       "2  1.863090e+06  1.656699e+06  1.577183e+06  1.081620e+06  4.768919e+06  ...   \n",
       "3  6.749466e+05  1.863090e+06  1.656699e+06  1.577183e+06  1.081620e+06  ...   \n",
       "4  1.352804e+06  6.749466e+05  1.863090e+06  1.656699e+06  1.577183e+06  ...   \n",
       "5  1.585592e+06  1.352804e+06  6.749466e+05  1.863090e+06  1.656699e+06  ...   \n",
       "6  1.245011e+06  1.585592e+06  1.352804e+06  6.749466e+05  1.863090e+06  ...   \n",
       "7  1.047885e+06  1.245011e+06  1.585592e+06  1.352804e+06  6.749466e+05  ...   \n",
       "8  5.273029e+05  1.047885e+06  1.245011e+06  1.585592e+06  1.352804e+06  ...   \n",
       "9  9.106434e+05  5.273029e+05  1.047885e+06  1.245011e+06  1.585592e+06  ...   \n",
       "\n",
       "       month_20      month_21      month_22      month_23      month_24  \\\n",
       "0  2.473927e+06  7.815582e+05  1.894416e+06  1.429257e+06  8.682038e+05   \n",
       "1  2.006929e+06  2.473927e+06  7.815582e+05  1.894416e+06  1.429257e+06   \n",
       "2  2.385314e+06  2.006929e+06  2.473927e+06  7.815582e+05  1.894416e+06   \n",
       "3  2.567238e+06  2.385314e+06  2.006929e+06  2.473927e+06  7.815582e+05   \n",
       "4  1.356262e+06  2.567238e+06  2.385314e+06  2.006929e+06  2.473927e+06   \n",
       "5  1.409551e+06  1.356262e+06  2.567238e+06  2.385314e+06  2.006929e+06   \n",
       "6  1.424118e+06  1.409551e+06  1.356262e+06  2.567238e+06  2.385314e+06   \n",
       "7  2.243813e+06  1.424118e+06  1.409551e+06  1.356262e+06  2.567238e+06   \n",
       "8  1.600047e+06  2.243813e+06  1.424118e+06  1.409551e+06  1.356262e+06   \n",
       "9  2.481478e+06  1.600047e+06  2.243813e+06  1.424118e+06  1.409551e+06   \n",
       "\n",
       "       month_25      month_26      month_27      month_28      month_29  \n",
       "0  1.182430e+06  4.832709e+05  5.555348e+05  5.945508e+05  2.513559e+05  \n",
       "1  8.682038e+05  1.182430e+06  4.832709e+05  5.555348e+05  5.945508e+05  \n",
       "2  1.429257e+06  8.682038e+05  1.182430e+06  4.832709e+05  5.555348e+05  \n",
       "3  1.894416e+06  1.429257e+06  8.682038e+05  1.182430e+06  4.832709e+05  \n",
       "4  7.815582e+05  1.894416e+06  1.429257e+06  8.682038e+05  1.182430e+06  \n",
       "5  2.473927e+06  7.815582e+05  1.894416e+06  1.429257e+06  8.682038e+05  \n",
       "6  2.006929e+06  2.473927e+06  7.815582e+05  1.894416e+06  1.429257e+06  \n",
       "7  2.385314e+06  2.006929e+06  2.473927e+06  7.815582e+05  1.894416e+06  \n",
       "8  2.567238e+06  2.385314e+06  2.006929e+06  2.473927e+06  7.815582e+05  \n",
       "9  1.356262e+06  2.567238e+06  2.385314e+06  2.006929e+06  2.473927e+06  \n",
       "\n",
       "[10 rows x 30 columns]"
      ]
     },
     "execution_count": 17,
     "metadata": {},
     "output_type": "execute_result"
    }
   ],
   "source": [
    "for i in range(1,30):\n",
    "    col_name = 'month_' + str(i)\n",
    "    supervised_data[col_name] = supervised_data['total_penjualan'].shift(i)\n",
    "supervised_data = supervised_data.dropna().reset_index(drop=True)\n",
    "supervised_data.head(10)"
   ]
  },
  {
   "cell_type": "code",
   "execution_count": 18,
   "id": "477f7ec0",
   "metadata": {},
   "outputs": [],
   "source": [
    "train_data = supervised_data[:-29]\n",
    "test_data = supervised_data[-29:]\n",
    "scaler = MinMaxScaler(feature_range=(-1,1))\n",
    "scaler.fit(train_data)\n",
    "train_data = scaler.transform(train_data)\n",
    "test_data = scaler.transform(test_data)\n",
    "X_train, y_train = train_data[:,1:], train_data[:,0:1]\n",
    "X_test, y_test = test_data[:,1:], test_data[:,0:1]\n",
    "y_train = y_train.ravel()\n",
    "y_test = y_test.ravel()"
   ]
  },
  {
   "cell_type": "code",
   "execution_count": 19,
   "id": "91408a3b",
   "metadata": {},
   "outputs": [
    {
     "data": {
      "text/plain": [
       "(29, 29)"
      ]
     },
     "execution_count": 19,
     "metadata": {},
     "output_type": "execute_result"
    }
   ],
   "source": [
    "X_test.shape"
   ]
  },
  {
   "cell_type": "code",
   "execution_count": 20,
   "id": "29ca23c9",
   "metadata": {},
   "outputs": [],
   "source": [
    "sales_dates = monthly_data['posting_date'][-29:].reset_index(drop=True)\n",
    "predict_df = pd.DataFrame(sales_dates)\n",
    "act_sales = monthly_data['total_penjualan'][-30:].to_list()"
   ]
  },
  {
   "cell_type": "code",
   "execution_count": 21,
   "id": "f2660856",
   "metadata": {},
   "outputs": [],
   "source": [
    "X_train_lstm = X_train.reshape(X_train.shape[0], 1, X_train.shape[1])\n",
    "X_test_lstm = X_test.reshape(X_test.shape[0], 1, X_test.shape[1])"
   ]
  },
  {
   "cell_type": "code",
   "execution_count": 15,
   "id": "83dad760",
   "metadata": {},
   "outputs": [],
   "source": [
    "model = tf.keras.models.Sequential()\n",
    "model.add(LSTM(4, batch_input_shape=(1, X_train_lstm.shape[1], X_test_lstm.shape[2])))\n",
    "model.add(Dense(10, activation='relu'))\n",
    "model.add(Dense(1))\n",
    "model.compile(loss='mean_squared_error',\n",
    "optimizer = keras.optimizers.Adam(1e-3))"
   ]
  },
  {
   "cell_type": "code",
   "execution_count": 22,
   "id": "ec3d3bbf",
   "metadata": {},
   "outputs": [],
   "source": [
    "model = tf.keras.models.load_model('/Users/muham/Machine-Learning/Sales-Forecasting/Model/LSTM_model_total-lagged.h5')"
   ]
  },
  {
   "cell_type": "code",
   "execution_count": 23,
   "id": "d8914637",
   "metadata": {},
   "outputs": [],
   "source": [
    "model.compile(loss='mean_squared_error',\n",
    "optimizer = keras.optimizers.Adam(1e-3))\n",
    "def lrdecay(epoch):\n",
    "    lr = 1e-3\n",
    "    if epoch > 195:\n",
    "        lr *= 0.5e-4\n",
    "    elif epoch > 100:\n",
    "        lr *= 1e-3\n",
    "    elif epoch > 50:\n",
    "        lr *= 1e-2\n",
    "    elif epoch > 10:\n",
    "        lr *= 1e-1\n",
    "    #print('Learning rate: ', lr)\n",
    "    return lr\n",
    "      # if epoch < 40:\n",
    "    #   return 0.01\n",
    "      # else:\n",
    "      #   return 0.01 * np.math.exp(0.03 * (40 - epoch))\n",
    "lrdecay = tf.keras.callbacks.LearningRateScheduler(lrdecay) # learning rate decay  "
   ]
  },
  {
   "cell_type": "code",
   "execution_count": 24,
   "id": "9f129a8c",
   "metadata": {},
   "outputs": [
    {
     "name": "stdout",
     "output_type": "stream",
     "text": [
      "Epoch 1/50\n",
      "60/60 [==============================] - 4s 8ms/step - loss: 0.0467 - val_loss: 0.0189 - lr: 0.0010\n",
      "Epoch 2/50\n",
      "60/60 [==============================] - 0s 4ms/step - loss: 0.0396 - val_loss: 0.0175 - lr: 0.0010\n",
      "Epoch 3/50\n",
      "60/60 [==============================] - 0s 3ms/step - loss: 0.0389 - val_loss: 0.0174 - lr: 0.0010\n",
      "Epoch 4/50\n",
      "60/60 [==============================] - 0s 3ms/step - loss: 0.0378 - val_loss: 0.0175 - lr: 0.0010\n",
      "Epoch 5/50\n",
      "60/60 [==============================] - 0s 3ms/step - loss: 0.0375 - val_loss: 0.0178 - lr: 0.0010\n",
      "Epoch 6/50\n",
      "60/60 [==============================] - 0s 3ms/step - loss: 0.0367 - val_loss: 0.0177 - lr: 0.0010\n",
      "Epoch 7/50\n",
      "60/60 [==============================] - 0s 3ms/step - loss: 0.0362 - val_loss: 0.0177 - lr: 0.0010\n",
      "Epoch 8/50\n",
      "60/60 [==============================] - 0s 3ms/step - loss: 0.0354 - val_loss: 0.0177 - lr: 0.0010\n",
      "Epoch 9/50\n",
      "60/60 [==============================] - 0s 3ms/step - loss: 0.0354 - val_loss: 0.0179 - lr: 0.0010\n",
      "Epoch 10/50\n",
      "60/60 [==============================] - 0s 3ms/step - loss: 0.0345 - val_loss: 0.0178 - lr: 0.0010\n",
      "Epoch 11/50\n",
      "60/60 [==============================] - 0s 3ms/step - loss: 0.0339 - val_loss: 0.0182 - lr: 0.0010\n",
      "Epoch 12/50\n",
      "60/60 [==============================] - 0s 3ms/step - loss: 0.0333 - val_loss: 0.0182 - lr: 1.0000e-04\n",
      "Epoch 13/50\n",
      "60/60 [==============================] - 0s 3ms/step - loss: 0.0333 - val_loss: 0.0181 - lr: 1.0000e-04\n",
      "Epoch 14/50\n",
      "60/60 [==============================] - 0s 3ms/step - loss: 0.0331 - val_loss: 0.0181 - lr: 1.0000e-04\n",
      "Epoch 15/50\n",
      "60/60 [==============================] - 0s 3ms/step - loss: 0.0331 - val_loss: 0.0181 - lr: 1.0000e-04\n",
      "Epoch 16/50\n",
      "60/60 [==============================] - 0s 3ms/step - loss: 0.0331 - val_loss: 0.0181 - lr: 1.0000e-04\n",
      "Epoch 17/50\n",
      "60/60 [==============================] - 0s 3ms/step - loss: 0.0330 - val_loss: 0.0181 - lr: 1.0000e-04\n",
      "Epoch 18/50\n",
      "60/60 [==============================] - 0s 3ms/step - loss: 0.0329 - val_loss: 0.0180 - lr: 1.0000e-04\n",
      "Epoch 19/50\n",
      "60/60 [==============================] - 0s 3ms/step - loss: 0.0329 - val_loss: 0.0180 - lr: 1.0000e-04\n",
      "Epoch 20/50\n",
      "60/60 [==============================] - 0s 3ms/step - loss: 0.0329 - val_loss: 0.0180 - lr: 1.0000e-04\n",
      "Epoch 21/50\n",
      "60/60 [==============================] - 0s 5ms/step - loss: 0.0328 - val_loss: 0.0180 - lr: 1.0000e-04\n",
      "Epoch 22/50\n",
      "60/60 [==============================] - 0s 3ms/step - loss: 0.0328 - val_loss: 0.0180 - lr: 1.0000e-04\n",
      "Epoch 23/50\n",
      "60/60 [==============================] - 0s 3ms/step - loss: 0.0327 - val_loss: 0.0180 - lr: 1.0000e-04\n",
      "Epoch 24/50\n",
      "60/60 [==============================] - 0s 3ms/step - loss: 0.0326 - val_loss: 0.0180 - lr: 1.0000e-04\n",
      "Epoch 25/50\n",
      "60/60 [==============================] - 0s 3ms/step - loss: 0.0326 - val_loss: 0.0180 - lr: 1.0000e-04\n",
      "Epoch 26/50\n",
      "60/60 [==============================] - 0s 3ms/step - loss: 0.0326 - val_loss: 0.0180 - lr: 1.0000e-04\n",
      "Epoch 27/50\n",
      "60/60 [==============================] - 0s 3ms/step - loss: 0.0325 - val_loss: 0.0180 - lr: 1.0000e-04\n",
      "Epoch 28/50\n",
      "60/60 [==============================] - 0s 3ms/step - loss: 0.0326 - val_loss: 0.0180 - lr: 1.0000e-04\n",
      "Epoch 29/50\n",
      "60/60 [==============================] - 0s 3ms/step - loss: 0.0325 - val_loss: 0.0180 - lr: 1.0000e-04\n",
      "Epoch 30/50\n",
      "60/60 [==============================] - 0s 3ms/step - loss: 0.0325 - val_loss: 0.0180 - lr: 1.0000e-04\n",
      "Epoch 31/50\n",
      "60/60 [==============================] - 0s 3ms/step - loss: 0.0324 - val_loss: 0.0180 - lr: 1.0000e-04\n",
      "Epoch 32/50\n",
      "60/60 [==============================] - 0s 3ms/step - loss: 0.0324 - val_loss: 0.0180 - lr: 1.0000e-04\n",
      "Epoch 33/50\n",
      "60/60 [==============================] - 0s 3ms/step - loss: 0.0323 - val_loss: 0.0180 - lr: 1.0000e-04\n",
      "Epoch 34/50\n",
      "60/60 [==============================] - 0s 3ms/step - loss: 0.0323 - val_loss: 0.0180 - lr: 1.0000e-04\n",
      "Epoch 35/50\n",
      "60/60 [==============================] - 0s 3ms/step - loss: 0.0322 - val_loss: 0.0180 - lr: 1.0000e-04\n",
      "Epoch 36/50\n",
      "60/60 [==============================] - 0s 3ms/step - loss: 0.0322 - val_loss: 0.0180 - lr: 1.0000e-04\n",
      "Epoch 37/50\n",
      "60/60 [==============================] - 0s 3ms/step - loss: 0.0321 - val_loss: 0.0180 - lr: 1.0000e-04\n",
      "Epoch 38/50\n",
      "60/60 [==============================] - 0s 3ms/step - loss: 0.0321 - val_loss: 0.0180 - lr: 1.0000e-04\n",
      "Epoch 39/50\n",
      "60/60 [==============================] - 0s 3ms/step - loss: 0.0321 - val_loss: 0.0180 - lr: 1.0000e-04\n",
      "Epoch 40/50\n",
      "60/60 [==============================] - 0s 4ms/step - loss: 0.0320 - val_loss: 0.0180 - lr: 1.0000e-04\n",
      "Epoch 41/50\n",
      "60/60 [==============================] - 0s 3ms/step - loss: 0.0320 - val_loss: 0.0180 - lr: 1.0000e-04\n",
      "Epoch 42/50\n",
      "60/60 [==============================] - 0s 3ms/step - loss: 0.0319 - val_loss: 0.0180 - lr: 1.0000e-04\n",
      "Epoch 43/50\n",
      "60/60 [==============================] - 0s 3ms/step - loss: 0.0319 - val_loss: 0.0180 - lr: 1.0000e-04\n",
      "Epoch 44/50\n",
      "60/60 [==============================] - 0s 3ms/step - loss: 0.0319 - val_loss: 0.0180 - lr: 1.0000e-04\n",
      "Epoch 45/50\n",
      "60/60 [==============================] - 0s 3ms/step - loss: 0.0318 - val_loss: 0.0181 - lr: 1.0000e-04\n",
      "Epoch 46/50\n",
      "60/60 [==============================] - 0s 3ms/step - loss: 0.0318 - val_loss: 0.0181 - lr: 1.0000e-04\n",
      "Epoch 47/50\n",
      "60/60 [==============================] - 0s 3ms/step - loss: 0.0317 - val_loss: 0.0180 - lr: 1.0000e-04\n",
      "Epoch 48/50\n",
      "60/60 [==============================] - 0s 3ms/step - loss: 0.0317 - val_loss: 0.0180 - lr: 1.0000e-04\n",
      "Epoch 49/50\n",
      "60/60 [==============================] - 0s 3ms/step - loss: 0.0316 - val_loss: 0.0180 - lr: 1.0000e-04\n",
      "Epoch 50/50\n",
      "60/60 [==============================] - 0s 3ms/step - loss: 0.0316 - val_loss: 0.0180 - lr: 1.0000e-04\n"
     ]
    }
   ],
   "source": [
    "history = model.fit(X_train_lstm, y_train, \n",
    "                    epochs=50, \n",
    "                    batch_size=1, \n",
    "                    validation_data=(X_test_lstm, y_test), \n",
    "                    callbacks=[lrdecay])"
   ]
  },
  {
   "cell_type": "code",
   "execution_count": 32,
   "id": "430fd667",
   "metadata": {},
   "outputs": [
    {
     "data": {
      "text/plain": [
       "(29, 30)"
      ]
     },
     "execution_count": 32,
     "metadata": {},
     "output_type": "execute_result"
    }
   ],
   "source": [
    "lstm_pred = model.predict(X_test_lstm, batch_size=1)\n",
    "lstm_pred = lstm_pred.reshape(-1,1)\n",
    "lstm_pred_test_set = np.concatenate([lstm_pred,X_test], axis=1)\n",
    "lstm_pred_test_set = scaler.inverse_transform(lstm_pred_test_set)\n",
    "lstm_pred_test_set.shape\n"
   ]
  },
  {
   "cell_type": "code",
   "execution_count": 19,
   "id": "b274985e",
   "metadata": {},
   "outputs": [
    {
     "data": {
      "image/png": "[encoded data removed]",
      "text/plain": [
       "<Figure size 1080x504 with 1 Axes>"
      ]
     },
     "metadata": {
      "needs_background": "light"
     },
     "output_type": "display_data"
    }
   ],
   "source": [
    "plt.figure(figsize=(15,7))\n",
    "plt.plot(monthly_data['posting_date'], monthly_data['total_penjualan'])\n",
    "plt.plot(predict_df['posting_date'], predict_df['lstm_pred'])\n",
    "plt.title(\"Customer Sales Forecast using LSTM\")\n",
    "plt.xlabel(\"Date\")\n",
    "plt.ylabel(\"Sales\")\n",
    "plt.legend([\"Original Sales\", \"Predicted Sales\"])\n",
    "plt.show()"
   ]
  },
  {
   "cell_type": "code",
   "execution_count": 22,
   "id": "d8a02c99",
   "metadata": {},
   "outputs": [],
   "source": [
    "tf.keras.models.save_model(model, '/Users/muham/Machine-Learning/Sales-Forecasting/Model/LSTM_model.h5')"
   ]
  },
  {
   "cell_type": "code",
   "execution_count": 95,
   "id": "afc39248",
   "metadata": {},
   "outputs": [
    {
     "name": "stdout",
     "output_type": "stream",
     "text": [
      "<class 'pandas.core.frame.DataFrame'>\n",
      "Int64Index: 117 entries, 1 to 117\n",
      "Data columns (total 3 columns):\n",
      " #   Column           Non-Null Count  Dtype         \n",
      "---  ------           --------------  -----         \n",
      " 0   posting_date     117 non-null    datetime64[ns]\n",
      " 1   total_penjualan  117 non-null    float64       \n",
      " 2   sales_diff       117 non-null    float64       \n",
      "dtypes: datetime64[ns](1), float64(2)\n",
      "memory usage: 3.7 KB\n"
     ]
    }
   ],
   "source": [
    "monthly_data.info()"
   ]
  },
  {
   "cell_type": "code",
   "execution_count": null,
   "id": "060e92da",
   "metadata": {},
   "outputs": [],
   "source": []
  }
 ],
 "metadata": {
  "kernelspec": {
   "display_name": "Python 3.10 (tensorflow)",
   "language": "python",
   "name": "tensorflow"
  },
  "language_info": {
   "codemirror_mode": {
    "name": "ipython",
    "version": 3
   },
   "file_extension": ".py",
   "mimetype": "text/x-python",
   "name": "python",
   "nbconvert_exporter": "python",
   "pygments_lexer": "ipython3",
   "version": "3.10.0"
  }
 },
 "nbformat": 4,
 "nbformat_minor": 5
}
