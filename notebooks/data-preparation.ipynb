{
 "cells": [
  {
   "cell_type": "code",
   "execution_count": 1,
   "id": "a483c9e8",
   "metadata": {},
   "outputs": [],
   "source": [
    "import pandas as pd\n",
    "import psycopg2\n",
    "from psycopg2 import Error"
   ]
  },
  {
   "cell_type": "code",
   "execution_count": 2,
   "id": "e5ca6197",
   "metadata": {},
   "outputs": [
    {
     "name": "stdout",
     "output_type": "stream",
     "text": [
      "PostgreSQL server information\n",
      "{'user': 'user', 'channel_binding': 'prefer', 'dbname': 'dwh-supplychain', 'host': '34.101.98.206', 'port': '5432', 'options': '', 'sslmode': 'prefer', 'sslcompression': '0', 'sslsni': '1', 'ssl_min_protocol_version': 'TLSv1.2', 'gssencmode': 'disable', 'krbsrvname': 'postgres', 'target_session_attrs': 'any'} \n",
      "\n",
      "You are connected to -  ('PostgreSQL 14.4 on x86_64-pc-linux-gnu, compiled by Debian clang version 12.0.1, 64-bit',) \n",
      "\n",
      "<class 'pandas.core.frame.DataFrame'>\n",
      "RangeIndex: 841600 entries, 0 to 841599\n",
      "Data columns (total 6 columns):\n",
      " #   Column             Non-Null Count   Dtype \n",
      "---  ------             --------------   ----- \n",
      " 0   plant              841600 non-null  object\n",
      " 1   plant_description  841600 non-null  object\n",
      " 2   posting_date       841600 non-null  object\n",
      " 3   material           841600 non-null  object\n",
      " 4   bill_qty_sku       841600 non-null  object\n",
      " 5   material_desc      841600 non-null  object\n",
      "dtypes: object(6)\n",
      "memory usage: 38.5+ MB\n"
     ]
    },
    {
     "data": {
      "text/plain": "  plant plant_description posting_date  material bill_qty_sku  \\\n0  2216      KFTD Bandung   2021-03-27  11000385        96.00   \n1  2218        KFTD Bogor   2021-03-31  11000262       200.00   \n2  2218        KFTD Bogor   2021-03-31  11000113       500.00   \n3  2218        KFTD Bogor   2021-03-31  11000383        25.00   \n4  2218        KFTD Bogor   2021-03-31  11000113       100.00   \n\n                             material_desc  \n0         BETASON CREAM (DUS 24 TUB @ 5 G)  \n1            SALBUTAMOL 4 MG (DUS 100 TAB)  \n2     NITROKAF RETARD KAPSUL (DUS 100 KPS)  \n3  BETAMETASON 0.1% CR(DUS 25 TUBE@5 GRAM)  \n4     NITROKAF RETARD KAPSUL (DUS 100 KPS)  ",
      "text/html": "<div>\n<style scoped>\n    .dataframe tbody tr th:only-of-type {\n        vertical-align: middle;\n    }\n\n    .dataframe tbody tr th {\n        vertical-align: top;\n    }\n\n    .dataframe thead th {\n        text-align: right;\n    }\n</style>\n<table border=\"1\" class=\"dataframe\">\n  <thead>\n    <tr style=\"text-align: right;\">\n      <th></th>\n      <th>plant</th>\n      <th>plant_description</th>\n      <th>posting_date</th>\n      <th>material</th>\n      <th>bill_qty_sku</th>\n      <th>material_desc</th>\n    </tr>\n  </thead>\n  <tbody>\n    <tr>\n      <th>0</th>\n      <td>2216</td>\n      <td>KFTD Bandung</td>\n      <td>2021-03-27</td>\n      <td>11000385</td>\n      <td>96.00</td>\n      <td>BETASON CREAM (DUS 24 TUB @ 5 G)</td>\n    </tr>\n    <tr>\n      <th>1</th>\n      <td>2218</td>\n      <td>KFTD Bogor</td>\n      <td>2021-03-31</td>\n      <td>11000262</td>\n      <td>200.00</td>\n      <td>SALBUTAMOL 4 MG (DUS 100 TAB)</td>\n    </tr>\n    <tr>\n      <th>2</th>\n      <td>2218</td>\n      <td>KFTD Bogor</td>\n      <td>2021-03-31</td>\n      <td>11000113</td>\n      <td>500.00</td>\n      <td>NITROKAF RETARD KAPSUL (DUS 100 KPS)</td>\n    </tr>\n    <tr>\n      <th>3</th>\n      <td>2218</td>\n      <td>KFTD Bogor</td>\n      <td>2021-03-31</td>\n      <td>11000383</td>\n      <td>25.00</td>\n      <td>BETAMETASON 0.1% CR(DUS 25 TUBE@5 GRAM)</td>\n    </tr>\n    <tr>\n      <th>4</th>\n      <td>2218</td>\n      <td>KFTD Bogor</td>\n      <td>2021-03-31</td>\n      <td>11000113</td>\n      <td>100.00</td>\n      <td>NITROKAF RETARD KAPSUL (DUS 100 KPS)</td>\n    </tr>\n  </tbody>\n</table>\n</div>"
     },
     "execution_count": 2,
     "metadata": {},
     "output_type": "execute_result"
    }
   ],
   "source": [
    "try:\n",
    "    # Connect to an existing database\n",
    "    connection = psycopg2.connect(user=\"user\",\n",
    "                                password=\"batugin2\",\n",
    "                                host=\"34.101.98.206\",\n",
    "                                port=\"5432\",\n",
    "                                database=\"dwh-supplychain\")\n",
    "\n",
    "    # Create a cursor to perform database operations\n",
    "    cursor = connection.cursor()\n",
    "    # Print PostgreSQL details\n",
    "    print(\"PostgreSQL server information\")\n",
    "    print(connection.get_dsn_parameters(), \"\\n\")\n",
    "    # Executing a SQL query\n",
    "    cursor.execute(\"SELECT version();\")\n",
    "    # Fetch result\n",
    "    record = cursor.fetchone()\n",
    "    print(\"You are connected to - \", record, \"\\n\")\n",
    "except (Exception, Error) as error:\n",
    "    print(\"Error while connecting to PostgreSQL\", error)\n",
    "\n",
    "cursor.execute('''SELECT plant, plant_description, posting_date, material, bill_qty_sku, material_desc FROM v_sales_2021''')\n",
    "data = cursor.fetchall()\n",
    "\n",
    "col = []\n",
    "for elt in cursor.description:\n",
    "    col.append(elt[0])\n",
    "\n",
    "df=pd.DataFrame(data=data, columns=col)\n",
    "df.info()\n",
    "df.head()"
   ]
  },
  {
   "cell_type": "code",
   "execution_count": 3,
   "id": "cb8d19ca",
   "metadata": {},
   "outputs": [
    {
     "data": {
      "text/plain": "['plant',\n 'plant_description',\n 'posting_date',\n 'material',\n 'bill_qty_sku',\n 'material_desc']"
     },
     "execution_count": 3,
     "metadata": {},
     "output_type": "execute_result"
    }
   ],
   "source": [
    "df_column = list(df.columns)\n",
    "df_column"
   ]
  },
  {
   "cell_type": "code",
   "execution_count": 4,
   "id": "465c04dd",
   "metadata": {},
   "outputs": [
    {
     "name": "stdout",
     "output_type": "stream",
     "text": [
      "<class 'pandas.core.frame.DataFrame'>\n",
      "RangeIndex: 841600 entries, 0 to 841599\n",
      "Data columns (total 6 columns):\n",
      " #   Column             Non-Null Count   Dtype         \n",
      "---  ------             --------------   -----         \n",
      " 0   plant              841600 non-null  int64         \n",
      " 1   plant_description  841600 non-null  object        \n",
      " 2   posting_date       841600 non-null  datetime64[ns]\n",
      " 3   material           841600 non-null  int64         \n",
      " 4   bill_qty_sku       841600 non-null  int64         \n",
      " 5   material_desc      841600 non-null  object        \n",
      "dtypes: datetime64[ns](1), int64(3), object(2)\n",
      "memory usage: 38.5+ MB\n",
      "2021-01-07 00:00:00\n",
      "2021-05-31 00:00:00\n"
     ]
    },
    {
     "data": {
      "text/plain": "        plant     plant_description posting_date  material  bill_qty_sku  \\\n0        2216          KFTD Bandung   2021-03-27  11000385            96   \n1        2218            KFTD Bogor   2021-03-31  11000262           200   \n2        2218            KFTD Bogor   2021-03-31  11000113           500   \n3        2218            KFTD Bogor   2021-03-31  11000383            25   \n4        2218            KFTD Bogor   2021-03-31  11000113           100   \n...       ...                   ...          ...       ...           ...   \n841595   2203  KFTD Pematangsiantar   2021-02-27  11000113          1000   \n841596   2203  KFTD Pematangsiantar   2021-02-27  11000113          3000   \n841597   2203  KFTD Pematangsiantar   2021-02-27  11000257          4000   \n841598   2203  KFTD Pematangsiantar   2021-02-27  11000391           100   \n841599   2212        KFTD Jakarta 1   2021-03-09  11000497            10   \n\n                                   material_desc  \n0               BETASON CREAM (DUS 24 TUB @ 5 G)  \n1                  SALBUTAMOL 4 MG (DUS 100 TAB)  \n2           NITROKAF RETARD KAPSUL (DUS 100 KPS)  \n3        BETAMETASON 0.1% CR(DUS 25 TUBE@5 GRAM)  \n4           NITROKAF RETARD KAPSUL (DUS 100 KPS)  \n...                                          ...  \n841595      NITROKAF RETARD KAPSUL (DUS 100 KPS)  \n841596      NITROKAF RETARD KAPSUL (DUS 100 KPS)  \n841597            RETAPHYL SR-STRIP 10X10 TABLET  \n841598  GENTAMYCIN 0.1  % (DUS 10 TUBE @ 5 GRAM)  \n841599               DUROGESIC 25 MU MATRIX (YS)  \n\n[841600 rows x 6 columns]",
      "text/html": "<div>\n<style scoped>\n    .dataframe tbody tr th:only-of-type {\n        vertical-align: middle;\n    }\n\n    .dataframe tbody tr th {\n        vertical-align: top;\n    }\n\n    .dataframe thead th {\n        text-align: right;\n    }\n</style>\n<table border=\"1\" class=\"dataframe\">\n  <thead>\n    <tr style=\"text-align: right;\">\n      <th></th>\n      <th>plant</th>\n      <th>plant_description</th>\n      <th>posting_date</th>\n      <th>material</th>\n      <th>bill_qty_sku</th>\n      <th>material_desc</th>\n    </tr>\n  </thead>\n  <tbody>\n    <tr>\n      <th>0</th>\n      <td>2216</td>\n      <td>KFTD Bandung</td>\n      <td>2021-03-27</td>\n      <td>11000385</td>\n      <td>96</td>\n      <td>BETASON CREAM (DUS 24 TUB @ 5 G)</td>\n    </tr>\n    <tr>\n      <th>1</th>\n      <td>2218</td>\n      <td>KFTD Bogor</td>\n      <td>2021-03-31</td>\n      <td>11000262</td>\n      <td>200</td>\n      <td>SALBUTAMOL 4 MG (DUS 100 TAB)</td>\n    </tr>\n    <tr>\n      <th>2</th>\n      <td>2218</td>\n      <td>KFTD Bogor</td>\n      <td>2021-03-31</td>\n      <td>11000113</td>\n      <td>500</td>\n      <td>NITROKAF RETARD KAPSUL (DUS 100 KPS)</td>\n    </tr>\n    <tr>\n      <th>3</th>\n      <td>2218</td>\n      <td>KFTD Bogor</td>\n      <td>2021-03-31</td>\n      <td>11000383</td>\n      <td>25</td>\n      <td>BETAMETASON 0.1% CR(DUS 25 TUBE@5 GRAM)</td>\n    </tr>\n    <tr>\n      <th>4</th>\n      <td>2218</td>\n      <td>KFTD Bogor</td>\n      <td>2021-03-31</td>\n      <td>11000113</td>\n      <td>100</td>\n      <td>NITROKAF RETARD KAPSUL (DUS 100 KPS)</td>\n    </tr>\n    <tr>\n      <th>...</th>\n      <td>...</td>\n      <td>...</td>\n      <td>...</td>\n      <td>...</td>\n      <td>...</td>\n      <td>...</td>\n    </tr>\n    <tr>\n      <th>841595</th>\n      <td>2203</td>\n      <td>KFTD Pematangsiantar</td>\n      <td>2021-02-27</td>\n      <td>11000113</td>\n      <td>1000</td>\n      <td>NITROKAF RETARD KAPSUL (DUS 100 KPS)</td>\n    </tr>\n    <tr>\n      <th>841596</th>\n      <td>2203</td>\n      <td>KFTD Pematangsiantar</td>\n      <td>2021-02-27</td>\n      <td>11000113</td>\n      <td>3000</td>\n      <td>NITROKAF RETARD KAPSUL (DUS 100 KPS)</td>\n    </tr>\n    <tr>\n      <th>841597</th>\n      <td>2203</td>\n      <td>KFTD Pematangsiantar</td>\n      <td>2021-02-27</td>\n      <td>11000257</td>\n      <td>4000</td>\n      <td>RETAPHYL SR-STRIP 10X10 TABLET</td>\n    </tr>\n    <tr>\n      <th>841598</th>\n      <td>2203</td>\n      <td>KFTD Pematangsiantar</td>\n      <td>2021-02-27</td>\n      <td>11000391</td>\n      <td>100</td>\n      <td>GENTAMYCIN 0.1  % (DUS 10 TUBE @ 5 GRAM)</td>\n    </tr>\n    <tr>\n      <th>841599</th>\n      <td>2212</td>\n      <td>KFTD Jakarta 1</td>\n      <td>2021-03-09</td>\n      <td>11000497</td>\n      <td>10</td>\n      <td>DUROGESIC 25 MU MATRIX (YS)</td>\n    </tr>\n  </tbody>\n</table>\n<p>841600 rows × 6 columns</p>\n</div>"
     },
     "execution_count": 4,
     "metadata": {},
     "output_type": "execute_result"
    }
   ],
   "source": [
    "import numpy as np\n",
    "df['posting_date'] = pd.to_datetime(df['posting_date'])\n",
    "df['material'] = df['material'].astype(np.int64)\n",
    "df['bill_qty_sku'] = df['bill_qty_sku'].astype(np.int64)\n",
    "df['plant'] = df['plant'].astype(np.int64)\n",
    "df.info()\n",
    "print(df['posting_date'].min())\n",
    "print(df['posting_date'].max())\n",
    "df"
   ]
  },
  {
   "cell_type": "code",
   "execution_count": 7,
   "outputs": [
    {
     "name": "stdout",
     "output_type": "stream",
     "text": [
      "<class 'pandas.core.frame.DataFrame'>\n",
      "RangeIndex: 549 entries, 0 to 548\n",
      "Data columns (total 2 columns):\n",
      " #   Column         Non-Null Count  Dtype \n",
      "---  ------         --------------  ----- \n",
      " 0   material       549 non-null    int64 \n",
      " 1   material_desc  549 non-null    object\n",
      "dtypes: int64(1), object(1)\n",
      "memory usage: 8.7+ KB\n"
     ]
    },
    {
     "data": {
      "text/plain": "     material                             material_desc\n0    11000000            ACICLOVIR 200 MG (DUS 100 TAB)\n1    11000002            ACICLOVIR 400 MG (DUS 100 TAB)\n2    11000004  ACICLOVIR CREAM 5%(DUS 25 TUBE @ 5 GRAM)\n3    11000006           ALERGINE 10 MG TSS (DUS 50 TAB)\n4    11000008           ALPRAZOLAM 0.5 MG (DUS 100 TAB)\n..        ...                                       ...\n544  11002173             VINBLASTINE SULPHATE 10MG INJ\n545  11002174                 CABERGOLINE TAB 0,25MG @8\n546  11002182          SUBOXONE TABLET 8 MG (DUS 7 TAB)\n547  11002198                FLUORESCEIN SODIUM 20% 3ML\n548  11002204         SARS-COV-2 VACCINE (VERO CELL) VL\n\n[549 rows x 2 columns]",
      "text/html": "<div>\n<style scoped>\n    .dataframe tbody tr th:only-of-type {\n        vertical-align: middle;\n    }\n\n    .dataframe tbody tr th {\n        vertical-align: top;\n    }\n\n    .dataframe thead th {\n        text-align: right;\n    }\n</style>\n<table border=\"1\" class=\"dataframe\">\n  <thead>\n    <tr style=\"text-align: right;\">\n      <th></th>\n      <th>material</th>\n      <th>material_desc</th>\n    </tr>\n  </thead>\n  <tbody>\n    <tr>\n      <th>0</th>\n      <td>11000000</td>\n      <td>ACICLOVIR 200 MG (DUS 100 TAB)</td>\n    </tr>\n    <tr>\n      <th>1</th>\n      <td>11000002</td>\n      <td>ACICLOVIR 400 MG (DUS 100 TAB)</td>\n    </tr>\n    <tr>\n      <th>2</th>\n      <td>11000004</td>\n      <td>ACICLOVIR CREAM 5%(DUS 25 TUBE @ 5 GRAM)</td>\n    </tr>\n    <tr>\n      <th>3</th>\n      <td>11000006</td>\n      <td>ALERGINE 10 MG TSS (DUS 50 TAB)</td>\n    </tr>\n    <tr>\n      <th>4</th>\n      <td>11000008</td>\n      <td>ALPRAZOLAM 0.5 MG (DUS 100 TAB)</td>\n    </tr>\n    <tr>\n      <th>...</th>\n      <td>...</td>\n      <td>...</td>\n    </tr>\n    <tr>\n      <th>544</th>\n      <td>11002173</td>\n      <td>VINBLASTINE SULPHATE 10MG INJ</td>\n    </tr>\n    <tr>\n      <th>545</th>\n      <td>11002174</td>\n      <td>CABERGOLINE TAB 0,25MG @8</td>\n    </tr>\n    <tr>\n      <th>546</th>\n      <td>11002182</td>\n      <td>SUBOXONE TABLET 8 MG (DUS 7 TAB)</td>\n    </tr>\n    <tr>\n      <th>547</th>\n      <td>11002198</td>\n      <td>FLUORESCEIN SODIUM 20% 3ML</td>\n    </tr>\n    <tr>\n      <th>548</th>\n      <td>11002204</td>\n      <td>SARS-COV-2 VACCINE (VERO CELL) VL</td>\n    </tr>\n  </tbody>\n</table>\n<p>549 rows × 2 columns</p>\n</div>"
     },
     "execution_count": 7,
     "metadata": {},
     "output_type": "execute_result"
    }
   ],
   "source": [
    "material_list = df.groupby(['material'], as_index=False).agg({'material':'first','material_desc':'first'})\n",
    "material_list.info()\n",
    "material_list.reset_index(drop=True)\n",
    "material_list.to_csv(\"material_list.csv\")\n",
    "material_list.to_excel(\"material_list.xlsx\")\n",
    "material_list"
   ],
   "metadata": {
    "collapsed": false
   }
  },
  {
   "cell_type": "code",
   "execution_count": 6,
   "id": "c86b3ce1",
   "metadata": {},
   "outputs": [
    {
     "name": "stdout",
     "output_type": "stream",
     "text": [
      "Data material:  11000013 tidak mencukupi\n",
      "Data material:  11000017 tidak mencukupi\n",
      "Data material:  11000020 tidak mencukupi\n",
      "Data material:  11000024 tidak mencukupi\n",
      "Data material:  11000050 tidak mencukupi\n",
      "Data material:  11000060 tidak mencukupi\n",
      "Data material:  11000078 tidak mencukupi\n",
      "Data material:  11000088 tidak mencukupi\n",
      "Data material:  11000089 tidak mencukupi\n",
      "Data material:  11000091 tidak mencukupi\n",
      "Data material:  11000092 tidak mencukupi\n",
      "Data material:  11000117 tidak mencukupi\n",
      "Data material:  11000118 tidak mencukupi\n",
      "Data material:  11000133 tidak mencukupi\n",
      "Data material:  11000138 tidak mencukupi\n",
      "Data material:  11000143 tidak mencukupi\n",
      "Data material:  11000148 tidak mencukupi\n",
      "Data material:  11000183 tidak mencukupi\n",
      "Data material:  11000185 tidak mencukupi\n",
      "Data material:  11000189 tidak mencukupi\n",
      "Data material:  11000207 tidak mencukupi\n",
      "Data material:  11000238 tidak mencukupi\n",
      "Data material:  11000256 tidak mencukupi\n",
      "Data material:  11000260 tidak mencukupi\n",
      "Data material:  11000268 tidak mencukupi\n",
      "Data material:  11000307 tidak mencukupi\n",
      "Data material:  11000315 tidak mencukupi\n",
      "Data material:  11000316 tidak mencukupi\n",
      "Data material:  11000318 tidak mencukupi\n",
      "Data material:  11000340 tidak mencukupi\n",
      "Data material:  11000353 tidak mencukupi\n",
      "Data material:  11000494 tidak mencukupi\n",
      "Data material:  11000495 tidak mencukupi\n",
      "Data material:  11000498 tidak mencukupi\n",
      "Data material:  11000499 tidak mencukupi\n",
      "Data material:  11000500 tidak mencukupi\n",
      "Data material:  11000503 tidak mencukupi\n",
      "Data material:  11000504 tidak mencukupi\n",
      "Data material:  11000505 tidak mencukupi\n",
      "Data material:  11000537 tidak mencukupi\n",
      "Data material:  11000540 tidak mencukupi\n",
      "Data material:  11000541 tidak mencukupi\n",
      "Data material:  11000542 tidak mencukupi\n",
      "Data material:  11000543 tidak mencukupi\n",
      "Data material:  11000544 tidak mencukupi\n",
      "Data material:  11000545 tidak mencukupi\n",
      "Data material:  11000546 tidak mencukupi\n",
      "Data material:  11000547 tidak mencukupi\n",
      "Data material:  11000548 tidak mencukupi\n",
      "Data material:  11000549 tidak mencukupi\n",
      "Data material:  11000550 tidak mencukupi\n",
      "Data material:  11000551 tidak mencukupi\n",
      "Data material:  11000668 tidak mencukupi\n",
      "Data material:  11000670 tidak mencukupi\n",
      "Data material:  11000684 tidak mencukupi\n",
      "Data material:  11000685 tidak mencukupi\n",
      "Data material:  11000687 tidak mencukupi\n",
      "Data material:  11000691 tidak mencukupi\n",
      "Data material:  11000759 tidak mencukupi\n",
      "Data material:  11000760 tidak mencukupi\n",
      "Data material:  11000775 tidak mencukupi\n",
      "Data material:  11000776 tidak mencukupi\n",
      "Data material:  11000777 tidak mencukupi\n",
      "Data material:  11000814 tidak mencukupi\n",
      "Data material:  11000817 tidak mencukupi\n",
      "Data material:  11000824 tidak mencukupi\n",
      "Data material:  11000893 tidak mencukupi\n",
      "Data material:  11000894 tidak mencukupi\n",
      "Data material:  11000895 tidak mencukupi\n",
      "Data material:  11000896 tidak mencukupi\n",
      "Data material:  11000936 tidak mencukupi\n",
      "Data material:  11000958 tidak mencukupi\n",
      "Data material:  11001053 tidak mencukupi\n",
      "Data material:  11001054 tidak mencukupi\n",
      "Data material:  11001060 tidak mencukupi\n",
      "Data material:  11001061 tidak mencukupi\n",
      "Data material:  11001073 tidak mencukupi\n",
      "Data material:  11001074 tidak mencukupi\n",
      "Data material:  11001185 tidak mencukupi\n",
      "Data material:  11001203 tidak mencukupi\n",
      "Data material:  11001215 tidak mencukupi\n",
      "Data material:  11001216 tidak mencukupi\n",
      "Data material:  11001217 tidak mencukupi\n",
      "Data material:  11001233 tidak mencukupi\n",
      "Data material:  11001283 tidak mencukupi\n",
      "Data material:  11001284 tidak mencukupi\n",
      "Data material:  11001297 tidak mencukupi\n",
      "Data material:  11001305 tidak mencukupi\n",
      "Data material:  11001323 tidak mencukupi\n",
      "Data material:  11001334 tidak mencukupi\n",
      "Data material:  11001343 tidak mencukupi\n",
      "Data material:  11001344 tidak mencukupi\n",
      "Data material:  11001364 tidak mencukupi\n",
      "Data material:  11001383 tidak mencukupi\n",
      "Data material:  11001384 tidak mencukupi\n",
      "Data material:  11001403 tidak mencukupi\n",
      "Data material:  11001404 tidak mencukupi\n",
      "Data material:  11001405 tidak mencukupi\n",
      "Data material:  11001427 tidak mencukupi\n",
      "Data material:  11001429 tidak mencukupi\n",
      "Data material:  11001445 tidak mencukupi\n",
      "Data material:  11001618 tidak mencukupi\n",
      "Data material:  11001619 tidak mencukupi\n",
      "Data material:  11001644 tidak mencukupi\n",
      "Data material:  11001659 tidak mencukupi\n",
      "Data material:  11001660 tidak mencukupi\n",
      "Data material:  11001661 tidak mencukupi\n",
      "Data material:  11001662 tidak mencukupi\n",
      "Data material:  11001664 tidak mencukupi\n",
      "Data material:  11001665 tidak mencukupi\n",
      "Data material:  11001666 tidak mencukupi\n",
      "Data material:  11001667 tidak mencukupi\n",
      "Data material:  11001668 tidak mencukupi\n",
      "Data material:  11001673 tidak mencukupi\n",
      "Data material:  11001674 tidak mencukupi\n",
      "Data material:  11001682 tidak mencukupi\n",
      "Data material:  11001689 tidak mencukupi\n",
      "Data material:  11001694 tidak mencukupi\n",
      "Data material:  11001695 tidak mencukupi\n",
      "Data material:  11001697 tidak mencukupi\n",
      "Data material:  11001705 tidak mencukupi\n",
      "Data material:  11001710 tidak mencukupi\n",
      "Data material:  11001716 tidak mencukupi\n",
      "Data material:  11001794 tidak mencukupi\n",
      "Data material:  11001846 tidak mencukupi\n",
      "Data material:  11001847 tidak mencukupi\n",
      "Data material:  11001848 tidak mencukupi\n",
      "Data material:  11001849 tidak mencukupi\n",
      "Data material:  11001850 tidak mencukupi\n",
      "Data material:  11001851 tidak mencukupi\n",
      "Data material:  11001864 tidak mencukupi\n",
      "Data material:  11001954 tidak mencukupi\n",
      "Data material:  11001993 tidak mencukupi\n",
      "Data material:  11001994 tidak mencukupi\n",
      "Data material:  11002002 tidak mencukupi\n",
      "Data material:  11002032 tidak mencukupi\n",
      "Data material:  11002047 tidak mencukupi\n",
      "Data material:  11002049 tidak mencukupi\n",
      "Data material:  11002055 tidak mencukupi\n",
      "Data material:  11002064 tidak mencukupi\n",
      "Data material:  11002083 tidak mencukupi\n",
      "Data material:  11002086 tidak mencukupi\n",
      "Data material:  11002087 tidak mencukupi\n",
      "Data material:  11002118 tidak mencukupi\n",
      "Data material:  11002167 tidak mencukupi\n",
      "Data material:  11002173 tidak mencukupi\n",
      "Data material:  11002174 tidak mencukupi\n",
      "Data material:  11002182 tidak mencukupi\n",
      "Data material:  11002198 tidak mencukupi\n",
      "Data material:  11002204 tidak mencukupi\n",
      "<class 'pandas.core.frame.DataFrame'>\n",
      "Int64Index: 57855 entries, 0 to 144\n",
      "Data columns (total 3 columns):\n",
      " #   Column        Non-Null Count  Dtype         \n",
      "---  ------        --------------  -----         \n",
      " 0   date          57855 non-null  datetime64[ns]\n",
      " 1   material      57855 non-null  int64         \n",
      " 2   bill_qty_sku  57855 non-null  int64         \n",
      "dtypes: datetime64[ns](1), int64(2)\n",
      "memory usage: 1.8 MB\n"
     ]
    },
    {
     "data": {
      "text/plain": "          date  material  bill_qty_sku\n0   2021-01-07  11000000           100\n1   2021-01-08  11000000          1900\n2   2021-01-09  11000000          2700\n3   2021-01-10  11000000             0\n4   2021-01-11  11000000          5700\n..         ...       ...           ...\n140 2021-05-27  11002125             0\n141 2021-05-28  11002125             0\n142 2021-05-29  11002125             0\n143 2021-05-30  11002125             0\n144 2021-05-31  11002125            16\n\n[57855 rows x 3 columns]",
      "text/html": "<div>\n<style scoped>\n    .dataframe tbody tr th:only-of-type {\n        vertical-align: middle;\n    }\n\n    .dataframe tbody tr th {\n        vertical-align: top;\n    }\n\n    .dataframe thead th {\n        text-align: right;\n    }\n</style>\n<table border=\"1\" class=\"dataframe\">\n  <thead>\n    <tr style=\"text-align: right;\">\n      <th></th>\n      <th>date</th>\n      <th>material</th>\n      <th>bill_qty_sku</th>\n    </tr>\n  </thead>\n  <tbody>\n    <tr>\n      <th>0</th>\n      <td>2021-01-07</td>\n      <td>11000000</td>\n      <td>100</td>\n    </tr>\n    <tr>\n      <th>1</th>\n      <td>2021-01-08</td>\n      <td>11000000</td>\n      <td>1900</td>\n    </tr>\n    <tr>\n      <th>2</th>\n      <td>2021-01-09</td>\n      <td>11000000</td>\n      <td>2700</td>\n    </tr>\n    <tr>\n      <th>3</th>\n      <td>2021-01-10</td>\n      <td>11000000</td>\n      <td>0</td>\n    </tr>\n    <tr>\n      <th>4</th>\n      <td>2021-01-11</td>\n      <td>11000000</td>\n      <td>5700</td>\n    </tr>\n    <tr>\n      <th>...</th>\n      <td>...</td>\n      <td>...</td>\n      <td>...</td>\n    </tr>\n    <tr>\n      <th>140</th>\n      <td>2021-05-27</td>\n      <td>11002125</td>\n      <td>0</td>\n    </tr>\n    <tr>\n      <th>141</th>\n      <td>2021-05-28</td>\n      <td>11002125</td>\n      <td>0</td>\n    </tr>\n    <tr>\n      <th>142</th>\n      <td>2021-05-29</td>\n      <td>11002125</td>\n      <td>0</td>\n    </tr>\n    <tr>\n      <th>143</th>\n      <td>2021-05-30</td>\n      <td>11002125</td>\n      <td>0</td>\n    </tr>\n    <tr>\n      <th>144</th>\n      <td>2021-05-31</td>\n      <td>11002125</td>\n      <td>16</td>\n    </tr>\n  </tbody>\n</table>\n<p>57855 rows × 3 columns</p>\n</div>"
     },
     "execution_count": 6,
     "metadata": {},
     "output_type": "execute_result"
    }
   ],
   "source": [
    "material_list = pd.read_csv('E:/Program/PKLProjekt/Jupyter/Sales-Forecasting/material_list.csv')\n",
    "material_list = material_list.drop(['material_desc'],axis=1)\n",
    "material_clean = pd.DataFrame()\n",
    "date_range = pd.date_range(start='2021-01-07', end='2021-05-31', freq='D')\n",
    "for i in material_list['material'].unique():\n",
    "    current = df.loc[(df['material']==i)].copy()\n",
    "    if current.shape[0] < 90:\n",
    "        print('Data material: ', i, 'tidak mencukupi')\n",
    "    else:\n",
    "        current = current.groupby(['posting_date']).agg({'material':'first','bill_qty_sku':'sum'})\n",
    "        current.resample('D')\n",
    "        current = current.reindex(date_range)\n",
    "        current['bill_qty_sku'] = current['bill_qty_sku'].fillna(0)\n",
    "        current['material'] = current['material'].fillna(i)\n",
    "        current = current.reset_index()\n",
    "        current['bill_qty_sku'] = current['bill_qty_sku'].astype(np.int64)\n",
    "        current['material'] = current['material'].astype(np.int64)\n",
    "        current = current.rename(columns={'index':'date'})\n",
    "        material_clean = pd.concat([material_clean, current], axis=0)\n",
    "\n",
    "material_clean.info()\n",
    "material_clean.to_csv('E:/Program/PKLProjekt/Jupyter/Sales-Forecasting/material_df.csv')\n",
    "material_clean.to_excel('E:/Program/PKLProjekt/Jupyter/Sales-Forecasting/material_df.xlsx')\n",
    "material_clean"
   ]
  },
  {
   "cell_type": "code",
   "execution_count": 7,
   "outputs": [],
   "source": [
    "train_start = '2021-01-07'\n",
    "train_end = '2021-04-30'\n",
    "test_start = '2021-05-01'\n",
    "test_end = '2021-05-31'\n",
    "train_df = material_clean.loc[(material_clean['date'] >= train_start) & (material_clean['date'] <= train_end)]\n",
    "test_df = material_clean.loc[(material_clean['date'] >= test_start) & (material_clean['date'] <= test_end)]"
   ],
   "metadata": {
    "collapsed": false
   }
  },
  {
   "cell_type": "code",
   "execution_count": 8,
   "outputs": [],
   "source": [
    "test_df.to_csv('E:/Program/PKLProjekt/Jupyter/Sales-Forecasting/test_df.csv')"
   ],
   "metadata": {
    "collapsed": false
   }
  },
  {
   "cell_type": "code",
   "execution_count": 9,
   "outputs": [],
   "source": [
    "train_df.to_csv('E:/Program/PKLProjekt/Jupyter/Sales-Forecasting/train_df.csv')"
   ],
   "metadata": {
    "collapsed": false
   }
  },
  {
   "cell_type": "code",
   "execution_count": null,
   "outputs": [],
   "source": [
    "date_range = pd.date_range(start='2021-01-07', end='2021-05-31', freq='D')\n",
    "current = df.loc[(df['material']==11000002)].copy()\n",
    "current = current.groupby(['posting_date']).agg({'material':'first','bill_qty_sku':'sum'})\n",
    "current.resample('D')\n",
    "current = current.reindex(date_range)\n",
    "current['bill_qty_sku'] = current['bill_qty_sku'].fillna(0)\n",
    "current['material'] = current['material'].fillna(method='ffill')\n",
    "current = current.reset_index()\n",
    "current.rename(columns={'index':'date'})\n",
    "current['bill_qty_sku'] = current['bill_qty_sku'].astype(np.int64)\n",
    "current['material'] = current['material'].astype(np.int64)\n",
    "current = current.rename(columns={'index':'date'})\n",
    "current"
   ],
   "metadata": {
    "collapsed": false
   }
  }
 ],
 "metadata": {
  "kernelspec": {
   "display_name": "Python 3.10 (tensorflow)",
   "language": "python",
   "name": "tensorflow"
  },
  "language_info": {
   "codemirror_mode": {
    "name": "ipython",
    "version": 3
   },
   "file_extension": ".py",
   "mimetype": "text/x-python",
   "name": "python",
   "nbconvert_exporter": "python",
   "pygments_lexer": "ipython3",
   "version": "3.10.0"
  }
 },
 "nbformat": 4,
 "nbformat_minor": 5
}
