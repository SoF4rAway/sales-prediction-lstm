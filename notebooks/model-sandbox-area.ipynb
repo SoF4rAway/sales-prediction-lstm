{
 "cells": [
  {
   "cell_type": "code",
   "execution_count": 1,
   "id": "0d60bb0b",
   "metadata": {},
   "outputs": [
    {
     "data": {
      "text/html": "        <script type=\"text/javascript\">\n        window.PlotlyConfig = {MathJaxConfig: 'local'};\n        if (window.MathJax && window.MathJax.Hub && window.MathJax.Hub.Config) {window.MathJax.Hub.Config({SVG: {font: \"STIX-Web\"}});}\n        if (typeof require !== 'undefined') {\n        require.undef(\"plotly\");\n        requirejs.config({\n            paths: {\n                'plotly': ['https://cdn.plot.ly/plotly-2.18.0.min']\n            }\n        });\n        require(['plotly'], function(Plotly) {\n            window._Plotly = Plotly;\n        });\n        }\n        </script>\n        "
     },
     "metadata": {},
     "output_type": "display_data"
    }
   ],
   "source": [
    "import os\n",
    "import numpy as np\n",
    "import pandas as pd\n",
    "import tensorflow as tf\n",
    "from tensorflow import keras\n",
    "from keras.preprocessing.sequence import TimeseriesGenerator\n",
    "from keras import Input, Model\n",
    "from keras import layers, regularizers\n",
    "from keras import optimizers\n",
    "from keras.callbacks import EarlyStopping\n",
    "#import matplotlib.pyplot as plt\n",
    "from sklearn.preprocessing import MinMaxScaler\n",
    "from sklearn.metrics import mean_squared_error\n",
    "from sklearn.metrics import mean_absolute_percentage_error, mean_absolute_error\n",
    "from sklearn import metrics\n",
    "import warnings\n",
    "#import chart_studio.plotly as py\n",
    "import plotly.graph_objs as go\n",
    "from plotly.offline import init_notebook_mode, iplot\n",
    "\n",
    "%matplotlib inline\n",
    "warnings.filterwarnings(\"ignore\")\n",
    "init_notebook_mode(connected=True)"
   ]
  },
  {
   "cell_type": "code",
   "execution_count": 2,
   "id": "0717ede7",
   "metadata": {},
   "outputs": [
    {
     "name": "stdout",
     "output_type": "stream",
     "text": [
      "<class 'pandas.core.frame.DataFrame'>\n",
      "RangeIndex: 57855 entries, 0 to 57854\n",
      "Data columns (total 3 columns):\n",
      " #   Column    Non-Null Count  Dtype         \n",
      "---  ------    --------------  -----         \n",
      " 0   date      57855 non-null  datetime64[ns]\n",
      " 1   material  57855 non-null  int64         \n",
      " 2   sale_qty  57855 non-null  int64         \n",
      "dtypes: datetime64[ns](1), int64(2)\n",
      "memory usage: 1.3 MB\n"
     ]
    },
    {
     "data": {
      "text/plain": "        date  material  sale_qty\n0 2021-01-07  11000000       100\n1 2021-01-08  11000000      1900\n2 2021-01-09  11000000      2700\n3 2021-01-10  11000000         0\n4 2021-01-11  11000000      5700",
      "text/html": "<div>\n<style scoped>\n    .dataframe tbody tr th:only-of-type {\n        vertical-align: middle;\n    }\n\n    .dataframe tbody tr th {\n        vertical-align: top;\n    }\n\n    .dataframe thead th {\n        text-align: right;\n    }\n</style>\n<table border=\"1\" class=\"dataframe\">\n  <thead>\n    <tr style=\"text-align: right;\">\n      <th></th>\n      <th>date</th>\n      <th>material</th>\n      <th>sale_qty</th>\n    </tr>\n  </thead>\n  <tbody>\n    <tr>\n      <th>0</th>\n      <td>2021-01-07</td>\n      <td>11000000</td>\n      <td>100</td>\n    </tr>\n    <tr>\n      <th>1</th>\n      <td>2021-01-08</td>\n      <td>11000000</td>\n      <td>1900</td>\n    </tr>\n    <tr>\n      <th>2</th>\n      <td>2021-01-09</td>\n      <td>11000000</td>\n      <td>2700</td>\n    </tr>\n    <tr>\n      <th>3</th>\n      <td>2021-01-10</td>\n      <td>11000000</td>\n      <td>0</td>\n    </tr>\n    <tr>\n      <th>4</th>\n      <td>2021-01-11</td>\n      <td>11000000</td>\n      <td>5700</td>\n    </tr>\n  </tbody>\n</table>\n</div>"
     },
     "execution_count": 2,
     "metadata": {},
     "output_type": "execute_result"
    }
   ],
   "source": [
    "train_data = pd.read_csv('E:/Program/PKLProjekt/Jupyter/Sales-Forecasting/material_df.csv')\n",
    "train_data['sale_qty'] = train_data['bill_qty_sku'].astype(np.int64)\n",
    "train_data['material'] = train_data['material'].astype(np.int64)\n",
    "train_data['date'] = pd.to_datetime(train_data['date'])\n",
    "train_data = train_data.drop(['Unnamed: 0', 'bill_qty_sku'], axis=1)\n",
    "train_data.info()\n",
    "train_data.head(5)"
   ]
  },
  {
   "cell_type": "code",
   "execution_count": 3,
   "outputs": [
    {
     "name": "stdout",
     "output_type": "stream",
     "text": [
      "<class 'pandas.core.frame.DataFrame'>\n",
      "RangeIndex: 12369 entries, 0 to 12368\n",
      "Data columns (total 3 columns):\n",
      " #   Column    Non-Null Count  Dtype         \n",
      "---  ------    --------------  -----         \n",
      " 0   date      12369 non-null  datetime64[ns]\n",
      " 1   material  12369 non-null  int64         \n",
      " 2   sale_qty  12369 non-null  int64         \n",
      "dtypes: datetime64[ns](1), int64(2)\n",
      "memory usage: 290.0 KB\n"
     ]
    },
    {
     "data": {
      "text/plain": "        date  material  sale_qty\n0 2021-01-07  11000000         0\n1 2021-01-08  11000000         0\n2 2021-01-09  11000000       900\n3 2021-01-10  11000000      7300\n4 2021-01-11  11000000      1200",
      "text/html": "<div>\n<style scoped>\n    .dataframe tbody tr th:only-of-type {\n        vertical-align: middle;\n    }\n\n    .dataframe tbody tr th {\n        vertical-align: top;\n    }\n\n    .dataframe thead th {\n        text-align: right;\n    }\n</style>\n<table border=\"1\" class=\"dataframe\">\n  <thead>\n    <tr style=\"text-align: right;\">\n      <th></th>\n      <th>date</th>\n      <th>material</th>\n      <th>sale_qty</th>\n    </tr>\n  </thead>\n  <tbody>\n    <tr>\n      <th>0</th>\n      <td>2021-01-07</td>\n      <td>11000000</td>\n      <td>0</td>\n    </tr>\n    <tr>\n      <th>1</th>\n      <td>2021-01-08</td>\n      <td>11000000</td>\n      <td>0</td>\n    </tr>\n    <tr>\n      <th>2</th>\n      <td>2021-01-09</td>\n      <td>11000000</td>\n      <td>900</td>\n    </tr>\n    <tr>\n      <th>3</th>\n      <td>2021-01-10</td>\n      <td>11000000</td>\n      <td>7300</td>\n    </tr>\n    <tr>\n      <th>4</th>\n      <td>2021-01-11</td>\n      <td>11000000</td>\n      <td>1200</td>\n    </tr>\n  </tbody>\n</table>\n</div>"
     },
     "execution_count": 3,
     "metadata": {},
     "output_type": "execute_result"
    }
   ],
   "source": [
    "test_data = pd.read_csv('E:/Program/PKLProjekt/Jupyter/Sales-Forecasting/test_df.csv')\n",
    "test_data['sale_qty'] = test_data['bill_qty_sku'].astype(np.int64)\n",
    "test_data['material'] = test_data['material'].astype(np.int64)\n",
    "test_data['date'] = pd.to_datetime(train_data['date'])\n",
    "test_data = test_data.drop(['Unnamed: 0','bill_qty_sku'], axis=1)\n",
    "test_data.info()\n",
    "test_data.head(5)"
   ],
   "metadata": {
    "collapsed": false
   }
  },
  {
   "cell_type": "code",
   "execution_count": 4,
   "outputs": [],
   "source": [
    "data_train = train_data.loc[(train_data['material']==11000267)].copy()\n",
    "data_train = data_train.drop(['material','date'],axis=1)\n",
    "scaler = MinMaxScaler()\n",
    "scaler.fit(data_train)\n",
    "train = data_train[:-30]\n",
    "test = data_train[-30:]\n",
    "scaled_train = scaler.transform(train)\n",
    "scaled_test = scaler.transform(test)\n",
    "n_input = 30\n",
    "n_feature = 1\n",
    "batch_size = 1\n",
    "generator = TimeseriesGenerator(scaled_train, scaled_train, length = n_input, batch_size=batch_size)"
   ],
   "metadata": {
    "collapsed": false
   }
  },
  {
   "cell_type": "code",
   "execution_count": 5,
   "outputs": [
    {
     "name": "stdout",
     "output_type": "stream",
     "text": [
      "Model: \"model\"\n",
      "_________________________________________________________________\n",
      " Layer (type)                Output Shape              Param #   \n",
      "=================================================================\n",
      " input_1 (InputLayer)        [(None, 30, 1)]           0         \n",
      "                                                                 \n",
      " lstm (LSTM)                 (None, 30, 100)           40800     \n",
      "                                                                 \n",
      " lstm_1 (LSTM)               (None, 30, 50)            30200     \n",
      "                                                                 \n",
      " lstm_2 (LSTM)               (None, 10)                2440      \n",
      "                                                                 \n",
      " activation (Activation)     (None, 10)                0         \n",
      "                                                                 \n",
      " dense (Dense)               (None, 1)                 11        \n",
      "                                                                 \n",
      "=================================================================\n",
      "Total params: 73,451\n",
      "Trainable params: 73,451\n",
      "Non-trainable params: 0\n",
      "_________________________________________________________________\n"
     ]
    }
   ],
   "source": [
    "def Predmodel():\n",
    "    inputs = Input(shape=(30,1))\n",
    "    x = layers.LSTM(100, return_sequences=True)(inputs)\n",
    "    x = layers.LSTM(50, return_sequences=True)(x)\n",
    "    x = layers.LSTM(10)(x)\n",
    "    x = layers.Activation('relu')(x)\n",
    "    outputs = layers.Dense(1, kernel_regularizer='L2')(x)\n",
    "    model = Model(inputs=inputs, outputs=outputs)\n",
    "    return model\n",
    "\n",
    "model = Predmodel()\n",
    "model.summary()"
   ],
   "metadata": {
    "collapsed": false
   }
  },
  {
   "cell_type": "code",
   "execution_count": 31,
   "outputs": [],
   "source": [
    "huber_loss = tf.keras.losses.Huber(delta=0.5)\n",
    "\n",
    "def lrdecay(epoch):\n",
    "    lr = 1e-5\n",
    "    if epoch < 25:\n",
    "        lr = lr\n",
    "    elif epoch < 50:\n",
    "        lr *= 1e-1\n",
    "    elif epoch < 75:\n",
    "        lr *= 1e-2\n",
    "    elif epoch < 125:\n",
    "        lr *= 1e-3\n",
    "    return lr\n",
    "lrdecay = tf.keras.callbacks.LearningRateScheduler(lrdecay) # learning rate decay\n",
    "\n",
    "stop = EarlyStopping(\n",
    "    monitor='loss',\n",
    "    patience=20,\n",
    "    min_delta=0.001,\n",
    "    mode='max',\n",
    "    restore_best_weights=True)"
   ],
   "metadata": {
    "collapsed": false
   }
  },
  {
   "cell_type": "code",
   "execution_count": 32,
   "outputs": [
    {
     "name": "stdout",
     "output_type": "stream",
     "text": [
      "Epoch 1/25\n",
      "85/85 [==============================] - 4s 9ms/step - loss: 0.0735 - lr: 1.0000e-05\n",
      "Epoch 2/25\n",
      "85/85 [==============================] - 1s 8ms/step - loss: 0.0733 - lr: 1.0000e-05\n",
      "Epoch 3/25\n",
      "85/85 [==============================] - 1s 9ms/step - loss: 0.0731 - lr: 1.0000e-05\n",
      "Epoch 4/25\n",
      "85/85 [==============================] - 1s 9ms/step - loss: 0.0729 - lr: 1.0000e-05\n",
      "Epoch 5/25\n",
      "85/85 [==============================] - 1s 9ms/step - loss: 0.0727 - lr: 1.0000e-05\n",
      "Epoch 6/25\n",
      "85/85 [==============================] - 1s 9ms/step - loss: 0.0725 - lr: 1.0000e-05\n",
      "Epoch 7/25\n",
      "85/85 [==============================] - 1s 9ms/step - loss: 0.0723 - lr: 1.0000e-05\n",
      "Epoch 8/25\n",
      "85/85 [==============================] - 1s 9ms/step - loss: 0.0721 - lr: 1.0000e-05\n",
      "Epoch 9/25\n",
      "85/85 [==============================] - 1s 9ms/step - loss: 0.0719 - lr: 1.0000e-05\n",
      "Epoch 10/25\n",
      "85/85 [==============================] - 1s 9ms/step - loss: 0.0717 - lr: 1.0000e-05\n",
      "Epoch 11/25\n",
      "85/85 [==============================] - 1s 8ms/step - loss: 0.0715 - lr: 1.0000e-05\n",
      "Epoch 12/25\n",
      "85/85 [==============================] - 1s 9ms/step - loss: 0.0713 - lr: 1.0000e-05\n",
      "Epoch 13/25\n",
      "85/85 [==============================] - 1s 9ms/step - loss: 0.0711 - lr: 1.0000e-05\n",
      "Epoch 14/25\n",
      "85/85 [==============================] - 1s 9ms/step - loss: 0.0709 - lr: 1.0000e-05\n",
      "Epoch 15/25\n",
      "85/85 [==============================] - 1s 9ms/step - loss: 0.0707 - lr: 1.0000e-05\n",
      "Epoch 16/25\n",
      "85/85 [==============================] - 1s 9ms/step - loss: 0.0705 - lr: 1.0000e-05\n",
      "Epoch 17/25\n",
      "85/85 [==============================] - 1s 9ms/step - loss: 0.0703 - lr: 1.0000e-05\n",
      "Epoch 18/25\n",
      "85/85 [==============================] - 1s 9ms/step - loss: 0.0701 - lr: 1.0000e-05\n",
      "Epoch 19/25\n",
      "85/85 [==============================] - 1s 9ms/step - loss: 0.0699 - lr: 1.0000e-05\n",
      "Epoch 20/25\n",
      "85/85 [==============================] - 1s 8ms/step - loss: 0.0697 - lr: 1.0000e-05\n",
      "Epoch 21/25\n",
      "85/85 [==============================] - 1s 8ms/step - loss: 0.0695 - lr: 1.0000e-05\n",
      "Epoch 22/25\n",
      "85/85 [==============================] - 1s 8ms/step - loss: 0.0693 - lr: 1.0000e-05\n",
      "Epoch 23/25\n",
      "85/85 [==============================] - 1s 8ms/step - loss: 0.0691 - lr: 1.0000e-05\n",
      "Epoch 24/25\n",
      "85/85 [==============================] - 1s 9ms/step - loss: 0.0689 - lr: 1.0000e-05\n",
      "Epoch 25/25\n",
      "85/85 [==============================] - 1s 9ms/step - loss: 0.0687 - lr: 1.0000e-05\n"
     ]
    }
   ],
   "source": [
    "model.compile(loss='mae', optimizer = keras.optimizers.Adam(1e-3))\n",
    "history = model.fit(generator, epochs = 25, callbacks=[lrdecay])"
   ],
   "metadata": {
    "collapsed": false
   }
  },
  {
   "cell_type": "code",
   "execution_count": 33,
   "outputs": [
    {
     "data": {
      "text/plain": "Text(0.5, 1.0, 'Training loss - LR')"
     },
     "execution_count": 33,
     "metadata": {},
     "output_type": "execute_result"
    },
    {
     "data": {
      "text/plain": "<Figure size 640x480 with 1 Axes>",
      "image/png": "[encoded data removed]"
     },
     "metadata": {},
     "output_type": "display_data"
    }
   ],
   "source": [
    "loss = history.history['loss']\n",
    "lr = history.history['lr']\n",
    "epochs = range(len(loss))\n",
    "plt.plot(epochs, loss)\n",
    "plt.plot(epochs, lr)\n",
    "plt.title('Training loss - LR')"
   ],
   "metadata": {
    "collapsed": false
   }
  },
  {
   "cell_type": "code",
   "execution_count": 38,
   "outputs": [],
   "source": [
    "model = tf.keras.models.load_model('E:/Program/PKLProjekt/Jupyter/Sales-Forecasting/Model/model.h5')\n",
    "pred = []\n",
    "first_eval_batch = scaled_train[-30:]\n",
    "current_batch = first_eval_batch.reshape((1,30,1))\n",
    "\n",
    "for i in range(30):\n",
    "    current_pred = model.predict(current_batch)[0]\n",
    "    pred.append(current_pred)\n",
    "    current_batch = np.append(current_batch[:,1:,:],[[current_pred]],axis=1)"
   ],
   "metadata": {
    "collapsed": false
   }
  },
  {
   "cell_type": "code",
   "execution_count": 39,
   "outputs": [
    {
     "data": {
      "text/plain": "         date  pred_sale  sale_qty\n1  2021-04-12   0.087443  0.000000\n2  2021-04-13   0.125870  0.000000\n3  2021-04-14   0.119423  0.016129\n4  2021-04-15   0.133706  0.000000\n5  2021-04-16   0.128523  0.483871\n6  2021-04-17   0.111957  0.080645\n7  2021-04-18   0.101061  0.096774\n8  2021-04-19   0.100223  0.000000\n9  2021-04-20   0.105681  0.016129\n10 2021-04-21   0.109916  0.016129\n11 2021-04-22   0.114619  0.000000\n12 2021-04-23   0.124369  0.000000\n13 2021-04-24   0.122994  0.000000\n14 2021-04-25   0.110099  0.000000\n15 2021-04-26   0.101162  0.000000\n16 2021-04-27   0.106246  0.016129\n17 2021-04-28   0.108764  0.032258\n18 2021-04-29   0.112145  0.000000\n19 2021-04-30   0.120084  0.032258\n20 2021-05-01   0.110320  0.000000\n21 2021-05-02   0.096832  0.000000\n22 2021-05-03   0.108175  0.000000\n23 2021-05-04   0.109198  0.016129\n24 2021-05-05   0.110181  0.016129\n25 2021-05-06   0.117061  0.000000\n26 2021-05-07   0.097955  0.580645\n27 2021-05-08   0.114408  0.048387\n28 2021-05-09   0.114134  0.000000\n29 2021-05-10   0.113900  0.354839\n30 2021-05-11   0.112662  0.645161",
      "text/html": "<div>\n<style scoped>\n    .dataframe tbody tr th:only-of-type {\n        vertical-align: middle;\n    }\n\n    .dataframe tbody tr th {\n        vertical-align: top;\n    }\n\n    .dataframe thead th {\n        text-align: right;\n    }\n</style>\n<table border=\"1\" class=\"dataframe\">\n  <thead>\n    <tr style=\"text-align: right;\">\n      <th></th>\n      <th>date</th>\n      <th>pred_sale</th>\n      <th>sale_qty</th>\n    </tr>\n  </thead>\n  <tbody>\n    <tr>\n      <th>1</th>\n      <td>2021-04-12</td>\n      <td>0.087443</td>\n      <td>0.000000</td>\n    </tr>\n    <tr>\n      <th>2</th>\n      <td>2021-04-13</td>\n      <td>0.125870</td>\n      <td>0.000000</td>\n    </tr>\n    <tr>\n      <th>3</th>\n      <td>2021-04-14</td>\n      <td>0.119423</td>\n      <td>0.016129</td>\n    </tr>\n    <tr>\n      <th>4</th>\n      <td>2021-04-15</td>\n      <td>0.133706</td>\n      <td>0.000000</td>\n    </tr>\n    <tr>\n      <th>5</th>\n      <td>2021-04-16</td>\n      <td>0.128523</td>\n      <td>0.483871</td>\n    </tr>\n    <tr>\n      <th>6</th>\n      <td>2021-04-17</td>\n      <td>0.111957</td>\n      <td>0.080645</td>\n    </tr>\n    <tr>\n      <th>7</th>\n      <td>2021-04-18</td>\n      <td>0.101061</td>\n      <td>0.096774</td>\n    </tr>\n    <tr>\n      <th>8</th>\n      <td>2021-04-19</td>\n      <td>0.100223</td>\n      <td>0.000000</td>\n    </tr>\n    <tr>\n      <th>9</th>\n      <td>2021-04-20</td>\n      <td>0.105681</td>\n      <td>0.016129</td>\n    </tr>\n    <tr>\n      <th>10</th>\n      <td>2021-04-21</td>\n      <td>0.109916</td>\n      <td>0.016129</td>\n    </tr>\n    <tr>\n      <th>11</th>\n      <td>2021-04-22</td>\n      <td>0.114619</td>\n      <td>0.000000</td>\n    </tr>\n    <tr>\n      <th>12</th>\n      <td>2021-04-23</td>\n      <td>0.124369</td>\n      <td>0.000000</td>\n    </tr>\n    <tr>\n      <th>13</th>\n      <td>2021-04-24</td>\n      <td>0.122994</td>\n      <td>0.000000</td>\n    </tr>\n    <tr>\n      <th>14</th>\n      <td>2021-04-25</td>\n      <td>0.110099</td>\n      <td>0.000000</td>\n    </tr>\n    <tr>\n      <th>15</th>\n      <td>2021-04-26</td>\n      <td>0.101162</td>\n      <td>0.000000</td>\n    </tr>\n    <tr>\n      <th>16</th>\n      <td>2021-04-27</td>\n      <td>0.106246</td>\n      <td>0.016129</td>\n    </tr>\n    <tr>\n      <th>17</th>\n      <td>2021-04-28</td>\n      <td>0.108764</td>\n      <td>0.032258</td>\n    </tr>\n    <tr>\n      <th>18</th>\n      <td>2021-04-29</td>\n      <td>0.112145</td>\n      <td>0.000000</td>\n    </tr>\n    <tr>\n      <th>19</th>\n      <td>2021-04-30</td>\n      <td>0.120084</td>\n      <td>0.032258</td>\n    </tr>\n    <tr>\n      <th>20</th>\n      <td>2021-05-01</td>\n      <td>0.110320</td>\n      <td>0.000000</td>\n    </tr>\n    <tr>\n      <th>21</th>\n      <td>2021-05-02</td>\n      <td>0.096832</td>\n      <td>0.000000</td>\n    </tr>\n    <tr>\n      <th>22</th>\n      <td>2021-05-03</td>\n      <td>0.108175</td>\n      <td>0.000000</td>\n    </tr>\n    <tr>\n      <th>23</th>\n      <td>2021-05-04</td>\n      <td>0.109198</td>\n      <td>0.016129</td>\n    </tr>\n    <tr>\n      <th>24</th>\n      <td>2021-05-05</td>\n      <td>0.110181</td>\n      <td>0.016129</td>\n    </tr>\n    <tr>\n      <th>25</th>\n      <td>2021-05-06</td>\n      <td>0.117061</td>\n      <td>0.000000</td>\n    </tr>\n    <tr>\n      <th>26</th>\n      <td>2021-05-07</td>\n      <td>0.097955</td>\n      <td>0.580645</td>\n    </tr>\n    <tr>\n      <th>27</th>\n      <td>2021-05-08</td>\n      <td>0.114408</td>\n      <td>0.048387</td>\n    </tr>\n    <tr>\n      <th>28</th>\n      <td>2021-05-09</td>\n      <td>0.114134</td>\n      <td>0.000000</td>\n    </tr>\n    <tr>\n      <th>29</th>\n      <td>2021-05-10</td>\n      <td>0.113900</td>\n      <td>0.354839</td>\n    </tr>\n    <tr>\n      <th>30</th>\n      <td>2021-05-11</td>\n      <td>0.112662</td>\n      <td>0.645161</td>\n    </tr>\n  </tbody>\n</table>\n</div>"
     },
     "execution_count": 39,
     "metadata": {},
     "output_type": "execute_result"
    }
   ],
   "source": [
    "tes_res = test_data.loc[(test_data['material']==11000267)].copy().reset_index(drop=True)\n",
    "tes_res = tes_res.groupby(['date']).sum()\n",
    "tes_res = tes_res.drop(['material', 'sale_qty'], axis=1)\n",
    "tes_res = tes_res.reset_index()\n",
    "tes_res = tes_res[-30:]\n",
    "tes_res['pred_sale'] = pred\n",
    "tes_res['pred_sale'] = tes_res['pred_sale'].astype(np.float64)\n",
    "tes_res['sale_qty'] = scaled_test[-30:]\n",
    "tes_res"
   ],
   "metadata": {
    "collapsed": false
   }
  },
  {
   "cell_type": "code",
   "execution_count": 40,
   "outputs": [
    {
     "data": {
      "application/vnd.plotly.v1+json": {
       "data": [
        {
         "name": "Actual",
         "x": [
          "2021-04-12T00:00:00",
          "2021-04-13T00:00:00",
          "2021-04-14T00:00:00",
          "2021-04-15T00:00:00",
          "2021-04-16T00:00:00",
          "2021-04-17T00:00:00",
          "2021-04-18T00:00:00",
          "2021-04-19T00:00:00",
          "2021-04-20T00:00:00",
          "2021-04-21T00:00:00",
          "2021-04-22T00:00:00",
          "2021-04-23T00:00:00",
          "2021-04-24T00:00:00",
          "2021-04-25T00:00:00",
          "2021-04-26T00:00:00",
          "2021-04-27T00:00:00",
          "2021-04-28T00:00:00",
          "2021-04-29T00:00:00",
          "2021-04-30T00:00:00",
          "2021-05-01T00:00:00",
          "2021-05-02T00:00:00",
          "2021-05-03T00:00:00",
          "2021-05-04T00:00:00",
          "2021-05-05T00:00:00",
          "2021-05-06T00:00:00",
          "2021-05-07T00:00:00",
          "2021-05-08T00:00:00",
          "2021-05-09T00:00:00",
          "2021-05-10T00:00:00",
          "2021-05-11T00:00:00"
         ],
         "y": [
          0.0,
          0.0,
          0.016129032258064516,
          0.0,
          0.4838709677419355,
          0.08064516129032258,
          0.0967741935483871,
          0.0,
          0.016129032258064516,
          0.016129032258064516,
          0.0,
          0.0,
          0.0,
          0.0,
          0.0,
          0.016129032258064516,
          0.03225806451612903,
          0.0,
          0.03225806451612903,
          0.0,
          0.0,
          0.0,
          0.016129032258064516,
          0.016129032258064516,
          0.0,
          0.5806451612903226,
          0.04838709677419355,
          0.0,
          0.3548387096774194,
          0.6451612903225806
         ],
         "type": "scatter"
        },
        {
         "name": "Predicted",
         "x": [
          "2021-04-12T00:00:00",
          "2021-04-13T00:00:00",
          "2021-04-14T00:00:00",
          "2021-04-15T00:00:00",
          "2021-04-16T00:00:00",
          "2021-04-17T00:00:00",
          "2021-04-18T00:00:00",
          "2021-04-19T00:00:00",
          "2021-04-20T00:00:00",
          "2021-04-21T00:00:00",
          "2021-04-22T00:00:00",
          "2021-04-23T00:00:00",
          "2021-04-24T00:00:00",
          "2021-04-25T00:00:00",
          "2021-04-26T00:00:00",
          "2021-04-27T00:00:00",
          "2021-04-28T00:00:00",
          "2021-04-29T00:00:00",
          "2021-04-30T00:00:00",
          "2021-05-01T00:00:00",
          "2021-05-02T00:00:00",
          "2021-05-03T00:00:00",
          "2021-05-04T00:00:00",
          "2021-05-05T00:00:00",
          "2021-05-06T00:00:00",
          "2021-05-07T00:00:00",
          "2021-05-08T00:00:00",
          "2021-05-09T00:00:00",
          "2021-05-10T00:00:00",
          "2021-05-11T00:00:00"
         ],
         "y": [
          0.08744336664676666,
          0.12586982548236847,
          0.11942338943481445,
          0.13370610773563385,
          0.12852312624454498,
          0.11195668578147888,
          0.10106143355369568,
          0.10022331774234772,
          0.1056806743144989,
          0.10991561412811279,
          0.11461898684501648,
          0.12436853349208832,
          0.1229938268661499,
          0.11009852588176727,
          0.10116244852542877,
          0.10624615848064423,
          0.10876414179801941,
          0.11214514076709747,
          0.12008391320705414,
          0.1103200614452362,
          0.09683209657669067,
          0.10817500948905945,
          0.10919849574565887,
          0.11018058657646179,
          0.11706121265888214,
          0.09795467555522919,
          0.11440816521644592,
          0.1141342967748642,
          0.11390030384063721,
          0.11266244947910309
         ],
         "type": "scatter"
        }
       ],
       "layout": {
        "template": {
         "data": {
          "barpolar": [
           {
            "marker": {
             "line": {
              "color": "rgb(17,17,17)",
              "width": 0.5
             },
             "pattern": {
              "fillmode": "overlay",
              "size": 10,
              "solidity": 0.2
             }
            },
            "type": "barpolar"
           }
          ],
          "bar": [
           {
            "error_x": {
             "color": "#f2f5fa"
            },
            "error_y": {
             "color": "#f2f5fa"
            },
            "marker": {
             "line": {
              "color": "rgb(17,17,17)",
              "width": 0.5
             },
             "pattern": {
              "fillmode": "overlay",
              "size": 10,
              "solidity": 0.2
             }
            },
            "type": "bar"
           }
          ],
          "carpet": [
           {
            "aaxis": {
             "endlinecolor": "#A2B1C6",
             "gridcolor": "#506784",
             "linecolor": "#506784",
             "minorgridcolor": "#506784",
             "startlinecolor": "#A2B1C6"
            },
            "baxis": {
             "endlinecolor": "#A2B1C6",
             "gridcolor": "#506784",
             "linecolor": "#506784",
             "minorgridcolor": "#506784",
             "startlinecolor": "#A2B1C6"
            },
            "type": "carpet"
           }
          ],
          "choropleth": [
           {
            "colorbar": {
             "outlinewidth": 0,
             "ticks": ""
            },
            "type": "choropleth"
           }
          ],
          "contourcarpet": [
           {
            "colorbar": {
             "outlinewidth": 0,
             "ticks": ""
            },
            "type": "contourcarpet"
           }
          ],
          "contour": [
           {
            "colorbar": {
             "outlinewidth": 0,
             "ticks": ""
            },
            "colorscale": [
             [
              0.0,
              "#0d0887"
             ],
             [
              0.1111111111111111,
              "#46039f"
             ],
             [
              0.2222222222222222,
              "#7201a8"
             ],
             [
              0.3333333333333333,
              "#9c179e"
             ],
             [
              0.4444444444444444,
              "#bd3786"
             ],
             [
              0.5555555555555556,
              "#d8576b"
             ],
             [
              0.6666666666666666,
              "#ed7953"
             ],
             [
              0.7777777777777778,
              "#fb9f3a"
             ],
             [
              0.8888888888888888,
              "#fdca26"
             ],
             [
              1.0,
              "#f0f921"
             ]
            ],
            "type": "contour"
           }
          ],
          "heatmapgl": [
           {
            "colorbar": {
             "outlinewidth": 0,
             "ticks": ""
            },
            "colorscale": [
             [
              0.0,
              "#0d0887"
             ],
             [
              0.1111111111111111,
              "#46039f"
             ],
             [
              0.2222222222222222,
              "#7201a8"
             ],
             [
              0.3333333333333333,
              "#9c179e"
             ],
             [
              0.4444444444444444,
              "#bd3786"
             ],
             [
              0.5555555555555556,
              "#d8576b"
             ],
             [
              0.6666666666666666,
              "#ed7953"
             ],
             [
              0.7777777777777778,
              "#fb9f3a"
             ],
             [
              0.8888888888888888,
              "#fdca26"
             ],
             [
              1.0,
              "#f0f921"
             ]
            ],
            "type": "heatmapgl"
           }
          ],
          "heatmap": [
           {
            "colorbar": {
             "outlinewidth": 0,
             "ticks": ""
            },
            "colorscale": [
             [
              0.0,
              "#0d0887"
             ],
             [
              0.1111111111111111,
              "#46039f"
             ],
             [
              0.2222222222222222,
              "#7201a8"
             ],
             [
              0.3333333333333333,
              "#9c179e"
             ],
             [
              0.4444444444444444,
              "#bd3786"
             ],
             [
              0.5555555555555556,
              "#d8576b"
             ],
             [
              0.6666666666666666,
              "#ed7953"
             ],
             [
              0.7777777777777778,
              "#fb9f3a"
             ],
             [
              0.8888888888888888,
              "#fdca26"
             ],
             [
              1.0,
              "#f0f921"
             ]
            ],
            "type": "heatmap"
           }
          ],
          "histogram2dcontour": [
           {
            "colorbar": {
             "outlinewidth": 0,
             "ticks": ""
            },
            "colorscale": [
             [
              0.0,
              "#0d0887"
             ],
             [
              0.1111111111111111,
              "#46039f"
             ],
             [
              0.2222222222222222,
              "#7201a8"
             ],
             [
              0.3333333333333333,
              "#9c179e"
             ],
             [
              0.4444444444444444,
              "#bd3786"
             ],
             [
              0.5555555555555556,
              "#d8576b"
             ],
             [
              0.6666666666666666,
              "#ed7953"
             ],
             [
              0.7777777777777778,
              "#fb9f3a"
             ],
             [
              0.8888888888888888,
              "#fdca26"
             ],
             [
              1.0,
              "#f0f921"
             ]
            ],
            "type": "histogram2dcontour"
           }
          ],
          "histogram2d": [
           {
            "colorbar": {
             "outlinewidth": 0,
             "ticks": ""
            },
            "colorscale": [
             [
              0.0,
              "#0d0887"
             ],
             [
              0.1111111111111111,
              "#46039f"
             ],
             [
              0.2222222222222222,
              "#7201a8"
             ],
             [
              0.3333333333333333,
              "#9c179e"
             ],
             [
              0.4444444444444444,
              "#bd3786"
             ],
             [
              0.5555555555555556,
              "#d8576b"
             ],
             [
              0.6666666666666666,
              "#ed7953"
             ],
             [
              0.7777777777777778,
              "#fb9f3a"
             ],
             [
              0.8888888888888888,
              "#fdca26"
             ],
             [
              1.0,
              "#f0f921"
             ]
            ],
            "type": "histogram2d"
           }
          ],
          "histogram": [
           {
            "marker": {
             "pattern": {
              "fillmode": "overlay",
              "size": 10,
              "solidity": 0.2
             }
            },
            "type": "histogram"
           }
          ],
          "mesh3d": [
           {
            "colorbar": {
             "outlinewidth": 0,
             "ticks": ""
            },
            "type": "mesh3d"
           }
          ],
          "parcoords": [
           {
            "line": {
             "colorbar": {
              "outlinewidth": 0,
              "ticks": ""
             }
            },
            "type": "parcoords"
           }
          ],
          "pie": [
           {
            "automargin": true,
            "type": "pie"
           }
          ],
          "scatter3d": [
           {
            "line": {
             "colorbar": {
              "outlinewidth": 0,
              "ticks": ""
             }
            },
            "marker": {
             "colorbar": {
              "outlinewidth": 0,
              "ticks": ""
             }
            },
            "type": "scatter3d"
           }
          ],
          "scattercarpet": [
           {
            "marker": {
             "colorbar": {
              "outlinewidth": 0,
              "ticks": ""
             }
            },
            "type": "scattercarpet"
           }
          ],
          "scattergeo": [
           {
            "marker": {
             "colorbar": {
              "outlinewidth": 0,
              "ticks": ""
             }
            },
            "type": "scattergeo"
           }
          ],
          "scattergl": [
           {
            "marker": {
             "line": {
              "color": "#283442"
             }
            },
            "type": "scattergl"
           }
          ],
          "scattermapbox": [
           {
            "marker": {
             "colorbar": {
              "outlinewidth": 0,
              "ticks": ""
             }
            },
            "type": "scattermapbox"
           }
          ],
          "scatterpolargl": [
           {
            "marker": {
             "colorbar": {
              "outlinewidth": 0,
              "ticks": ""
             }
            },
            "type": "scatterpolargl"
           }
          ],
          "scatterpolar": [
           {
            "marker": {
             "colorbar": {
              "outlinewidth": 0,
              "ticks": ""
             }
            },
            "type": "scatterpolar"
           }
          ],
          "scatter": [
           {
            "marker": {
             "line": {
              "color": "#283442"
             }
            },
            "type": "scatter"
           }
          ],
          "scatterternary": [
           {
            "marker": {
             "colorbar": {
              "outlinewidth": 0,
              "ticks": ""
             }
            },
            "type": "scatterternary"
           }
          ],
          "surface": [
           {
            "colorbar": {
             "outlinewidth": 0,
             "ticks": ""
            },
            "colorscale": [
             [
              0.0,
              "#0d0887"
             ],
             [
              0.1111111111111111,
              "#46039f"
             ],
             [
              0.2222222222222222,
              "#7201a8"
             ],
             [
              0.3333333333333333,
              "#9c179e"
             ],
             [
              0.4444444444444444,
              "#bd3786"
             ],
             [
              0.5555555555555556,
              "#d8576b"
             ],
             [
              0.6666666666666666,
              "#ed7953"
             ],
             [
              0.7777777777777778,
              "#fb9f3a"
             ],
             [
              0.8888888888888888,
              "#fdca26"
             ],
             [
              1.0,
              "#f0f921"
             ]
            ],
            "type": "surface"
           }
          ],
          "table": [
           {
            "cells": {
             "fill": {
              "color": "#506784"
             },
             "line": {
              "color": "rgb(17,17,17)"
             }
            },
            "header": {
             "fill": {
              "color": "#2a3f5f"
             },
             "line": {
              "color": "rgb(17,17,17)"
             }
            },
            "type": "table"
           }
          ]
         },
         "layout": {
          "annotationdefaults": {
           "arrowcolor": "#f2f5fa",
           "arrowhead": 0,
           "arrowwidth": 1
          },
          "autotypenumbers": "strict",
          "coloraxis": {
           "colorbar": {
            "outlinewidth": 0,
            "ticks": ""
           }
          },
          "colorscale": {
           "diverging": [
            [
             0,
             "#8e0152"
            ],
            [
             0.1,
             "#c51b7d"
            ],
            [
             0.2,
             "#de77ae"
            ],
            [
             0.3,
             "#f1b6da"
            ],
            [
             0.4,
             "#fde0ef"
            ],
            [
             0.5,
             "#f7f7f7"
            ],
            [
             0.6,
             "#e6f5d0"
            ],
            [
             0.7,
             "#b8e186"
            ],
            [
             0.8,
             "#7fbc41"
            ],
            [
             0.9,
             "#4d9221"
            ],
            [
             1,
             "#276419"
            ]
           ],
           "sequential": [
            [
             0.0,
             "#0d0887"
            ],
            [
             0.1111111111111111,
             "#46039f"
            ],
            [
             0.2222222222222222,
             "#7201a8"
            ],
            [
             0.3333333333333333,
             "#9c179e"
            ],
            [
             0.4444444444444444,
             "#bd3786"
            ],
            [
             0.5555555555555556,
             "#d8576b"
            ],
            [
             0.6666666666666666,
             "#ed7953"
            ],
            [
             0.7777777777777778,
             "#fb9f3a"
            ],
            [
             0.8888888888888888,
             "#fdca26"
            ],
            [
             1.0,
             "#f0f921"
            ]
           ],
           "sequentialminus": [
            [
             0.0,
             "#0d0887"
            ],
            [
             0.1111111111111111,
             "#46039f"
            ],
            [
             0.2222222222222222,
             "#7201a8"
            ],
            [
             0.3333333333333333,
             "#9c179e"
            ],
            [
             0.4444444444444444,
             "#bd3786"
            ],
            [
             0.5555555555555556,
             "#d8576b"
            ],
            [
             0.6666666666666666,
             "#ed7953"
            ],
            [
             0.7777777777777778,
             "#fb9f3a"
            ],
            [
             0.8888888888888888,
             "#fdca26"
            ],
            [
             1.0,
             "#f0f921"
            ]
           ]
          },
          "colorway": [
           "#636efa",
           "#EF553B",
           "#00cc96",
           "#ab63fa",
           "#FFA15A",
           "#19d3f3",
           "#FF6692",
           "#B6E880",
           "#FF97FF",
           "#FECB52"
          ],
          "font": {
           "color": "#f2f5fa"
          },
          "geo": {
           "bgcolor": "rgb(17,17,17)",
           "lakecolor": "rgb(17,17,17)",
           "landcolor": "rgb(17,17,17)",
           "showlakes": true,
           "showland": true,
           "subunitcolor": "#506784"
          },
          "hoverlabel": {
           "align": "left"
          },
          "hovermode": "closest",
          "mapbox": {
           "style": "dark"
          },
          "paper_bgcolor": "rgb(17,17,17)",
          "plot_bgcolor": "rgb(17,17,17)",
          "polar": {
           "angularaxis": {
            "gridcolor": "#506784",
            "linecolor": "#506784",
            "ticks": ""
           },
           "bgcolor": "rgb(17,17,17)",
           "radialaxis": {
            "gridcolor": "#506784",
            "linecolor": "#506784",
            "ticks": ""
           }
          },
          "scene": {
           "xaxis": {
            "backgroundcolor": "rgb(17,17,17)",
            "gridcolor": "#506784",
            "gridwidth": 2,
            "linecolor": "#506784",
            "showbackground": true,
            "ticks": "",
            "zerolinecolor": "#C8D4E3"
           },
           "yaxis": {
            "backgroundcolor": "rgb(17,17,17)",
            "gridcolor": "#506784",
            "gridwidth": 2,
            "linecolor": "#506784",
            "showbackground": true,
            "ticks": "",
            "zerolinecolor": "#C8D4E3"
           },
           "zaxis": {
            "backgroundcolor": "rgb(17,17,17)",
            "gridcolor": "#506784",
            "gridwidth": 2,
            "linecolor": "#506784",
            "showbackground": true,
            "ticks": "",
            "zerolinecolor": "#C8D4E3"
           }
          },
          "shapedefaults": {
           "line": {
            "color": "#f2f5fa"
           }
          },
          "sliderdefaults": {
           "bgcolor": "#C8D4E3",
           "bordercolor": "rgb(17,17,17)",
           "borderwidth": 1,
           "tickwidth": 0
          },
          "ternary": {
           "aaxis": {
            "gridcolor": "#506784",
            "linecolor": "#506784",
            "ticks": ""
           },
           "baxis": {
            "gridcolor": "#506784",
            "linecolor": "#506784",
            "ticks": ""
           },
           "bgcolor": "rgb(17,17,17)",
           "caxis": {
            "gridcolor": "#506784",
            "linecolor": "#506784",
            "ticks": ""
           }
          },
          "title": {
           "x": 0.05
          },
          "updatemenudefaults": {
           "bgcolor": "#506784",
           "borderwidth": 0
          },
          "xaxis": {
           "automargin": true,
           "gridcolor": "#283442",
           "linecolor": "#506784",
           "ticks": "",
           "title": {
            "standoff": 15
           },
           "zerolinecolor": "#283442",
           "zerolinewidth": 2
          },
          "yaxis": {
           "automargin": true,
           "gridcolor": "#283442",
           "linecolor": "#506784",
           "ticks": "",
           "title": {
            "standoff": 15
           },
           "zerolinecolor": "#283442",
           "zerolinewidth": 2
          }
         }
        },
        "title": {
         "text": "Test"
        },
        "xaxis": {
         "title": {
          "text": "Date"
         }
        },
        "yaxis": {
         "title": {
          "text": "Sales"
         }
        }
       },
       "config": {
        "showLink": false,
        "linkText": "Export to plot.ly",
        "plotlyServerURL": "https://plot.ly"
       }
      },
      "text/html": "<div>                            <div id=\"54db52e9-48f4-4a8e-90b9-e9d23e965f2f\" class=\"plotly-graph-div\" style=\"height:525px; width:100%;\"></div>            <script type=\"text/javascript\">                require([\"plotly\"], function(Plotly) {                    window.PLOTLYENV=window.PLOTLYENV || {};                                    if (document.getElementById(\"54db52e9-48f4-4a8e-90b9-e9d23e965f2f\")) {                    Plotly.newPlot(                        \"54db52e9-48f4-4a8e-90b9-e9d23e965f2f\",                        [{\"name\":\"Actual\",\"x\":[\"2021-04-12T00:00:00\",\"2021-04-13T00:00:00\",\"2021-04-14T00:00:00\",\"2021-04-15T00:00:00\",\"2021-04-16T00:00:00\",\"2021-04-17T00:00:00\",\"2021-04-18T00:00:00\",\"2021-04-19T00:00:00\",\"2021-04-20T00:00:00\",\"2021-04-21T00:00:00\",\"2021-04-22T00:00:00\",\"2021-04-23T00:00:00\",\"2021-04-24T00:00:00\",\"2021-04-25T00:00:00\",\"2021-04-26T00:00:00\",\"2021-04-27T00:00:00\",\"2021-04-28T00:00:00\",\"2021-04-29T00:00:00\",\"2021-04-30T00:00:00\",\"2021-05-01T00:00:00\",\"2021-05-02T00:00:00\",\"2021-05-03T00:00:00\",\"2021-05-04T00:00:00\",\"2021-05-05T00:00:00\",\"2021-05-06T00:00:00\",\"2021-05-07T00:00:00\",\"2021-05-08T00:00:00\",\"2021-05-09T00:00:00\",\"2021-05-10T00:00:00\",\"2021-05-11T00:00:00\"],\"y\":[0.0,0.0,0.016129032258064516,0.0,0.4838709677419355,0.08064516129032258,0.0967741935483871,0.0,0.016129032258064516,0.016129032258064516,0.0,0.0,0.0,0.0,0.0,0.016129032258064516,0.03225806451612903,0.0,0.03225806451612903,0.0,0.0,0.0,0.016129032258064516,0.016129032258064516,0.0,0.5806451612903226,0.04838709677419355,0.0,0.3548387096774194,0.6451612903225806],\"type\":\"scatter\"},{\"name\":\"Predicted\",\"x\":[\"2021-04-12T00:00:00\",\"2021-04-13T00:00:00\",\"2021-04-14T00:00:00\",\"2021-04-15T00:00:00\",\"2021-04-16T00:00:00\",\"2021-04-17T00:00:00\",\"2021-04-18T00:00:00\",\"2021-04-19T00:00:00\",\"2021-04-20T00:00:00\",\"2021-04-21T00:00:00\",\"2021-04-22T00:00:00\",\"2021-04-23T00:00:00\",\"2021-04-24T00:00:00\",\"2021-04-25T00:00:00\",\"2021-04-26T00:00:00\",\"2021-04-27T00:00:00\",\"2021-04-28T00:00:00\",\"2021-04-29T00:00:00\",\"2021-04-30T00:00:00\",\"2021-05-01T00:00:00\",\"2021-05-02T00:00:00\",\"2021-05-03T00:00:00\",\"2021-05-04T00:00:00\",\"2021-05-05T00:00:00\",\"2021-05-06T00:00:00\",\"2021-05-07T00:00:00\",\"2021-05-08T00:00:00\",\"2021-05-09T00:00:00\",\"2021-05-10T00:00:00\",\"2021-05-11T00:00:00\"],\"y\":[0.08744336664676666,0.12586982548236847,0.11942338943481445,0.13370610773563385,0.12852312624454498,0.11195668578147888,0.10106143355369568,0.10022331774234772,0.1056806743144989,0.10991561412811279,0.11461898684501648,0.12436853349208832,0.1229938268661499,0.11009852588176727,0.10116244852542877,0.10624615848064423,0.10876414179801941,0.11214514076709747,0.12008391320705414,0.1103200614452362,0.09683209657669067,0.10817500948905945,0.10919849574565887,0.11018058657646179,0.11706121265888214,0.09795467555522919,0.11440816521644592,0.1141342967748642,0.11390030384063721,0.11266244947910309],\"type\":\"scatter\"}],                        {\"template\":{\"data\":{\"barpolar\":[{\"marker\":{\"line\":{\"color\":\"rgb(17,17,17)\",\"width\":0.5},\"pattern\":{\"fillmode\":\"overlay\",\"size\":10,\"solidity\":0.2}},\"type\":\"barpolar\"}],\"bar\":[{\"error_x\":{\"color\":\"#f2f5fa\"},\"error_y\":{\"color\":\"#f2f5fa\"},\"marker\":{\"line\":{\"color\":\"rgb(17,17,17)\",\"width\":0.5},\"pattern\":{\"fillmode\":\"overlay\",\"size\":10,\"solidity\":0.2}},\"type\":\"bar\"}],\"carpet\":[{\"aaxis\":{\"endlinecolor\":\"#A2B1C6\",\"gridcolor\":\"#506784\",\"linecolor\":\"#506784\",\"minorgridcolor\":\"#506784\",\"startlinecolor\":\"#A2B1C6\"},\"baxis\":{\"endlinecolor\":\"#A2B1C6\",\"gridcolor\":\"#506784\",\"linecolor\":\"#506784\",\"minorgridcolor\":\"#506784\",\"startlinecolor\":\"#A2B1C6\"},\"type\":\"carpet\"}],\"choropleth\":[{\"colorbar\":{\"outlinewidth\":0,\"ticks\":\"\"},\"type\":\"choropleth\"}],\"contourcarpet\":[{\"colorbar\":{\"outlinewidth\":0,\"ticks\":\"\"},\"type\":\"contourcarpet\"}],\"contour\":[{\"colorbar\":{\"outlinewidth\":0,\"ticks\":\"\"},\"colorscale\":[[0.0,\"#0d0887\"],[0.1111111111111111,\"#46039f\"],[0.2222222222222222,\"#7201a8\"],[0.3333333333333333,\"#9c179e\"],[0.4444444444444444,\"#bd3786\"],[0.5555555555555556,\"#d8576b\"],[0.6666666666666666,\"#ed7953\"],[0.7777777777777778,\"#fb9f3a\"],[0.8888888888888888,\"#fdca26\"],[1.0,\"#f0f921\"]],\"type\":\"contour\"}],\"heatmapgl\":[{\"colorbar\":{\"outlinewidth\":0,\"ticks\":\"\"},\"colorscale\":[[0.0,\"#0d0887\"],[0.1111111111111111,\"#46039f\"],[0.2222222222222222,\"#7201a8\"],[0.3333333333333333,\"#9c179e\"],[0.4444444444444444,\"#bd3786\"],[0.5555555555555556,\"#d8576b\"],[0.6666666666666666,\"#ed7953\"],[0.7777777777777778,\"#fb9f3a\"],[0.8888888888888888,\"#fdca26\"],[1.0,\"#f0f921\"]],\"type\":\"heatmapgl\"}],\"heatmap\":[{\"colorbar\":{\"outlinewidth\":0,\"ticks\":\"\"},\"colorscale\":[[0.0,\"#0d0887\"],[0.1111111111111111,\"#46039f\"],[0.2222222222222222,\"#7201a8\"],[0.3333333333333333,\"#9c179e\"],[0.4444444444444444,\"#bd3786\"],[0.5555555555555556,\"#d8576b\"],[0.6666666666666666,\"#ed7953\"],[0.7777777777777778,\"#fb9f3a\"],[0.8888888888888888,\"#fdca26\"],[1.0,\"#f0f921\"]],\"type\":\"heatmap\"}],\"histogram2dcontour\":[{\"colorbar\":{\"outlinewidth\":0,\"ticks\":\"\"},\"colorscale\":[[0.0,\"#0d0887\"],[0.1111111111111111,\"#46039f\"],[0.2222222222222222,\"#7201a8\"],[0.3333333333333333,\"#9c179e\"],[0.4444444444444444,\"#bd3786\"],[0.5555555555555556,\"#d8576b\"],[0.6666666666666666,\"#ed7953\"],[0.7777777777777778,\"#fb9f3a\"],[0.8888888888888888,\"#fdca26\"],[1.0,\"#f0f921\"]],\"type\":\"histogram2dcontour\"}],\"histogram2d\":[{\"colorbar\":{\"outlinewidth\":0,\"ticks\":\"\"},\"colorscale\":[[0.0,\"#0d0887\"],[0.1111111111111111,\"#46039f\"],[0.2222222222222222,\"#7201a8\"],[0.3333333333333333,\"#9c179e\"],[0.4444444444444444,\"#bd3786\"],[0.5555555555555556,\"#d8576b\"],[0.6666666666666666,\"#ed7953\"],[0.7777777777777778,\"#fb9f3a\"],[0.8888888888888888,\"#fdca26\"],[1.0,\"#f0f921\"]],\"type\":\"histogram2d\"}],\"histogram\":[{\"marker\":{\"pattern\":{\"fillmode\":\"overlay\",\"size\":10,\"solidity\":0.2}},\"type\":\"histogram\"}],\"mesh3d\":[{\"colorbar\":{\"outlinewidth\":0,\"ticks\":\"\"},\"type\":\"mesh3d\"}],\"parcoords\":[{\"line\":{\"colorbar\":{\"outlinewidth\":0,\"ticks\":\"\"}},\"type\":\"parcoords\"}],\"pie\":[{\"automargin\":true,\"type\":\"pie\"}],\"scatter3d\":[{\"line\":{\"colorbar\":{\"outlinewidth\":0,\"ticks\":\"\"}},\"marker\":{\"colorbar\":{\"outlinewidth\":0,\"ticks\":\"\"}},\"type\":\"scatter3d\"}],\"scattercarpet\":[{\"marker\":{\"colorbar\":{\"outlinewidth\":0,\"ticks\":\"\"}},\"type\":\"scattercarpet\"}],\"scattergeo\":[{\"marker\":{\"colorbar\":{\"outlinewidth\":0,\"ticks\":\"\"}},\"type\":\"scattergeo\"}],\"scattergl\":[{\"marker\":{\"line\":{\"color\":\"#283442\"}},\"type\":\"scattergl\"}],\"scattermapbox\":[{\"marker\":{\"colorbar\":{\"outlinewidth\":0,\"ticks\":\"\"}},\"type\":\"scattermapbox\"}],\"scatterpolargl\":[{\"marker\":{\"colorbar\":{\"outlinewidth\":0,\"ticks\":\"\"}},\"type\":\"scatterpolargl\"}],\"scatterpolar\":[{\"marker\":{\"colorbar\":{\"outlinewidth\":0,\"ticks\":\"\"}},\"type\":\"scatterpolar\"}],\"scatter\":[{\"marker\":{\"line\":{\"color\":\"#283442\"}},\"type\":\"scatter\"}],\"scatterternary\":[{\"marker\":{\"colorbar\":{\"outlinewidth\":0,\"ticks\":\"\"}},\"type\":\"scatterternary\"}],\"surface\":[{\"colorbar\":{\"outlinewidth\":0,\"ticks\":\"\"},\"colorscale\":[[0.0,\"#0d0887\"],[0.1111111111111111,\"#46039f\"],[0.2222222222222222,\"#7201a8\"],[0.3333333333333333,\"#9c179e\"],[0.4444444444444444,\"#bd3786\"],[0.5555555555555556,\"#d8576b\"],[0.6666666666666666,\"#ed7953\"],[0.7777777777777778,\"#fb9f3a\"],[0.8888888888888888,\"#fdca26\"],[1.0,\"#f0f921\"]],\"type\":\"surface\"}],\"table\":[{\"cells\":{\"fill\":{\"color\":\"#506784\"},\"line\":{\"color\":\"rgb(17,17,17)\"}},\"header\":{\"fill\":{\"color\":\"#2a3f5f\"},\"line\":{\"color\":\"rgb(17,17,17)\"}},\"type\":\"table\"}]},\"layout\":{\"annotationdefaults\":{\"arrowcolor\":\"#f2f5fa\",\"arrowhead\":0,\"arrowwidth\":1},\"autotypenumbers\":\"strict\",\"coloraxis\":{\"colorbar\":{\"outlinewidth\":0,\"ticks\":\"\"}},\"colorscale\":{\"diverging\":[[0,\"#8e0152\"],[0.1,\"#c51b7d\"],[0.2,\"#de77ae\"],[0.3,\"#f1b6da\"],[0.4,\"#fde0ef\"],[0.5,\"#f7f7f7\"],[0.6,\"#e6f5d0\"],[0.7,\"#b8e186\"],[0.8,\"#7fbc41\"],[0.9,\"#4d9221\"],[1,\"#276419\"]],\"sequential\":[[0.0,\"#0d0887\"],[0.1111111111111111,\"#46039f\"],[0.2222222222222222,\"#7201a8\"],[0.3333333333333333,\"#9c179e\"],[0.4444444444444444,\"#bd3786\"],[0.5555555555555556,\"#d8576b\"],[0.6666666666666666,\"#ed7953\"],[0.7777777777777778,\"#fb9f3a\"],[0.8888888888888888,\"#fdca26\"],[1.0,\"#f0f921\"]],\"sequentialminus\":[[0.0,\"#0d0887\"],[0.1111111111111111,\"#46039f\"],[0.2222222222222222,\"#7201a8\"],[0.3333333333333333,\"#9c179e\"],[0.4444444444444444,\"#bd3786\"],[0.5555555555555556,\"#d8576b\"],[0.6666666666666666,\"#ed7953\"],[0.7777777777777778,\"#fb9f3a\"],[0.8888888888888888,\"#fdca26\"],[1.0,\"#f0f921\"]]},\"colorway\":[\"#636efa\",\"#EF553B\",\"#00cc96\",\"#ab63fa\",\"#FFA15A\",\"#19d3f3\",\"#FF6692\",\"#B6E880\",\"#FF97FF\",\"#FECB52\"],\"font\":{\"color\":\"#f2f5fa\"},\"geo\":{\"bgcolor\":\"rgb(17,17,17)\",\"lakecolor\":\"rgb(17,17,17)\",\"landcolor\":\"rgb(17,17,17)\",\"showlakes\":true,\"showland\":true,\"subunitcolor\":\"#506784\"},\"hoverlabel\":{\"align\":\"left\"},\"hovermode\":\"closest\",\"mapbox\":{\"style\":\"dark\"},\"paper_bgcolor\":\"rgb(17,17,17)\",\"plot_bgcolor\":\"rgb(17,17,17)\",\"polar\":{\"angularaxis\":{\"gridcolor\":\"#506784\",\"linecolor\":\"#506784\",\"ticks\":\"\"},\"bgcolor\":\"rgb(17,17,17)\",\"radialaxis\":{\"gridcolor\":\"#506784\",\"linecolor\":\"#506784\",\"ticks\":\"\"}},\"scene\":{\"xaxis\":{\"backgroundcolor\":\"rgb(17,17,17)\",\"gridcolor\":\"#506784\",\"gridwidth\":2,\"linecolor\":\"#506784\",\"showbackground\":true,\"ticks\":\"\",\"zerolinecolor\":\"#C8D4E3\"},\"yaxis\":{\"backgroundcolor\":\"rgb(17,17,17)\",\"gridcolor\":\"#506784\",\"gridwidth\":2,\"linecolor\":\"#506784\",\"showbackground\":true,\"ticks\":\"\",\"zerolinecolor\":\"#C8D4E3\"},\"zaxis\":{\"backgroundcolor\":\"rgb(17,17,17)\",\"gridcolor\":\"#506784\",\"gridwidth\":2,\"linecolor\":\"#506784\",\"showbackground\":true,\"ticks\":\"\",\"zerolinecolor\":\"#C8D4E3\"}},\"shapedefaults\":{\"line\":{\"color\":\"#f2f5fa\"}},\"sliderdefaults\":{\"bgcolor\":\"#C8D4E3\",\"bordercolor\":\"rgb(17,17,17)\",\"borderwidth\":1,\"tickwidth\":0},\"ternary\":{\"aaxis\":{\"gridcolor\":\"#506784\",\"linecolor\":\"#506784\",\"ticks\":\"\"},\"baxis\":{\"gridcolor\":\"#506784\",\"linecolor\":\"#506784\",\"ticks\":\"\"},\"bgcolor\":\"rgb(17,17,17)\",\"caxis\":{\"gridcolor\":\"#506784\",\"linecolor\":\"#506784\",\"ticks\":\"\"}},\"title\":{\"x\":0.05},\"updatemenudefaults\":{\"bgcolor\":\"#506784\",\"borderwidth\":0},\"xaxis\":{\"automargin\":true,\"gridcolor\":\"#283442\",\"linecolor\":\"#506784\",\"ticks\":\"\",\"title\":{\"standoff\":15},\"zerolinecolor\":\"#283442\",\"zerolinewidth\":2},\"yaxis\":{\"automargin\":true,\"gridcolor\":\"#283442\",\"linecolor\":\"#506784\",\"ticks\":\"\",\"title\":{\"standoff\":15},\"zerolinecolor\":\"#283442\",\"zerolinewidth\":2}}},\"title\":{\"text\":\"Test\"},\"xaxis\":{\"title\":{\"text\":\"Date\"}},\"yaxis\":{\"title\":{\"text\":\"Sales\"}}},                        {\"responsive\": true}                    ).then(function(){\n                            \nvar gd = document.getElementById('54db52e9-48f4-4a8e-90b9-e9d23e965f2f');\nvar x = new MutationObserver(function (mutations, observer) {{\n        var display = window.getComputedStyle(gd).display;\n        if (!display || display === 'none') {{\n            console.log([gd, 'removed!']);\n            Plotly.purge(gd);\n            observer.disconnect();\n        }}\n}});\n\n// Listen for the removal of the full notebook cells\nvar notebookContainer = gd.closest('#notebook-container');\nif (notebookContainer) {{\n    x.observe(notebookContainer, {childList: true});\n}}\n\n// Listen for the clearing of the current output cell\nvar outputEl = gd.closest('.output');\nif (outputEl) {{\n    x.observe(outputEl, {childList: true});\n}}\n\n                        })                };                });            </script>        </div>"
     },
     "metadata": {},
     "output_type": "display_data"
    }
   ],
   "source": [
    "predicted_sales_sc = go.Scatter(x=tes_res['date'], y=tes_res['pred_sale'], name='Predicted')\n",
    "actual_sales_sc = go.Scatter(x=tes_res['date'], y=tes_res['sale_qty'], name='Actual')\n",
    "layout = go.Layout(title='Test', xaxis=dict(title='Date'), yaxis=dict(title='Sales'))\n",
    "fig = go.Figure(data=[actual_sales_sc, predicted_sales_sc], layout=layout)\n",
    "iplot(fig)"
   ],
   "metadata": {
    "collapsed": false
   }
  },
  {
   "cell_type": "code",
   "execution_count": 41,
   "outputs": [
    {
     "name": "stdout",
     "output_type": "stream",
     "text": [
      "RMSE:  0.14534663396163833\n",
      "MSE:  0.02112564400397848\n",
      "MAE:  0.12026717656402178\n",
      "MPE 316939532780613.25\n"
     ]
    }
   ],
   "source": [
    "# Calculate the RMSE\n",
    "rmse = np.sqrt(mean_squared_error(scaled_train[-30:], pred))\n",
    "print(\"RMSE: \", rmse)\n",
    "mse = mean_squared_error(scaled_train[-30:], pred)\n",
    "print(\"MSE: \", mse)\n",
    "mae = mean_absolute_error(scaled_train[-30:], pred)\n",
    "print(\"MAE: \", mae)\n",
    "mpe = mean_absolute_percentage_error(scaled_train[-30:], pred)\n",
    "print(\"MPE\", mpe)"
   ],
   "metadata": {
    "collapsed": false
   }
  },
  {
   "cell_type": "markdown",
   "source": [
    "RMSE:  0.13260751295986506\n",
    "MSE:  0.017584752493400777\n",
    "MAE:  0.07265098402577061\n",
    "MPE 140378232236715.03\n",
    "\n",
    "RMSE:  0.13239336466791987\n",
    "MSE:  0.017528003008092815\n",
    "MAE:  0.07560938494580408\n",
    "MPE 151482466408858.0"
   ],
   "metadata": {
    "collapsed": false
   }
  },
  {
   "cell_type": "code",
   "execution_count": 13,
   "outputs": [],
   "source": [
    "tf.keras.models.save_model(model, 'E:/Program/PKLProjekt/Jupyter/Sales-Forecasting/Model/model.h5')"
   ],
   "metadata": {
    "collapsed": false
   }
  },
  {
   "cell_type": "markdown",
   "source": [
    "# Training"
   ],
   "metadata": {
    "collapsed": false
   }
  },
  {
   "cell_type": "code",
   "execution_count": 33,
   "outputs": [
    {
     "data": {
      "text/plain": "     Unnamed: 0  material\n68           68  11000113\n69           69  11000115\n70           70  11000116\n71           71  11000117\n72           72  11000118\n..          ...       ...\n544         544  11002173\n545         545  11002174\n546         546  11002182\n547         547  11002198\n548         548  11002204\n\n[481 rows x 2 columns]",
      "text/html": "<div>\n<style scoped>\n    .dataframe tbody tr th:only-of-type {\n        vertical-align: middle;\n    }\n\n    .dataframe tbody tr th {\n        vertical-align: top;\n    }\n\n    .dataframe thead th {\n        text-align: right;\n    }\n</style>\n<table border=\"1\" class=\"dataframe\">\n  <thead>\n    <tr style=\"text-align: right;\">\n      <th></th>\n      <th>Unnamed: 0</th>\n      <th>material</th>\n    </tr>\n  </thead>\n  <tbody>\n    <tr>\n      <th>68</th>\n      <td>68</td>\n      <td>11000113</td>\n    </tr>\n    <tr>\n      <th>69</th>\n      <td>69</td>\n      <td>11000115</td>\n    </tr>\n    <tr>\n      <th>70</th>\n      <td>70</td>\n      <td>11000116</td>\n    </tr>\n    <tr>\n      <th>71</th>\n      <td>71</td>\n      <td>11000117</td>\n    </tr>\n    <tr>\n      <th>72</th>\n      <td>72</td>\n      <td>11000118</td>\n    </tr>\n    <tr>\n      <th>...</th>\n      <td>...</td>\n      <td>...</td>\n    </tr>\n    <tr>\n      <th>544</th>\n      <td>544</td>\n      <td>11002173</td>\n    </tr>\n    <tr>\n      <th>545</th>\n      <td>545</td>\n      <td>11002174</td>\n    </tr>\n    <tr>\n      <th>546</th>\n      <td>546</td>\n      <td>11002182</td>\n    </tr>\n    <tr>\n      <th>547</th>\n      <td>547</td>\n      <td>11002198</td>\n    </tr>\n    <tr>\n      <th>548</th>\n      <td>548</td>\n      <td>11002204</td>\n    </tr>\n  </tbody>\n</table>\n<p>481 rows × 2 columns</p>\n</div>"
     },
     "execution_count": 33,
     "metadata": {},
     "output_type": "execute_result"
    }
   ],
   "source": [
    "material_list = pd.read_csv('E:/Program/PKLProjekt/Jupyter/Sales-Forecasting/material_list.csv')\n",
    "material_list = material_list.drop(['material_desc'],axis=1)\n",
    "material_list['material'] = material_list['material'].astype(np.int64)\n",
    "material_list = material_list[68:]\n",
    "material_list"
   ],
   "metadata": {
    "collapsed": false
   }
  },
  {
   "cell_type": "markdown",
   "source": [
    "material_list['material'] = ['11000002',\n",
    "                             '11000008',\n",
    "                             '11000009',\n",
    "                             '11000025',\n",
    "                             '11000082',\n",
    "                             '11000146',\n",
    "                             '11000188',\n",
    "                             '11000192',\n",
    "                             '11000219',\n",
    "                             '11000220',\n",
    "                             '11000222',\n",
    "                             '11000241',\n",
    "                             '11000251',\n",
    "                             '11000257',\n",
    "                             '11000267',\n",
    "                             '11000288',\n",
    "                             '11000298',\n",
    "                             '11000302',\n",
    "                             '11000303',\n",
    "                             '11000362',\n",
    "                             '11000424',\n",
    "                             '11000485',\n",
    "                             '11000487',\n",
    "                             '11000501',\n",
    "                             '11000502',\n",
    "                             '11000684',\n",
    "                             '11001044',\n",
    "                             '11001296'\n",
    "                             '11001655',\n",
    "                             '11001657',\n",
    "                             '11001658',\n",
    "                             '11001741',\n",
    "                             '11002020']"
   ],
   "metadata": {
    "collapsed": false
   }
  },
  {
   "cell_type": "code",
   "execution_count": 17,
   "outputs": [
    {
     "name": "stdout",
     "output_type": "stream",
     "text": [
      "Model: \"model\"\n",
      "_________________________________________________________________\n",
      " Layer (type)                Output Shape              Param #   \n",
      "=================================================================\n",
      " input_1 (InputLayer)        [(None, 30, 1)]           0         \n",
      "                                                                 \n",
      " lstm (LSTM)                 (None, 30, 100)           40800     \n",
      "                                                                 \n",
      " lstm_1 (LSTM)               (None, 30, 50)            30200     \n",
      "                                                                 \n",
      " lstm_2 (LSTM)               (None, 10)                2440      \n",
      "                                                                 \n",
      " activation (Activation)     (None, 10)                0         \n",
      "                                                                 \n",
      " dense (Dense)               (None, 1)                 11        \n",
      "                                                                 \n",
      "=================================================================\n",
      "Total params: 73,451\n",
      "Trainable params: 73,451\n",
      "Non-trainable params: 0\n",
      "_________________________________________________________________\n"
     ]
    }
   ],
   "source": [
    "model = tf.keras.models.load_model('E:/Program/PKLProjekt/Jupyter/Sales-Forecasting/Model/model.h5')\n",
    "model.summary()"
   ],
   "metadata": {
    "collapsed": false
   }
  },
  {
   "cell_type": "code",
   "execution_count": 34,
   "outputs": [
    {
     "name": "stdout",
     "output_type": "stream",
     "text": [
      "Material_ID : 11000113\n",
      "Epoch 1/50\n",
      "115/115 [==============================] - 5s 12ms/step - loss: 0.0147 - lr: 0.0010\n",
      "Epoch 2/50\n",
      "115/115 [==============================] - 1s 9ms/step - loss: 0.0135 - lr: 0.0010\n",
      "Epoch 3/50\n",
      "115/115 [==============================] - 1s 9ms/step - loss: 0.0131 - lr: 0.0010\n",
      "Epoch 4/50\n",
      "115/115 [==============================] - 1s 9ms/step - loss: 0.0130 - lr: 0.0010\n",
      "Epoch 5/50\n",
      "115/115 [==============================] - 1s 9ms/step - loss: 0.0128 - lr: 0.0010\n",
      "Epoch 6/50\n",
      "115/115 [==============================] - 1s 9ms/step - loss: 0.0127 - lr: 0.0010\n",
      "Epoch 7/50\n",
      "115/115 [==============================] - 1s 10ms/step - loss: 0.0125 - lr: 0.0010\n",
      "Epoch 8/50\n",
      "115/115 [==============================] - 1s 10ms/step - loss: 0.0123 - lr: 0.0010\n",
      "Epoch 9/50\n",
      "115/115 [==============================] - 1s 9ms/step - loss: 0.0118 - lr: 0.0010\n",
      "Epoch 10/50\n",
      "115/115 [==============================] - 1s 9ms/step - loss: 0.0118 - lr: 0.0010\n",
      "Epoch 11/50\n",
      "115/115 [==============================] - 1s 9ms/step - loss: 0.0117 - lr: 0.0010\n",
      "Epoch 12/50\n",
      "115/115 [==============================] - 1s 9ms/step - loss: 0.0118 - lr: 0.0010\n",
      "Epoch 13/50\n",
      "115/115 [==============================] - 1s 10ms/step - loss: 0.0118 - lr: 0.0010\n",
      "Epoch 14/50\n",
      "115/115 [==============================] - 1s 11ms/step - loss: 0.0114 - lr: 0.0010\n",
      "Epoch 15/50\n",
      "115/115 [==============================] - 1s 11ms/step - loss: 0.0111 - lr: 0.0010\n",
      "Epoch 16/50\n",
      "115/115 [==============================] - 1s 9ms/step - loss: 0.0110 - lr: 0.0010\n",
      "Epoch 17/50\n",
      "115/115 [==============================] - 1s 9ms/step - loss: 0.0109 - lr: 0.0010\n",
      "Epoch 18/50\n",
      "115/115 [==============================] - 1s 10ms/step - loss: 0.0110 - lr: 0.0010\n",
      "Epoch 19/50\n",
      "115/115 [==============================] - 1s 10ms/step - loss: 0.0106 - lr: 0.0010\n",
      "Epoch 20/50\n",
      "115/115 [==============================] - 1s 11ms/step - loss: 0.0102 - lr: 0.0010\n",
      "Epoch 21/50\n",
      "115/115 [==============================] - 1s 10ms/step - loss: 0.0107 - lr: 0.0010\n",
      "Epoch 22/50\n",
      "115/115 [==============================] - 1s 10ms/step - loss: 0.0105 - lr: 0.0010\n",
      "Epoch 23/50\n",
      "115/115 [==============================] - 1s 9ms/step - loss: 0.0103 - lr: 0.0010\n",
      "Epoch 24/50\n",
      "115/115 [==============================] - 1s 10ms/step - loss: 0.0105 - lr: 0.0010\n",
      "Epoch 25/50\n",
      "115/115 [==============================] - 1s 9ms/step - loss: 0.0096 - lr: 0.0010\n",
      "Epoch 26/50\n",
      "115/115 [==============================] - 1s 11ms/step - loss: 0.0088 - lr: 1.0000e-04\n",
      "Epoch 27/50\n",
      "115/115 [==============================] - 2s 13ms/step - loss: 0.0087 - lr: 1.0000e-04\n",
      "Epoch 28/50\n",
      "115/115 [==============================] - 1s 11ms/step - loss: 0.0086 - lr: 1.0000e-04\n",
      "Epoch 29/50\n",
      "115/115 [==============================] - 1s 11ms/step - loss: 0.0086 - lr: 1.0000e-04\n",
      "Epoch 30/50\n",
      "115/115 [==============================] - 1s 9ms/step - loss: 0.0085 - lr: 1.0000e-04\n",
      "Epoch 31/50\n",
      "115/115 [==============================] - 1s 10ms/step - loss: 0.0085 - lr: 1.0000e-04\n",
      "Epoch 32/50\n",
      "115/115 [==============================] - 1s 12ms/step - loss: 0.0085 - lr: 1.0000e-04\n",
      "Epoch 33/50\n",
      "115/115 [==============================] - 1s 12ms/step - loss: 0.0084 - lr: 1.0000e-04\n",
      "Epoch 34/50\n",
      "115/115 [==============================] - 1s 10ms/step - loss: 0.0084 - lr: 1.0000e-04\n",
      "Epoch 35/50\n",
      "115/115 [==============================] - 1s 9ms/step - loss: 0.0083 - lr: 1.0000e-04\n",
      "Epoch 36/50\n",
      "115/115 [==============================] - 1s 9ms/step - loss: 0.0083 - lr: 1.0000e-04\n",
      "Epoch 37/50\n",
      "115/115 [==============================] - 1s 9ms/step - loss: 0.0083 - lr: 1.0000e-04\n",
      "Epoch 38/50\n",
      "115/115 [==============================] - 1s 10ms/step - loss: 0.0082 - lr: 1.0000e-04\n",
      "Epoch 39/50\n",
      "115/115 [==============================] - 1s 11ms/step - loss: 0.0082 - lr: 1.0000e-04\n",
      "Epoch 40/50\n",
      "115/115 [==============================] - 1s 10ms/step - loss: 0.0082 - lr: 1.0000e-04\n",
      "Epoch 41/50\n",
      "115/115 [==============================] - 1s 9ms/step - loss: 0.0081 - lr: 1.0000e-04\n",
      "Epoch 42/50\n",
      "115/115 [==============================] - 1s 9ms/step - loss: 0.0081 - lr: 1.0000e-04\n",
      "Epoch 43/50\n",
      "115/115 [==============================] - 1s 9ms/step - loss: 0.0081 - lr: 1.0000e-04\n",
      "Epoch 44/50\n",
      "115/115 [==============================] - 1s 9ms/step - loss: 0.0080 - lr: 1.0000e-04\n",
      "Epoch 45/50\n",
      "115/115 [==============================] - 1s 10ms/step - loss: 0.0080 - lr: 1.0000e-04\n",
      "Epoch 46/50\n",
      "115/115 [==============================] - 1s 11ms/step - loss: 0.0080 - lr: 1.0000e-04\n",
      "Epoch 47/50\n",
      "115/115 [==============================] - 1s 9ms/step - loss: 0.0079 - lr: 1.0000e-04\n",
      "Epoch 48/50\n",
      "115/115 [==============================] - 1s 9ms/step - loss: 0.0080 - lr: 1.0000e-04\n",
      "Epoch 49/50\n",
      "115/115 [==============================] - 1s 9ms/step - loss: 0.0079 - lr: 1.0000e-04\n",
      "Epoch 50/50\n",
      "115/115 [==============================] - 1s 9ms/step - loss: 0.0079 - lr: 1.0000e-04\n",
      "Material_ID : 11000115\n",
      "Epoch 1/50\n",
      "115/115 [==============================] - 4s 10ms/step - loss: 0.0180 - lr: 0.0010\n",
      "Epoch 2/50\n",
      "115/115 [==============================] - 1s 9ms/step - loss: 0.0162 - lr: 0.0010\n",
      "Epoch 3/50\n",
      "115/115 [==============================] - 1s 9ms/step - loss: 0.0153 - lr: 0.0010\n",
      "Epoch 4/50\n",
      "115/115 [==============================] - 1s 9ms/step - loss: 0.0149 - lr: 0.0010\n",
      "Epoch 5/50\n",
      "115/115 [==============================] - 1s 10ms/step - loss: 0.0146 - lr: 0.0010\n",
      "Epoch 6/50\n",
      "115/115 [==============================] - 1s 11ms/step - loss: 0.0143 - lr: 0.0010\n",
      "Epoch 7/50\n",
      "115/115 [==============================] - 1s 11ms/step - loss: 0.0141 - lr: 0.0010\n",
      "Epoch 8/50\n",
      "115/115 [==============================] - 1s 9ms/step - loss: 0.0151 - lr: 0.0010\n",
      "Epoch 9/50\n",
      "115/115 [==============================] - 1s 9ms/step - loss: 0.0141 - lr: 0.0010\n",
      "Epoch 10/50\n",
      "115/115 [==============================] - 1s 11ms/step - loss: 0.0142 - lr: 0.0010\n",
      "Epoch 11/50\n",
      "115/115 [==============================] - 1s 12ms/step - loss: 0.0141 - lr: 0.0010\n",
      "Epoch 12/50\n",
      "115/115 [==============================] - 1s 12ms/step - loss: 0.0139 - lr: 0.0010\n",
      "Epoch 13/50\n",
      "115/115 [==============================] - 1s 11ms/step - loss: 0.0139 - lr: 0.0010\n",
      "Epoch 14/50\n",
      "115/115 [==============================] - 1s 9ms/step - loss: 0.0135 - lr: 0.0010\n",
      "Epoch 15/50\n",
      "115/115 [==============================] - 1s 9ms/step - loss: 0.0130 - lr: 0.0010\n",
      "Epoch 16/50\n",
      "115/115 [==============================] - 1s 9ms/step - loss: 0.0131 - lr: 0.0010\n",
      "Epoch 17/50\n",
      "115/115 [==============================] - 1s 9ms/step - loss: 0.0137 - lr: 0.0010\n",
      "Epoch 18/50\n",
      "115/115 [==============================] - 1s 10ms/step - loss: 0.0126 - lr: 0.0010\n",
      "Epoch 19/50\n",
      "115/115 [==============================] - 1s 12ms/step - loss: 0.0136 - lr: 0.0010\n",
      "Epoch 20/50\n",
      "115/115 [==============================] - 1s 11ms/step - loss: 0.0136 - lr: 0.0010\n",
      "Epoch 21/50\n",
      "115/115 [==============================] - 1s 10ms/step - loss: 0.0123 - lr: 0.0010\n",
      "Epoch 22/50\n",
      "115/115 [==============================] - 1s 9ms/step - loss: 0.0123 - lr: 0.0010\n",
      "Epoch 23/50\n",
      "115/115 [==============================] - 1s 9ms/step - loss: 0.0122 - lr: 0.0010\n",
      "Epoch 24/50\n",
      "115/115 [==============================] - 1s 10ms/step - loss: 0.0128 - lr: 0.0010\n",
      "Epoch 25/50\n",
      "115/115 [==============================] - 1s 12ms/step - loss: 0.0133 - lr: 0.0010\n",
      "Epoch 26/50\n",
      "115/115 [==============================] - 1s 12ms/step - loss: 0.0116 - lr: 1.0000e-04\n",
      "Epoch 27/50\n",
      "115/115 [==============================] - 1s 9ms/step - loss: 0.0112 - lr: 1.0000e-04\n",
      "Epoch 28/50\n",
      "115/115 [==============================] - 1s 10ms/step - loss: 0.0110 - lr: 1.0000e-04\n",
      "Epoch 29/50\n",
      "115/115 [==============================] - 1s 10ms/step - loss: 0.0109 - lr: 1.0000e-04\n",
      "Epoch 30/50\n",
      "115/115 [==============================] - 1s 9ms/step - loss: 0.0108 - lr: 1.0000e-04\n",
      "Epoch 31/50\n",
      "115/115 [==============================] - 1s 10ms/step - loss: 0.0107 - lr: 1.0000e-04\n",
      "Epoch 32/50\n",
      "115/115 [==============================] - 1s 12ms/step - loss: 0.0106 - lr: 1.0000e-04\n",
      "Epoch 33/50\n",
      "115/115 [==============================] - 1s 11ms/step - loss: 0.0105 - lr: 1.0000e-04\n",
      "Epoch 34/50\n",
      "115/115 [==============================] - 1s 11ms/step - loss: 0.0104 - lr: 1.0000e-04\n",
      "Epoch 35/50\n",
      "115/115 [==============================] - 1s 11ms/step - loss: 0.0103 - lr: 1.0000e-04\n",
      "Epoch 36/50\n",
      "115/115 [==============================] - 1s 10ms/step - loss: 0.0103 - lr: 1.0000e-04\n",
      "Epoch 37/50\n",
      "115/115 [==============================] - 1s 13ms/step - loss: 0.0102 - lr: 1.0000e-04\n",
      "Epoch 38/50\n",
      "115/115 [==============================] - 1s 12ms/step - loss: 0.0102 - lr: 1.0000e-04\n",
      "Epoch 39/50\n",
      "115/115 [==============================] - 1s 10ms/step - loss: 0.0101 - lr: 1.0000e-04\n",
      "Epoch 40/50\n",
      "115/115 [==============================] - 1s 10ms/step - loss: 0.0100 - lr: 1.0000e-04\n",
      "Epoch 41/50\n",
      "115/115 [==============================] - 1s 9ms/step - loss: 0.0099 - lr: 1.0000e-04\n",
      "Epoch 42/50\n",
      "115/115 [==============================] - 1s 9ms/step - loss: 0.0098 - lr: 1.0000e-04\n",
      "Epoch 43/50\n",
      "115/115 [==============================] - 1s 9ms/step - loss: 0.0097 - lr: 1.0000e-04\n",
      "Epoch 44/50\n",
      "115/115 [==============================] - 1s 12ms/step - loss: 0.0097 - lr: 1.0000e-04\n",
      "Epoch 45/50\n",
      "115/115 [==============================] - 1s 12ms/step - loss: 0.0096 - lr: 1.0000e-04\n",
      "Epoch 46/50\n",
      "115/115 [==============================] - 1s 9ms/step - loss: 0.0095 - lr: 1.0000e-04\n",
      "Epoch 47/50\n",
      "115/115 [==============================] - 1s 10ms/step - loss: 0.0095 - lr: 1.0000e-04\n",
      "Epoch 48/50\n",
      "115/115 [==============================] - 1s 10ms/step - loss: 0.0093 - lr: 1.0000e-04\n",
      "Epoch 49/50\n",
      "115/115 [==============================] - 1s 9ms/step - loss: 0.0092 - lr: 1.0000e-04\n",
      "Epoch 50/50\n",
      "115/115 [==============================] - 1s 11ms/step - loss: 0.0091 - lr: 1.0000e-04\n",
      "Material_ID : 11000116\n",
      "Epoch 1/50\n",
      "115/115 [==============================] - 4s 11ms/step - loss: 0.0117 - lr: 0.0010\n",
      "Epoch 2/50\n",
      "115/115 [==============================] - 1s 10ms/step - loss: 0.0096 - lr: 0.0010\n",
      "Epoch 3/50\n",
      "115/115 [==============================] - 1s 12ms/step - loss: 0.0080 - lr: 0.0010\n",
      "Epoch 4/50\n",
      "115/115 [==============================] - 2s 14ms/step - loss: 0.0078 - lr: 0.0010\n",
      "Epoch 5/50\n",
      "115/115 [==============================] - 1s 11ms/step - loss: 0.0071 - lr: 0.0010\n",
      "Epoch 6/50\n",
      "115/115 [==============================] - 1s 9ms/step - loss: 0.0068 - lr: 0.0010\n",
      "Epoch 7/50\n",
      "115/115 [==============================] - 1s 9ms/step - loss: 0.0065 - lr: 0.0010\n",
      "Epoch 8/50\n",
      "115/115 [==============================] - 1s 9ms/step - loss: 0.0062 - lr: 0.0010\n",
      "Epoch 9/50\n",
      "115/115 [==============================] - 1s 10ms/step - loss: 0.0059 - lr: 0.0010\n",
      "Epoch 10/50\n",
      "115/115 [==============================] - 2s 13ms/step - loss: 0.0057 - lr: 0.0010\n",
      "Epoch 11/50\n",
      "115/115 [==============================] - 2s 13ms/step - loss: 0.0056 - lr: 0.0010\n",
      "Epoch 12/50\n",
      "115/115 [==============================] - 1s 11ms/step - loss: 0.0054 - lr: 0.0010\n",
      "Epoch 13/50\n",
      "115/115 [==============================] - 1s 9ms/step - loss: 0.0053 - lr: 0.0010\n",
      "Epoch 14/50\n",
      "115/115 [==============================] - 1s 10ms/step - loss: 0.0052 - lr: 0.0010\n",
      "Epoch 15/50\n",
      "115/115 [==============================] - 1s 10ms/step - loss: 0.0051 - lr: 0.0010\n",
      "Epoch 16/50\n",
      "115/115 [==============================] - 1s 11ms/step - loss: 0.0053 - lr: 0.0010\n",
      "Epoch 17/50\n",
      "115/115 [==============================] - 1s 12ms/step - loss: 0.0049 - lr: 0.0010\n",
      "Epoch 18/50\n",
      "115/115 [==============================] - 1s 12ms/step - loss: 0.0048 - lr: 0.0010\n",
      "Epoch 19/50\n",
      "115/115 [==============================] - 1s 11ms/step - loss: 0.0047 - lr: 0.0010\n",
      "Epoch 20/50\n",
      "115/115 [==============================] - 1s 11ms/step - loss: 0.0046 - lr: 0.0010\n",
      "Epoch 21/50\n",
      "115/115 [==============================] - 1s 12ms/step - loss: 0.0045 - lr: 0.0010\n",
      "Epoch 22/50\n",
      "115/115 [==============================] - 1s 11ms/step - loss: 0.0047 - lr: 0.0010\n",
      "Epoch 23/50\n",
      "115/115 [==============================] - 1s 12ms/step - loss: 0.0045 - lr: 0.0010\n",
      "Epoch 24/50\n",
      "115/115 [==============================] - 1s 10ms/step - loss: 0.0044 - lr: 0.0010\n",
      "Epoch 25/50\n",
      "115/115 [==============================] - 1s 10ms/step - loss: 0.0045 - lr: 0.0010\n",
      "Epoch 26/50\n",
      "115/115 [==============================] - 1s 9ms/step - loss: 0.0044 - lr: 1.0000e-04\n",
      "Epoch 27/50\n",
      "115/115 [==============================] - 4s 37ms/step - loss: 0.0044 - lr: 1.0000e-04\n",
      "Epoch 28/50\n",
      "115/115 [==============================] - 3s 28ms/step - loss: 0.0043 - lr: 1.0000e-04\n",
      "Epoch 29/50\n",
      "115/115 [==============================] - 1s 11ms/step - loss: 0.0043 - lr: 1.0000e-04\n",
      "Epoch 30/50\n",
      "115/115 [==============================] - 1s 11ms/step - loss: 0.0043 - lr: 1.0000e-04\n",
      "Epoch 31/50\n",
      "115/115 [==============================] - 2s 13ms/step - loss: 0.0043 - lr: 1.0000e-04\n",
      "Epoch 32/50\n",
      "115/115 [==============================] - 1s 12ms/step - loss: 0.0043 - lr: 1.0000e-04\n",
      "Epoch 33/50\n",
      "115/115 [==============================] - 1s 12ms/step - loss: 0.0042 - lr: 1.0000e-04\n",
      "Epoch 34/50\n",
      "115/115 [==============================] - 1s 12ms/step - loss: 0.0042 - lr: 1.0000e-04\n",
      "Epoch 35/50\n",
      "115/115 [==============================] - 1s 11ms/step - loss: 0.0042 - lr: 1.0000e-04\n",
      "Epoch 36/50\n",
      "115/115 [==============================] - 1s 13ms/step - loss: 0.0042 - lr: 1.0000e-04\n",
      "Epoch 37/50\n",
      "115/115 [==============================] - 2s 13ms/step - loss: 0.0042 - lr: 1.0000e-04\n",
      "Epoch 38/50\n",
      "115/115 [==============================] - 1s 11ms/step - loss: 0.0042 - lr: 1.0000e-04\n",
      "Epoch 39/50\n",
      "115/115 [==============================] - 1s 12ms/step - loss: 0.0042 - lr: 1.0000e-04\n",
      "Epoch 40/50\n",
      "115/115 [==============================] - 1s 11ms/step - loss: 0.0042 - lr: 1.0000e-04\n",
      "Epoch 41/50\n",
      "115/115 [==============================] - 1s 11ms/step - loss: 0.0042 - lr: 1.0000e-04\n",
      "Epoch 42/50\n",
      "115/115 [==============================] - 2s 14ms/step - loss: 0.0042 - lr: 1.0000e-04\n",
      "Epoch 43/50\n",
      "115/115 [==============================] - 1s 13ms/step - loss: 0.0042 - lr: 1.0000e-04\n",
      "Epoch 44/50\n",
      "115/115 [==============================] - 1s 11ms/step - loss: 0.0042 - lr: 1.0000e-04\n",
      "Epoch 45/50\n",
      "115/115 [==============================] - 1s 12ms/step - loss: 0.0042 - lr: 1.0000e-04\n",
      "Epoch 46/50\n",
      "115/115 [==============================] - 1s 12ms/step - loss: 0.0042 - lr: 1.0000e-04\n",
      "Epoch 47/50\n",
      "115/115 [==============================] - 2s 13ms/step - loss: 0.0042 - lr: 1.0000e-04\n",
      "Epoch 48/50\n",
      "115/115 [==============================] - 2s 14ms/step - loss: 0.0042 - lr: 1.0000e-04\n",
      "Epoch 49/50\n",
      "115/115 [==============================] - 1s 12ms/step - loss: 0.0042 - lr: 1.0000e-04\n",
      "Epoch 50/50\n",
      "115/115 [==============================] - 1s 11ms/step - loss: 0.0042 - lr: 1.0000e-04\n",
      "Material_ID : 11000117\n",
      "Data Tidak Mencukupi. Skiping.....\n",
      "Material_ID : 11000118\n",
      "Data Tidak Mencukupi. Skiping.....\n",
      "Material_ID : 11000121\n",
      "Epoch 1/50\n",
      "115/115 [==============================] - 5s 14ms/step - loss: 0.0081 - lr: 0.0010\n",
      "Epoch 2/50\n",
      "115/115 [==============================] - 1s 12ms/step - loss: 0.0052 - lr: 0.0010\n",
      "Epoch 3/50\n",
      "115/115 [==============================] - 1s 12ms/step - loss: 0.0048 - lr: 0.0010\n",
      "Epoch 4/50\n",
      "115/115 [==============================] - 1s 11ms/step - loss: 0.0045 - lr: 0.0010\n",
      "Epoch 5/50\n",
      "115/115 [==============================] - 1s 13ms/step - loss: 0.0047 - lr: 0.0010\n",
      "Epoch 6/50\n",
      "115/115 [==============================] - 2s 14ms/step - loss: 0.0044 - lr: 0.0010\n",
      "Epoch 7/50\n",
      "115/115 [==============================] - 1s 11ms/step - loss: 0.0042 - lr: 0.0010\n",
      "Epoch 8/50\n",
      "115/115 [==============================] - 1s 11ms/step - loss: 0.0041 - lr: 0.0010\n",
      "Epoch 9/50\n",
      "115/115 [==============================] - 1s 11ms/step - loss: 0.0040 - lr: 0.0010\n",
      "Epoch 10/50\n",
      "115/115 [==============================] - 1s 11ms/step - loss: 0.0040 - lr: 0.0010\n",
      "Epoch 11/50\n",
      "115/115 [==============================] - 2s 14ms/step - loss: 0.0039 - lr: 0.0010\n",
      "Epoch 12/50\n",
      "115/115 [==============================] - 2s 13ms/step - loss: 0.0040 - lr: 0.0010\n",
      "Epoch 13/50\n",
      "115/115 [==============================] - 1s 11ms/step - loss: 0.0039 - lr: 0.0010\n",
      "Epoch 14/50\n",
      "115/115 [==============================] - 1s 11ms/step - loss: 0.0038 - lr: 0.0010\n",
      "Epoch 15/50\n",
      "115/115 [==============================] - 1s 12ms/step - loss: 0.0038 - lr: 0.0010\n",
      "Epoch 16/50\n",
      "115/115 [==============================] - 1s 12ms/step - loss: 0.0039 - lr: 0.0010\n",
      "Epoch 17/50\n",
      "115/115 [==============================] - 2s 14ms/step - loss: 0.0039 - lr: 0.0010\n",
      "Epoch 18/50\n",
      "115/115 [==============================] - 1s 11ms/step - loss: 0.0038 - lr: 0.0010\n",
      "Epoch 19/50\n",
      "115/115 [==============================] - 1s 10ms/step - loss: 0.0038 - lr: 0.0010\n",
      "Epoch 20/50\n",
      "115/115 [==============================] - 1s 10ms/step - loss: 0.0038 - lr: 0.0010\n",
      "Epoch 21/50\n",
      "115/115 [==============================] - 1s 10ms/step - loss: 0.0038 - lr: 0.0010\n",
      "Epoch 22/50\n",
      "115/115 [==============================] - 1s 10ms/step - loss: 0.0038 - lr: 0.0010\n",
      "Epoch 23/50\n",
      "115/115 [==============================] - 1s 12ms/step - loss: 0.0039 - lr: 0.0010\n",
      "Epoch 24/50\n",
      "115/115 [==============================] - 1s 12ms/step - loss: 0.0038 - lr: 0.0010\n",
      "Epoch 25/50\n",
      "115/115 [==============================] - 1s 10ms/step - loss: 0.0038 - lr: 0.0010\n",
      "Epoch 26/50\n",
      "115/115 [==============================] - 1s 10ms/step - loss: 0.0037 - lr: 1.0000e-04\n",
      "Epoch 27/50\n",
      "115/115 [==============================] - 1s 10ms/step - loss: 0.0037 - lr: 1.0000e-04\n",
      "Epoch 28/50\n",
      "115/115 [==============================] - 1s 10ms/step - loss: 0.0037 - lr: 1.0000e-04\n",
      "Epoch 29/50\n",
      "115/115 [==============================] - 1s 11ms/step - loss: 0.0037 - lr: 1.0000e-04\n",
      "Epoch 30/50\n",
      "115/115 [==============================] - 1s 12ms/step - loss: 0.0037 - lr: 1.0000e-04\n",
      "Epoch 31/50\n",
      "115/115 [==============================] - 1s 10ms/step - loss: 0.0037 - lr: 1.0000e-04\n",
      "Epoch 32/50\n",
      "115/115 [==============================] - 1s 9ms/step - loss: 0.0037 - lr: 1.0000e-04\n",
      "Epoch 33/50\n",
      "115/115 [==============================] - 1s 10ms/step - loss: 0.0037 - lr: 1.0000e-04\n",
      "Epoch 34/50\n",
      "115/115 [==============================] - 1s 9ms/step - loss: 0.0037 - lr: 1.0000e-04\n",
      "Epoch 35/50\n",
      "115/115 [==============================] - 1s 10ms/step - loss: 0.0037 - lr: 1.0000e-04\n",
      "Epoch 36/50\n",
      "115/115 [==============================] - 1s 12ms/step - loss: 0.0037 - lr: 1.0000e-04\n",
      "Epoch 37/50\n",
      "115/115 [==============================] - 1s 11ms/step - loss: 0.0037 - lr: 1.0000e-04\n",
      "Epoch 38/50\n",
      "115/115 [==============================] - 1s 9ms/step - loss: 0.0037 - lr: 1.0000e-04\n",
      "Epoch 39/50\n",
      "115/115 [==============================] - 1s 10ms/step - loss: 0.0037 - lr: 1.0000e-04\n",
      "Epoch 40/50\n",
      "115/115 [==============================] - 1s 10ms/step - loss: 0.0037 - lr: 1.0000e-04\n",
      "Epoch 41/50\n",
      "115/115 [==============================] - 1s 10ms/step - loss: 0.0037 - lr: 1.0000e-04\n",
      "Epoch 42/50\n",
      "115/115 [==============================] - 1s 12ms/step - loss: 0.0037 - lr: 1.0000e-04\n",
      "Epoch 43/50\n",
      "115/115 [==============================] - 1s 12ms/step - loss: 0.0037 - lr: 1.0000e-04\n",
      "Epoch 44/50\n",
      "115/115 [==============================] - 1s 9ms/step - loss: 0.0037 - lr: 1.0000e-04\n",
      "Epoch 45/50\n",
      "115/115 [==============================] - 1s 9ms/step - loss: 0.0037 - lr: 1.0000e-04\n",
      "Epoch 46/50\n",
      "115/115 [==============================] - 1s 9ms/step - loss: 0.0037 - lr: 1.0000e-04\n",
      "Epoch 47/50\n",
      "115/115 [==============================] - 1s 10ms/step - loss: 0.0037 - lr: 1.0000e-04\n",
      "Epoch 48/50\n",
      "115/115 [==============================] - 1s 11ms/step - loss: 0.0037 - lr: 1.0000e-04\n",
      "Epoch 49/50\n",
      "115/115 [==============================] - 1s 12ms/step - loss: 0.0037 - lr: 1.0000e-04\n",
      "Epoch 50/50\n",
      "115/115 [==============================] - 1s 11ms/step - loss: 0.0037 - lr: 1.0000e-04\n",
      "Material_ID : 11000124\n",
      "Epoch 1/50\n",
      "115/115 [==============================] - 4s 11ms/step - loss: 0.0140 - lr: 0.0010\n",
      "Epoch 2/50\n",
      " 18/115 [===>..........................] - ETA: 1s - loss: 0.0206"
     ]
    },
    {
     "ename": "KeyboardInterrupt",
     "evalue": "",
     "output_type": "error",
     "traceback": [
      "\u001B[1;31m---------------------------------------------------------------------------\u001B[0m",
      "\u001B[1;31mKeyboardInterrupt\u001B[0m                         Traceback (most recent call last)",
      "Cell \u001B[1;32mIn[34], line 16\u001B[0m\n\u001B[0;32m     14\u001B[0m     model \u001B[38;5;241m=\u001B[39m tf\u001B[38;5;241m.\u001B[39mkeras\u001B[38;5;241m.\u001B[39mmodels\u001B[38;5;241m.\u001B[39mload_model(\u001B[38;5;124m'\u001B[39m\u001B[38;5;124mE:/Program/PKLProjekt/Jupyter/Sales-Forecasting/Model/model.h5\u001B[39m\u001B[38;5;124m'\u001B[39m)\n\u001B[0;32m     15\u001B[0m     model\u001B[38;5;241m.\u001B[39mcompile(loss\u001B[38;5;241m=\u001B[39mhuber_loss, optimizer \u001B[38;5;241m=\u001B[39m keras\u001B[38;5;241m.\u001B[39moptimizers\u001B[38;5;241m.\u001B[39mAdam(\u001B[38;5;241m1e-5\u001B[39m))\n\u001B[1;32m---> 16\u001B[0m     \u001B[43mmodel\u001B[49m\u001B[38;5;241;43m.\u001B[39;49m\u001B[43mfit\u001B[49m\u001B[43m(\u001B[49m\u001B[43mgenerator\u001B[49m\u001B[43m,\u001B[49m\u001B[43m \u001B[49m\u001B[43mepochs\u001B[49m\u001B[43m \u001B[49m\u001B[38;5;241;43m=\u001B[39;49m\u001B[43m \u001B[49m\u001B[38;5;241;43m50\u001B[39;49m\u001B[43m,\u001B[49m\u001B[43m \u001B[49m\u001B[43mcallbacks\u001B[49m\u001B[38;5;241;43m=\u001B[39;49m\u001B[43m[\u001B[49m\u001B[43mlrdecay\u001B[49m\u001B[43m]\u001B[49m\u001B[43m)\u001B[49m\n\u001B[0;32m     17\u001B[0m     tf\u001B[38;5;241m.\u001B[39mkeras\u001B[38;5;241m.\u001B[39mmodels\u001B[38;5;241m.\u001B[39msave_model(model, \u001B[38;5;124m'\u001B[39m\u001B[38;5;124mE:/Program/PKLProjekt/Jupyter/Sales-Forecasting/Model/model.h5\u001B[39m\u001B[38;5;124m'\u001B[39m)\n\u001B[0;32m     18\u001B[0m \u001B[38;5;28;01melse\u001B[39;00m:\n",
      "File \u001B[1;32m~\\.conda\\envs\\tf\\lib\\site-packages\\keras\\utils\\traceback_utils.py:64\u001B[0m, in \u001B[0;36mfilter_traceback.<locals>.error_handler\u001B[1;34m(*args, **kwargs)\u001B[0m\n\u001B[0;32m     62\u001B[0m filtered_tb \u001B[38;5;241m=\u001B[39m \u001B[38;5;28;01mNone\u001B[39;00m\n\u001B[0;32m     63\u001B[0m \u001B[38;5;28;01mtry\u001B[39;00m:\n\u001B[1;32m---> 64\u001B[0m   \u001B[38;5;28;01mreturn\u001B[39;00m fn(\u001B[38;5;241m*\u001B[39margs, \u001B[38;5;241m*\u001B[39m\u001B[38;5;241m*\u001B[39mkwargs)\n\u001B[0;32m     65\u001B[0m \u001B[38;5;28;01mexcept\u001B[39;00m \u001B[38;5;167;01mException\u001B[39;00m \u001B[38;5;28;01mas\u001B[39;00m e:  \u001B[38;5;66;03m# pylint: disable=broad-except\u001B[39;00m\n\u001B[0;32m     66\u001B[0m   filtered_tb \u001B[38;5;241m=\u001B[39m _process_traceback_frames(e\u001B[38;5;241m.\u001B[39m__traceback__)\n",
      "File \u001B[1;32m~\\.conda\\envs\\tf\\lib\\site-packages\\keras\\engine\\training.py:1384\u001B[0m, in \u001B[0;36mModel.fit\u001B[1;34m(self, x, y, batch_size, epochs, verbose, callbacks, validation_split, validation_data, shuffle, class_weight, sample_weight, initial_epoch, steps_per_epoch, validation_steps, validation_batch_size, validation_freq, max_queue_size, workers, use_multiprocessing)\u001B[0m\n\u001B[0;32m   1377\u001B[0m \u001B[38;5;28;01mwith\u001B[39;00m tf\u001B[38;5;241m.\u001B[39mprofiler\u001B[38;5;241m.\u001B[39mexperimental\u001B[38;5;241m.\u001B[39mTrace(\n\u001B[0;32m   1378\u001B[0m     \u001B[38;5;124m'\u001B[39m\u001B[38;5;124mtrain\u001B[39m\u001B[38;5;124m'\u001B[39m,\n\u001B[0;32m   1379\u001B[0m     epoch_num\u001B[38;5;241m=\u001B[39mepoch,\n\u001B[0;32m   1380\u001B[0m     step_num\u001B[38;5;241m=\u001B[39mstep,\n\u001B[0;32m   1381\u001B[0m     batch_size\u001B[38;5;241m=\u001B[39mbatch_size,\n\u001B[0;32m   1382\u001B[0m     _r\u001B[38;5;241m=\u001B[39m\u001B[38;5;241m1\u001B[39m):\n\u001B[0;32m   1383\u001B[0m   callbacks\u001B[38;5;241m.\u001B[39mon_train_batch_begin(step)\n\u001B[1;32m-> 1384\u001B[0m   tmp_logs \u001B[38;5;241m=\u001B[39m \u001B[38;5;28;43mself\u001B[39;49m\u001B[38;5;241;43m.\u001B[39;49m\u001B[43mtrain_function\u001B[49m\u001B[43m(\u001B[49m\u001B[43miterator\u001B[49m\u001B[43m)\u001B[49m\n\u001B[0;32m   1385\u001B[0m   \u001B[38;5;28;01mif\u001B[39;00m data_handler\u001B[38;5;241m.\u001B[39mshould_sync:\n\u001B[0;32m   1386\u001B[0m     context\u001B[38;5;241m.\u001B[39masync_wait()\n",
      "File \u001B[1;32m~\\.conda\\envs\\tf\\lib\\site-packages\\tensorflow\\python\\util\\traceback_utils.py:150\u001B[0m, in \u001B[0;36mfilter_traceback.<locals>.error_handler\u001B[1;34m(*args, **kwargs)\u001B[0m\n\u001B[0;32m    148\u001B[0m filtered_tb \u001B[38;5;241m=\u001B[39m \u001B[38;5;28;01mNone\u001B[39;00m\n\u001B[0;32m    149\u001B[0m \u001B[38;5;28;01mtry\u001B[39;00m:\n\u001B[1;32m--> 150\u001B[0m   \u001B[38;5;28;01mreturn\u001B[39;00m fn(\u001B[38;5;241m*\u001B[39margs, \u001B[38;5;241m*\u001B[39m\u001B[38;5;241m*\u001B[39mkwargs)\n\u001B[0;32m    151\u001B[0m \u001B[38;5;28;01mexcept\u001B[39;00m \u001B[38;5;167;01mException\u001B[39;00m \u001B[38;5;28;01mas\u001B[39;00m e:\n\u001B[0;32m    152\u001B[0m   filtered_tb \u001B[38;5;241m=\u001B[39m _process_traceback_frames(e\u001B[38;5;241m.\u001B[39m__traceback__)\n",
      "File \u001B[1;32m~\\.conda\\envs\\tf\\lib\\site-packages\\tensorflow\\python\\eager\\def_function.py:915\u001B[0m, in \u001B[0;36mFunction.__call__\u001B[1;34m(self, *args, **kwds)\u001B[0m\n\u001B[0;32m    912\u001B[0m compiler \u001B[38;5;241m=\u001B[39m \u001B[38;5;124m\"\u001B[39m\u001B[38;5;124mxla\u001B[39m\u001B[38;5;124m\"\u001B[39m \u001B[38;5;28;01mif\u001B[39;00m \u001B[38;5;28mself\u001B[39m\u001B[38;5;241m.\u001B[39m_jit_compile \u001B[38;5;28;01melse\u001B[39;00m \u001B[38;5;124m\"\u001B[39m\u001B[38;5;124mnonXla\u001B[39m\u001B[38;5;124m\"\u001B[39m\n\u001B[0;32m    914\u001B[0m \u001B[38;5;28;01mwith\u001B[39;00m OptionalXlaContext(\u001B[38;5;28mself\u001B[39m\u001B[38;5;241m.\u001B[39m_jit_compile):\n\u001B[1;32m--> 915\u001B[0m   result \u001B[38;5;241m=\u001B[39m \u001B[38;5;28mself\u001B[39m\u001B[38;5;241m.\u001B[39m_call(\u001B[38;5;241m*\u001B[39margs, \u001B[38;5;241m*\u001B[39m\u001B[38;5;241m*\u001B[39mkwds)\n\u001B[0;32m    917\u001B[0m new_tracing_count \u001B[38;5;241m=\u001B[39m \u001B[38;5;28mself\u001B[39m\u001B[38;5;241m.\u001B[39mexperimental_get_tracing_count()\n\u001B[0;32m    918\u001B[0m without_tracing \u001B[38;5;241m=\u001B[39m (tracing_count \u001B[38;5;241m==\u001B[39m new_tracing_count)\n",
      "File \u001B[1;32m~\\.conda\\envs\\tf\\lib\\site-packages\\tensorflow\\python\\eager\\def_function.py:947\u001B[0m, in \u001B[0;36mFunction._call\u001B[1;34m(self, *args, **kwds)\u001B[0m\n\u001B[0;32m    944\u001B[0m   \u001B[38;5;28mself\u001B[39m\u001B[38;5;241m.\u001B[39m_lock\u001B[38;5;241m.\u001B[39mrelease()\n\u001B[0;32m    945\u001B[0m   \u001B[38;5;66;03m# In this case we have created variables on the first call, so we run the\u001B[39;00m\n\u001B[0;32m    946\u001B[0m   \u001B[38;5;66;03m# defunned version which is guaranteed to never create variables.\u001B[39;00m\n\u001B[1;32m--> 947\u001B[0m   \u001B[38;5;28;01mreturn\u001B[39;00m \u001B[38;5;28mself\u001B[39m\u001B[38;5;241m.\u001B[39m_stateless_fn(\u001B[38;5;241m*\u001B[39margs, \u001B[38;5;241m*\u001B[39m\u001B[38;5;241m*\u001B[39mkwds)  \u001B[38;5;66;03m# pylint: disable=not-callable\u001B[39;00m\n\u001B[0;32m    948\u001B[0m \u001B[38;5;28;01melif\u001B[39;00m \u001B[38;5;28mself\u001B[39m\u001B[38;5;241m.\u001B[39m_stateful_fn \u001B[38;5;129;01mis\u001B[39;00m \u001B[38;5;129;01mnot\u001B[39;00m \u001B[38;5;28;01mNone\u001B[39;00m:\n\u001B[0;32m    949\u001B[0m   \u001B[38;5;66;03m# Release the lock early so that multiple threads can perform the call\u001B[39;00m\n\u001B[0;32m    950\u001B[0m   \u001B[38;5;66;03m# in parallel.\u001B[39;00m\n\u001B[0;32m    951\u001B[0m   \u001B[38;5;28mself\u001B[39m\u001B[38;5;241m.\u001B[39m_lock\u001B[38;5;241m.\u001B[39mrelease()\n",
      "File \u001B[1;32m~\\.conda\\envs\\tf\\lib\\site-packages\\tensorflow\\python\\eager\\function.py:2956\u001B[0m, in \u001B[0;36mFunction.__call__\u001B[1;34m(self, *args, **kwargs)\u001B[0m\n\u001B[0;32m   2953\u001B[0m \u001B[38;5;28;01mwith\u001B[39;00m \u001B[38;5;28mself\u001B[39m\u001B[38;5;241m.\u001B[39m_lock:\n\u001B[0;32m   2954\u001B[0m   (graph_function,\n\u001B[0;32m   2955\u001B[0m    filtered_flat_args) \u001B[38;5;241m=\u001B[39m \u001B[38;5;28mself\u001B[39m\u001B[38;5;241m.\u001B[39m_maybe_define_function(args, kwargs)\n\u001B[1;32m-> 2956\u001B[0m \u001B[38;5;28;01mreturn\u001B[39;00m \u001B[43mgraph_function\u001B[49m\u001B[38;5;241;43m.\u001B[39;49m\u001B[43m_call_flat\u001B[49m\u001B[43m(\u001B[49m\n\u001B[0;32m   2957\u001B[0m \u001B[43m    \u001B[49m\u001B[43mfiltered_flat_args\u001B[49m\u001B[43m,\u001B[49m\u001B[43m \u001B[49m\u001B[43mcaptured_inputs\u001B[49m\u001B[38;5;241;43m=\u001B[39;49m\u001B[43mgraph_function\u001B[49m\u001B[38;5;241;43m.\u001B[39;49m\u001B[43mcaptured_inputs\u001B[49m\u001B[43m)\u001B[49m\n",
      "File \u001B[1;32m~\\.conda\\envs\\tf\\lib\\site-packages\\tensorflow\\python\\eager\\function.py:1853\u001B[0m, in \u001B[0;36mConcreteFunction._call_flat\u001B[1;34m(self, args, captured_inputs, cancellation_manager)\u001B[0m\n\u001B[0;32m   1849\u001B[0m possible_gradient_type \u001B[38;5;241m=\u001B[39m gradients_util\u001B[38;5;241m.\u001B[39mPossibleTapeGradientTypes(args)\n\u001B[0;32m   1850\u001B[0m \u001B[38;5;28;01mif\u001B[39;00m (possible_gradient_type \u001B[38;5;241m==\u001B[39m gradients_util\u001B[38;5;241m.\u001B[39mPOSSIBLE_GRADIENT_TYPES_NONE\n\u001B[0;32m   1851\u001B[0m     \u001B[38;5;129;01mand\u001B[39;00m executing_eagerly):\n\u001B[0;32m   1852\u001B[0m   \u001B[38;5;66;03m# No tape is watching; skip to running the function.\u001B[39;00m\n\u001B[1;32m-> 1853\u001B[0m   \u001B[38;5;28;01mreturn\u001B[39;00m \u001B[38;5;28mself\u001B[39m\u001B[38;5;241m.\u001B[39m_build_call_outputs(\u001B[38;5;28;43mself\u001B[39;49m\u001B[38;5;241;43m.\u001B[39;49m\u001B[43m_inference_function\u001B[49m\u001B[38;5;241;43m.\u001B[39;49m\u001B[43mcall\u001B[49m\u001B[43m(\u001B[49m\n\u001B[0;32m   1854\u001B[0m \u001B[43m      \u001B[49m\u001B[43mctx\u001B[49m\u001B[43m,\u001B[49m\u001B[43m \u001B[49m\u001B[43margs\u001B[49m\u001B[43m,\u001B[49m\u001B[43m \u001B[49m\u001B[43mcancellation_manager\u001B[49m\u001B[38;5;241;43m=\u001B[39;49m\u001B[43mcancellation_manager\u001B[49m\u001B[43m)\u001B[49m)\n\u001B[0;32m   1855\u001B[0m forward_backward \u001B[38;5;241m=\u001B[39m \u001B[38;5;28mself\u001B[39m\u001B[38;5;241m.\u001B[39m_select_forward_and_backward_functions(\n\u001B[0;32m   1856\u001B[0m     args,\n\u001B[0;32m   1857\u001B[0m     possible_gradient_type,\n\u001B[0;32m   1858\u001B[0m     executing_eagerly)\n\u001B[0;32m   1859\u001B[0m forward_function, args_with_tangents \u001B[38;5;241m=\u001B[39m forward_backward\u001B[38;5;241m.\u001B[39mforward()\n",
      "File \u001B[1;32m~\\.conda\\envs\\tf\\lib\\site-packages\\tensorflow\\python\\eager\\function.py:499\u001B[0m, in \u001B[0;36m_EagerDefinedFunction.call\u001B[1;34m(self, ctx, args, cancellation_manager)\u001B[0m\n\u001B[0;32m    497\u001B[0m \u001B[38;5;28;01mwith\u001B[39;00m _InterpolateFunctionError(\u001B[38;5;28mself\u001B[39m):\n\u001B[0;32m    498\u001B[0m   \u001B[38;5;28;01mif\u001B[39;00m cancellation_manager \u001B[38;5;129;01mis\u001B[39;00m \u001B[38;5;28;01mNone\u001B[39;00m:\n\u001B[1;32m--> 499\u001B[0m     outputs \u001B[38;5;241m=\u001B[39m \u001B[43mexecute\u001B[49m\u001B[38;5;241;43m.\u001B[39;49m\u001B[43mexecute\u001B[49m\u001B[43m(\u001B[49m\n\u001B[0;32m    500\u001B[0m \u001B[43m        \u001B[49m\u001B[38;5;28;43mstr\u001B[39;49m\u001B[43m(\u001B[49m\u001B[38;5;28;43mself\u001B[39;49m\u001B[38;5;241;43m.\u001B[39;49m\u001B[43msignature\u001B[49m\u001B[38;5;241;43m.\u001B[39;49m\u001B[43mname\u001B[49m\u001B[43m)\u001B[49m\u001B[43m,\u001B[49m\n\u001B[0;32m    501\u001B[0m \u001B[43m        \u001B[49m\u001B[43mnum_outputs\u001B[49m\u001B[38;5;241;43m=\u001B[39;49m\u001B[38;5;28;43mself\u001B[39;49m\u001B[38;5;241;43m.\u001B[39;49m\u001B[43m_num_outputs\u001B[49m\u001B[43m,\u001B[49m\n\u001B[0;32m    502\u001B[0m \u001B[43m        \u001B[49m\u001B[43minputs\u001B[49m\u001B[38;5;241;43m=\u001B[39;49m\u001B[43margs\u001B[49m\u001B[43m,\u001B[49m\n\u001B[0;32m    503\u001B[0m \u001B[43m        \u001B[49m\u001B[43mattrs\u001B[49m\u001B[38;5;241;43m=\u001B[39;49m\u001B[43mattrs\u001B[49m\u001B[43m,\u001B[49m\n\u001B[0;32m    504\u001B[0m \u001B[43m        \u001B[49m\u001B[43mctx\u001B[49m\u001B[38;5;241;43m=\u001B[39;49m\u001B[43mctx\u001B[49m\u001B[43m)\u001B[49m\n\u001B[0;32m    505\u001B[0m   \u001B[38;5;28;01melse\u001B[39;00m:\n\u001B[0;32m    506\u001B[0m     outputs \u001B[38;5;241m=\u001B[39m execute\u001B[38;5;241m.\u001B[39mexecute_with_cancellation(\n\u001B[0;32m    507\u001B[0m         \u001B[38;5;28mstr\u001B[39m(\u001B[38;5;28mself\u001B[39m\u001B[38;5;241m.\u001B[39msignature\u001B[38;5;241m.\u001B[39mname),\n\u001B[0;32m    508\u001B[0m         num_outputs\u001B[38;5;241m=\u001B[39m\u001B[38;5;28mself\u001B[39m\u001B[38;5;241m.\u001B[39m_num_outputs,\n\u001B[1;32m   (...)\u001B[0m\n\u001B[0;32m    511\u001B[0m         ctx\u001B[38;5;241m=\u001B[39mctx,\n\u001B[0;32m    512\u001B[0m         cancellation_manager\u001B[38;5;241m=\u001B[39mcancellation_manager)\n",
      "File \u001B[1;32m~\\.conda\\envs\\tf\\lib\\site-packages\\tensorflow\\python\\eager\\execute.py:54\u001B[0m, in \u001B[0;36mquick_execute\u001B[1;34m(op_name, num_outputs, inputs, attrs, ctx, name)\u001B[0m\n\u001B[0;32m     52\u001B[0m \u001B[38;5;28;01mtry\u001B[39;00m:\n\u001B[0;32m     53\u001B[0m   ctx\u001B[38;5;241m.\u001B[39mensure_initialized()\n\u001B[1;32m---> 54\u001B[0m   tensors \u001B[38;5;241m=\u001B[39m \u001B[43mpywrap_tfe\u001B[49m\u001B[38;5;241;43m.\u001B[39;49m\u001B[43mTFE_Py_Execute\u001B[49m\u001B[43m(\u001B[49m\u001B[43mctx\u001B[49m\u001B[38;5;241;43m.\u001B[39;49m\u001B[43m_handle\u001B[49m\u001B[43m,\u001B[49m\u001B[43m \u001B[49m\u001B[43mdevice_name\u001B[49m\u001B[43m,\u001B[49m\u001B[43m \u001B[49m\u001B[43mop_name\u001B[49m\u001B[43m,\u001B[49m\n\u001B[0;32m     55\u001B[0m \u001B[43m                                      \u001B[49m\u001B[43minputs\u001B[49m\u001B[43m,\u001B[49m\u001B[43m \u001B[49m\u001B[43mattrs\u001B[49m\u001B[43m,\u001B[49m\u001B[43m \u001B[49m\u001B[43mnum_outputs\u001B[49m\u001B[43m)\u001B[49m\n\u001B[0;32m     56\u001B[0m \u001B[38;5;28;01mexcept\u001B[39;00m core\u001B[38;5;241m.\u001B[39m_NotOkStatusException \u001B[38;5;28;01mas\u001B[39;00m e:\n\u001B[0;32m     57\u001B[0m   \u001B[38;5;28;01mif\u001B[39;00m name \u001B[38;5;129;01mis\u001B[39;00m \u001B[38;5;129;01mnot\u001B[39;00m \u001B[38;5;28;01mNone\u001B[39;00m:\n",
      "\u001B[1;31mKeyboardInterrupt\u001B[0m: "
     ]
    }
   ],
   "source": [
    "for i in material_list['material'].unique():\n",
    "    data_train = train_data.loc[(train_data['material']==i)].copy()\n",
    "    data_train = data_train.drop(['material','date'],axis=1)\n",
    "    print('Material_ID :', i)\n",
    "    if data_train['sale_qty'].count() > 30:\n",
    "        train = data_train\n",
    "        scaler = MinMaxScaler()\n",
    "        scaler.fit(train)\n",
    "        scaled_train = scaler.transform(train)\n",
    "        n_input = 30\n",
    "        n_feature = 1\n",
    "        batch_size = 1\n",
    "        generator = TimeseriesGenerator(scaled_train, scaled_train, length = n_input, batch_size=batch_size)\n",
    "        model = tf.keras.models.load_model('E:/Program/PKLProjekt/Jupyter/Sales-Forecasting/Model/model.h5')\n",
    "        model.compile(loss=huber_loss, optimizer = keras.optimizers.Adam(1e-5))\n",
    "        model.fit(generator, epochs = 50, callbacks=[lrdecay])\n",
    "        tf.keras.models.save_model(model, 'E:/Program/PKLProjekt/Jupyter/Sales-Forecasting/Model/model.h5')\n",
    "    else:\n",
    "        print('Data Tidak Mencukupi. Skiping.....')"
   ],
   "metadata": {
    "collapsed": false
   }
  },
  {
   "cell_type": "code",
   "execution_count": 35,
   "outputs": [],
   "source": [
    "tf.keras.models.save_model(model, 'E:/Program/PKLProjekt/Jupyter/Sales-Forecasting/Model/model.h5')"
   ],
   "metadata": {
    "collapsed": false
   }
  },
  {
   "cell_type": "code",
   "execution_count": null,
   "outputs": [],
   "source": [],
   "metadata": {
    "collapsed": false
   }
  }
 ],
 "metadata": {
  "kernelspec": {
   "display_name": "Python 3.10 (tensorflow)",
   "language": "python",
   "name": "tensorflow"
  },
  "language_info": {
   "codemirror_mode": {
    "name": "ipython",
    "version": 3
   },
   "file_extension": ".py",
   "mimetype": "text/x-python",
   "name": "python",
   "nbconvert_exporter": "python",
   "pygments_lexer": "ipython3",
   "version": "3.10.0"
  }
 },
 "nbformat": 4,
 "nbformat_minor": 5
}
