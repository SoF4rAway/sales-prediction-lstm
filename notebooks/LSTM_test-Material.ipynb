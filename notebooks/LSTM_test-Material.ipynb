{
 "cells": [
  {
   "cell_type": "code",
   "execution_count": 1,
   "id": "7fba9ffe",
   "metadata": {},
   "outputs": [],
   "source": [
    "import pandas as pd\n",
    "import psycopg2\n",
    "from psycopg2 import Error\n",
    "import os\n",
    "import tensorflow as tf\n",
    "import numpy as np\n",
    "import matplotlib.pyplot as plt\n",
    "from sklearn.preprocessing import MinMaxScaler\n",
    "from sklearn.metrics import mean_absolute_error, mean_squared_error, r2_score\n",
    "from tensorflow import keras\n",
    "from keras import models\n",
    "from keras.models import sequential\n",
    "from keras.layers import Dense, LSTM\n",
    "from keras.callbacks import EarlyStopping"
   ]
  },
  {
   "cell_type": "code",
   "execution_count": 2,
   "id": "844e54b7",
   "metadata": {},
   "outputs": [
    {
     "name": "stdout",
     "output_type": "stream",
     "text": [
      "<class 'pandas.core.frame.DataFrame'>\n",
      "RangeIndex: 841600 entries, 0 to 841599\n",
      "Data columns (total 9 columns):\n",
      " #   Column                Non-Null Count   Dtype \n",
      "---  ------                --------------   ----- \n",
      " 0   Unnamed: 0            841600 non-null  int64 \n",
      " 1   posting_date          841600 non-null  object\n",
      " 2   posting_month         841600 non-null  int64 \n",
      " 3   posting_year          841600 non-null  int64 \n",
      " 4   material              841600 non-null  int64 \n",
      " 5   bill_qty_sku          841600 non-null  int64 \n",
      " 6   unit_price_penjualan  841600 non-null  int64 \n",
      " 7   total_discount        841600 non-null  int64 \n",
      " 8   total_penjualan       841600 non-null  int64 \n",
      "dtypes: int64(8), object(1)\n",
      "memory usage: 57.8+ MB\n"
     ]
    }
   ],
   "source": [
    "df = pd.read_csv('/Users/muham/Machine-Learning/Sales-Forecasting/clean_df.csv')\n",
    "df.info()"
   ]
  },
  {
   "cell_type": "code",
   "execution_count": 3,
   "id": "a76f4c5e",
   "metadata": {},
   "outputs": [
    {
     "data": {
      "text/html": [
       "<div>\n",
       "<style scoped>\n",
       "    .dataframe tbody tr th:only-of-type {\n",
       "        vertical-align: middle;\n",
       "    }\n",
       "\n",
       "    .dataframe tbody tr th {\n",
       "        vertical-align: top;\n",
       "    }\n",
       "\n",
       "    .dataframe thead th {\n",
       "        text-align: right;\n",
       "    }\n",
       "</style>\n",
       "<table border=\"1\" class=\"dataframe\">\n",
       "  <thead>\n",
       "    <tr style=\"text-align: right;\">\n",
       "      <th></th>\n",
       "      <th>posting_date</th>\n",
       "      <th>posting_month</th>\n",
       "      <th>posting_year</th>\n",
       "      <th>material</th>\n",
       "      <th>bill_qty_sku</th>\n",
       "      <th>unit_price_penjualan</th>\n",
       "      <th>total_discount</th>\n",
       "      <th>total_penjualan</th>\n",
       "    </tr>\n",
       "  </thead>\n",
       "  <tbody>\n",
       "    <tr>\n",
       "      <th>0</th>\n",
       "      <td>2021-02-15</td>\n",
       "      <td>2</td>\n",
       "      <td>2021</td>\n",
       "      <td>11000385</td>\n",
       "      <td>24</td>\n",
       "      <td>7950</td>\n",
       "      <td>9540</td>\n",
       "      <td>181260</td>\n",
       "    </tr>\n",
       "    <tr>\n",
       "      <th>1</th>\n",
       "      <td>2021-02-15</td>\n",
       "      <td>2</td>\n",
       "      <td>2021</td>\n",
       "      <td>11000187</td>\n",
       "      <td>1000</td>\n",
       "      <td>19328</td>\n",
       "      <td>0</td>\n",
       "      <td>193280</td>\n",
       "    </tr>\n",
       "    <tr>\n",
       "      <th>2</th>\n",
       "      <td>2021-02-15</td>\n",
       "      <td>2</td>\n",
       "      <td>2021</td>\n",
       "      <td>11000202</td>\n",
       "      <td>100</td>\n",
       "      <td>30590</td>\n",
       "      <td>0</td>\n",
       "      <td>30590</td>\n",
       "    </tr>\n",
       "    <tr>\n",
       "      <th>3</th>\n",
       "      <td>2021-02-15</td>\n",
       "      <td>2</td>\n",
       "      <td>2021</td>\n",
       "      <td>11000056</td>\n",
       "      <td>100</td>\n",
       "      <td>58760</td>\n",
       "      <td>0</td>\n",
       "      <td>58760</td>\n",
       "    </tr>\n",
       "    <tr>\n",
       "      <th>4</th>\n",
       "      <td>2021-02-15</td>\n",
       "      <td>2</td>\n",
       "      <td>2021</td>\n",
       "      <td>11000248</td>\n",
       "      <td>100</td>\n",
       "      <td>46606</td>\n",
       "      <td>0</td>\n",
       "      <td>46606</td>\n",
       "    </tr>\n",
       "  </tbody>\n",
       "</table>\n",
       "</div>"
      ],
      "text/plain": [
       "  posting_date  posting_month  posting_year  material  bill_qty_sku  \\\n",
       "0   2021-02-15              2          2021  11000385            24   \n",
       "1   2021-02-15              2          2021  11000187          1000   \n",
       "2   2021-02-15              2          2021  11000202           100   \n",
       "3   2021-02-15              2          2021  11000056           100   \n",
       "4   2021-02-15              2          2021  11000248           100   \n",
       "\n",
       "   unit_price_penjualan  total_discount  total_penjualan  \n",
       "0                  7950            9540           181260  \n",
       "1                 19328               0           193280  \n",
       "2                 30590               0            30590  \n",
       "3                 58760               0            58760  \n",
       "4                 46606               0            46606  "
      ]
     },
     "execution_count": 3,
     "metadata": {},
     "output_type": "execute_result"
    }
   ],
   "source": [
    "df = df.drop(\"Unnamed: 0\", axis=1)\n",
    "df.head()"
   ]
  },
  {
   "cell_type": "code",
   "execution_count": 4,
   "id": "ffc48c1c",
   "metadata": {},
   "outputs": [
    {
     "data": {
      "text/html": [
       "<div>\n",
       "<style scoped>\n",
       "    .dataframe tbody tr th:only-of-type {\n",
       "        vertical-align: middle;\n",
       "    }\n",
       "\n",
       "    .dataframe tbody tr th {\n",
       "        vertical-align: top;\n",
       "    }\n",
       "\n",
       "    .dataframe thead th {\n",
       "        text-align: right;\n",
       "    }\n",
       "</style>\n",
       "<table border=\"1\" class=\"dataframe\">\n",
       "  <thead>\n",
       "    <tr style=\"text-align: right;\">\n",
       "      <th></th>\n",
       "      <th></th>\n",
       "      <th>bill_qty_sku</th>\n",
       "      <th>total_penjualan</th>\n",
       "      <th>material</th>\n",
       "      <th>posting_date</th>\n",
       "    </tr>\n",
       "    <tr>\n",
       "      <th>material</th>\n",
       "      <th>posting_date</th>\n",
       "      <th></th>\n",
       "      <th></th>\n",
       "      <th></th>\n",
       "      <th></th>\n",
       "    </tr>\n",
       "  </thead>\n",
       "  <tbody>\n",
       "    <tr>\n",
       "      <th rowspan=\"5\" valign=\"top\">11000000</th>\n",
       "      <th>2021-01-07</th>\n",
       "      <td>100</td>\n",
       "      <td>55567</td>\n",
       "      <td>11000000</td>\n",
       "      <td>2021-01-07</td>\n",
       "    </tr>\n",
       "    <tr>\n",
       "      <th>2021-01-08</th>\n",
       "      <td>1900</td>\n",
       "      <td>1027155</td>\n",
       "      <td>11000000</td>\n",
       "      <td>2021-01-08</td>\n",
       "    </tr>\n",
       "    <tr>\n",
       "      <th>2021-01-09</th>\n",
       "      <td>2700</td>\n",
       "      <td>1430016</td>\n",
       "      <td>11000000</td>\n",
       "      <td>2021-01-09</td>\n",
       "    </tr>\n",
       "    <tr>\n",
       "      <th>2021-01-11</th>\n",
       "      <td>5700</td>\n",
       "      <td>2938105</td>\n",
       "      <td>11000000</td>\n",
       "      <td>2021-01-11</td>\n",
       "    </tr>\n",
       "    <tr>\n",
       "      <th>2021-01-12</th>\n",
       "      <td>23200</td>\n",
       "      <td>11973854</td>\n",
       "      <td>11000000</td>\n",
       "      <td>2021-01-12</td>\n",
       "    </tr>\n",
       "  </tbody>\n",
       "</table>\n",
       "</div>"
      ],
      "text/plain": [
       "                       bill_qty_sku  total_penjualan  material posting_date\n",
       "material posting_date                                                      \n",
       "11000000 2021-01-07             100            55567  11000000   2021-01-07\n",
       "         2021-01-08            1900          1027155  11000000   2021-01-08\n",
       "         2021-01-09            2700          1430016  11000000   2021-01-09\n",
       "         2021-01-11            5700          2938105  11000000   2021-01-11\n",
       "         2021-01-12           23200         11973854  11000000   2021-01-12"
      ]
     },
     "execution_count": 4,
     "metadata": {},
     "output_type": "execute_result"
    }
   ],
   "source": [
    "df['posting_date'] = pd.to_datetime(df['posting_date'])\n",
    "material_data = df.groupby(['material','posting_date']).agg({'bill_qty_sku':'sum', 'total_penjualan':'sum', 'material':'first', 'posting_date':'first'})\n",
    "material_data.head()"
   ]
  },
  {
   "cell_type": "code",
   "execution_count": 5,
   "id": "b2e9e22d",
   "metadata": {},
   "outputs": [
    {
     "data": {
      "text/html": [
       "<div>\n",
       "<style scoped>\n",
       "    .dataframe tbody tr th:only-of-type {\n",
       "        vertical-align: middle;\n",
       "    }\n",
       "\n",
       "    .dataframe tbody tr th {\n",
       "        vertical-align: top;\n",
       "    }\n",
       "\n",
       "    .dataframe thead th {\n",
       "        text-align: right;\n",
       "    }\n",
       "</style>\n",
       "<table border=\"1\" class=\"dataframe\">\n",
       "  <thead>\n",
       "    <tr style=\"text-align: right;\">\n",
       "      <th></th>\n",
       "      <th></th>\n",
       "      <th>bill_qty_sku</th>\n",
       "      <th>total_penjualan</th>\n",
       "      <th>material</th>\n",
       "      <th>posting_date</th>\n",
       "    </tr>\n",
       "    <tr>\n",
       "      <th>material</th>\n",
       "      <th>posting_date</th>\n",
       "      <th></th>\n",
       "      <th></th>\n",
       "      <th></th>\n",
       "      <th></th>\n",
       "    </tr>\n",
       "  </thead>\n",
       "  <tbody>\n",
       "    <tr>\n",
       "      <th rowspan=\"3\" valign=\"top\">11002182</th>\n",
       "      <th>2021-05-28</th>\n",
       "      <td>1260</td>\n",
       "      <td>73216800</td>\n",
       "      <td>11002182</td>\n",
       "      <td>2021-05-28</td>\n",
       "    </tr>\n",
       "    <tr>\n",
       "      <th>2021-05-29</th>\n",
       "      <td>700</td>\n",
       "      <td>40676000</td>\n",
       "      <td>11002182</td>\n",
       "      <td>2021-05-29</td>\n",
       "    </tr>\n",
       "    <tr>\n",
       "      <th>2021-05-31</th>\n",
       "      <td>1400</td>\n",
       "      <td>81352000</td>\n",
       "      <td>11002182</td>\n",
       "      <td>2021-05-31</td>\n",
       "    </tr>\n",
       "    <tr>\n",
       "      <th>11002198</th>\n",
       "      <th>2021-04-30</th>\n",
       "      <td>250</td>\n",
       "      <td>19633725</td>\n",
       "      <td>11002198</td>\n",
       "      <td>2021-04-30</td>\n",
       "    </tr>\n",
       "    <tr>\n",
       "      <th>11002204</th>\n",
       "      <th>2021-05-11</th>\n",
       "      <td>499773</td>\n",
       "      <td>115739930205</td>\n",
       "      <td>11002204</td>\n",
       "      <td>2021-05-11</td>\n",
       "    </tr>\n",
       "  </tbody>\n",
       "</table>\n",
       "</div>"
      ],
      "text/plain": [
       "                       bill_qty_sku  total_penjualan  material posting_date\n",
       "material posting_date                                                      \n",
       "11002182 2021-05-28            1260         73216800  11002182   2021-05-28\n",
       "         2021-05-29             700         40676000  11002182   2021-05-29\n",
       "         2021-05-31            1400         81352000  11002182   2021-05-31\n",
       "11002198 2021-04-30             250         19633725  11002198   2021-04-30\n",
       "11002204 2021-05-11          499773     115739930205  11002204   2021-05-11"
      ]
     },
     "execution_count": 5,
     "metadata": {},
     "output_type": "execute_result"
    }
   ],
   "source": [
    "material_data.tail()"
   ]
  },
  {
   "cell_type": "code",
   "execution_count": 6,
   "id": "1b74f0b0",
   "metadata": {},
   "outputs": [
    {
     "data": {
      "text/html": [
       "<div>\n",
       "<style scoped>\n",
       "    .dataframe tbody tr th:only-of-type {\n",
       "        vertical-align: middle;\n",
       "    }\n",
       "\n",
       "    .dataframe tbody tr th {\n",
       "        vertical-align: top;\n",
       "    }\n",
       "\n",
       "    .dataframe thead th {\n",
       "        text-align: right;\n",
       "    }\n",
       "</style>\n",
       "<table border=\"1\" class=\"dataframe\">\n",
       "  <thead>\n",
       "    <tr style=\"text-align: right;\">\n",
       "      <th></th>\n",
       "      <th></th>\n",
       "      <th>bill_qty_sku</th>\n",
       "      <th>total_penjualan</th>\n",
       "      <th>material</th>\n",
       "      <th>posting_date</th>\n",
       "    </tr>\n",
       "    <tr>\n",
       "      <th>material</th>\n",
       "      <th>posting_date</th>\n",
       "      <th></th>\n",
       "      <th></th>\n",
       "      <th></th>\n",
       "      <th></th>\n",
       "    </tr>\n",
       "  </thead>\n",
       "  <tbody>\n",
       "    <tr>\n",
       "      <th rowspan=\"5\" valign=\"top\">11000000</th>\n",
       "      <th>2021-01-07</th>\n",
       "      <td>100</td>\n",
       "      <td>55567</td>\n",
       "      <td>11000000</td>\n",
       "      <td>2021-01-07</td>\n",
       "    </tr>\n",
       "    <tr>\n",
       "      <th>2021-01-08</th>\n",
       "      <td>1900</td>\n",
       "      <td>1027155</td>\n",
       "      <td>11000000</td>\n",
       "      <td>2021-01-08</td>\n",
       "    </tr>\n",
       "    <tr>\n",
       "      <th>2021-01-09</th>\n",
       "      <td>2700</td>\n",
       "      <td>1430016</td>\n",
       "      <td>11000000</td>\n",
       "      <td>2021-01-09</td>\n",
       "    </tr>\n",
       "    <tr>\n",
       "      <th>2021-01-11</th>\n",
       "      <td>5700</td>\n",
       "      <td>2938105</td>\n",
       "      <td>11000000</td>\n",
       "      <td>2021-01-11</td>\n",
       "    </tr>\n",
       "    <tr>\n",
       "      <th>2021-01-12</th>\n",
       "      <td>23200</td>\n",
       "      <td>11973854</td>\n",
       "      <td>11000000</td>\n",
       "      <td>2021-01-12</td>\n",
       "    </tr>\n",
       "  </tbody>\n",
       "</table>\n",
       "</div>"
      ],
      "text/plain": [
       "                       bill_qty_sku  total_penjualan  material posting_date\n",
       "material posting_date                                                      \n",
       "11000000 2021-01-07             100            55567  11000000   2021-01-07\n",
       "         2021-01-08            1900          1027155  11000000   2021-01-08\n",
       "         2021-01-09            2700          1430016  11000000   2021-01-09\n",
       "         2021-01-11            5700          2938105  11000000   2021-01-11\n",
       "         2021-01-12           23200         11973854  11000000   2021-01-12"
      ]
     },
     "execution_count": 6,
     "metadata": {},
     "output_type": "execute_result"
    }
   ],
   "source": [
    "data_11000000 = material_data.loc[(material_data['material']==11000000)]\n",
    "data_11000000.head()"
   ]
  },
  {
   "cell_type": "code",
   "execution_count": 7,
   "id": "0b75997f",
   "metadata": {},
   "outputs": [
    {
     "name": "stdout",
     "output_type": "stream",
     "text": [
      "<class 'pandas.core.frame.DataFrame'>\n",
      "MultiIndex: 113 entries, (11000000, Timestamp('2021-01-07 00:00:00')) to (11000000, Timestamp('2021-05-31 00:00:00'))\n",
      "Data columns (total 4 columns):\n",
      " #   Column           Non-Null Count  Dtype         \n",
      "---  ------           --------------  -----         \n",
      " 0   bill_qty_sku     113 non-null    int64         \n",
      " 1   total_penjualan  113 non-null    int64         \n",
      " 2   material         113 non-null    int64         \n",
      " 3   posting_date     113 non-null    datetime64[ns]\n",
      "dtypes: datetime64[ns](1), int64(3)\n",
      "memory usage: 9.2 KB\n"
     ]
    }
   ],
   "source": [
    "data_11000000.info()"
   ]
  },
  {
   "cell_type": "code",
   "execution_count": 8,
   "id": "c2b497c6",
   "metadata": {},
   "outputs": [
    {
     "data": {
      "text/plain": [
       "[<matplotlib.lines.Line2D at 0x1de5dab59f0>]"
      ]
     },
     "execution_count": 8,
     "metadata": {},
     "output_type": "execute_result"
    },
    {
     "data": {
      "image/png": "[encoded data removed]",
      "text/plain": [
       "<Figure size 432x288 with 1 Axes>"
      ]
     },
     "metadata": {
      "needs_background": "light"
     },
     "output_type": "display_data"
    }
   ],
   "source": [
    "plt.plot(data_11000000['posting_date'],data_11000000['total_penjualan'])\n",
    "plt.plot(data_11000000['posting_date'],data_11000000['bill_qty_sku'])"
   ]
  },
  {
   "cell_type": "code",
   "execution_count": 154,
   "id": "e4a07808",
   "metadata": {},
   "outputs": [],
   "source": [
    "material_sales = data_11000000\n",
    "material_sales = material_sales.reset_index(drop=True)"
   ]
  },
  {
   "cell_type": "code",
   "execution_count": 155,
   "id": "9d7c3260",
   "metadata": {},
   "outputs": [
    {
     "name": "stdout",
     "output_type": "stream",
     "text": [
      "<class 'pandas.core.frame.DataFrame'>\n",
      "RangeIndex: 113 entries, 0 to 112\n",
      "Data columns (total 1 columns):\n",
      " #   Column  Non-Null Count  Dtype  \n",
      "---  ------  --------------  -----  \n",
      " 0   diff    112 non-null    float64\n",
      "dtypes: float64(1)\n",
      "memory usage: 1.0 KB\n"
     ]
    }
   ],
   "source": [
    "material_sales['diff'] = material_sales['total_penjualan'].diff()\n",
    "material_sales = material_sales.drop(['posting_date','bill_qty_sku','total_penjualan','material'],axis =1)\n",
    "material_sales.head()\n",
    "material_sales.info()\n",
    "supervised_data = material_sales"
   ]
  },
  {
   "cell_type": "code",
   "execution_count": 156,
   "id": "491d5220",
   "metadata": {},
   "outputs": [
    {
     "name": "stdout",
     "output_type": "stream",
     "text": [
      "<class 'pandas.core.frame.DataFrame'>\n",
      "RangeIndex: 58 entries, 0 to 57\n",
      "Data columns (total 55 columns):\n",
      " #   Column  Non-Null Count  Dtype  \n",
      "---  ------  --------------  -----  \n",
      " 0   diff    58 non-null     float64\n",
      " 1   day_1   58 non-null     float64\n",
      " 2   day_2   58 non-null     float64\n",
      " 3   day_3   58 non-null     float64\n",
      " 4   day_4   58 non-null     float64\n",
      " 5   day_5   58 non-null     float64\n",
      " 6   day_6   58 non-null     float64\n",
      " 7   day_7   58 non-null     float64\n",
      " 8   day_8   58 non-null     float64\n",
      " 9   day_9   58 non-null     float64\n",
      " 10  day_10  58 non-null     float64\n",
      " 11  day_11  58 non-null     float64\n",
      " 12  day_12  58 non-null     float64\n",
      " 13  day_13  58 non-null     float64\n",
      " 14  day_14  58 non-null     float64\n",
      " 15  day_15  58 non-null     float64\n",
      " 16  day_16  58 non-null     float64\n",
      " 17  day_17  58 non-null     float64\n",
      " 18  day_18  58 non-null     float64\n",
      " 19  day_19  58 non-null     float64\n",
      " 20  day_20  58 non-null     float64\n",
      " 21  day_21  58 non-null     float64\n",
      " 22  day_22  58 non-null     float64\n",
      " 23  day_23  58 non-null     float64\n",
      " 24  day_24  58 non-null     float64\n",
      " 25  day_25  58 non-null     float64\n",
      " 26  day_26  58 non-null     float64\n",
      " 27  day_27  58 non-null     float64\n",
      " 28  day_28  58 non-null     float64\n",
      " 29  day_29  58 non-null     float64\n",
      " 30  day_30  58 non-null     float64\n",
      " 31  day_31  58 non-null     float64\n",
      " 32  day_32  58 non-null     float64\n",
      " 33  day_33  58 non-null     float64\n",
      " 34  day_34  58 non-null     float64\n",
      " 35  day_35  58 non-null     float64\n",
      " 36  day_36  58 non-null     float64\n",
      " 37  day_37  58 non-null     float64\n",
      " 38  day_38  58 non-null     float64\n",
      " 39  day_39  58 non-null     float64\n",
      " 40  day_40  58 non-null     float64\n",
      " 41  day_41  58 non-null     float64\n",
      " 42  day_42  58 non-null     float64\n",
      " 43  day_43  58 non-null     float64\n",
      " 44  day_44  58 non-null     float64\n",
      " 45  day_45  58 non-null     float64\n",
      " 46  day_46  58 non-null     float64\n",
      " 47  day_47  58 non-null     float64\n",
      " 48  day_48  58 non-null     float64\n",
      " 49  day_49  58 non-null     float64\n",
      " 50  day_50  58 non-null     float64\n",
      " 51  day_51  58 non-null     float64\n",
      " 52  day_52  58 non-null     float64\n",
      " 53  day_53  58 non-null     float64\n",
      " 54  day_54  58 non-null     float64\n",
      "dtypes: float64(55)\n",
      "memory usage: 25.0 KB\n"
     ]
    }
   ],
   "source": [
    "for i in range(1,55):\n",
    "    col_name = 'day_' + str(i)\n",
    "    supervised_data[col_name] = material_sales['diff'].shift(i)\n",
    "supervised_data = supervised_data.dropna().reset_index(drop=True)\n",
    "supervised_data.info()"
   ]
  },
  {
   "cell_type": "code",
   "execution_count": 157,
   "id": "6c4d9a5a",
   "metadata": {},
   "outputs": [],
   "source": [
    "test_data = supervised_data[-54:]\n",
    "scaler = MinMaxScaler(feature_range=(-1,1))\n",
    "scaler.fit(test_data)\n",
    "test_data = scaler.transform(test_data)\n",
    "X_test, y_test = test_data[:,1:], test_data[:,0:1]\n",
    "y_test = y_test.ravel()"
   ]
  },
  {
   "cell_type": "code",
   "execution_count": 158,
   "id": "eecdd464",
   "metadata": {},
   "outputs": [
    {
     "data": {
      "text/plain": [
       "(54, 54)"
      ]
     },
     "execution_count": 158,
     "metadata": {},
     "output_type": "execute_result"
    }
   ],
   "source": [
    "X_test.shape"
   ]
  },
  {
   "cell_type": "code",
   "execution_count": 92,
   "id": "57579869",
   "metadata": {},
   "outputs": [],
   "source": [
    "sales_dates = data_11000000['posting_date'][-29:].reset_index(drop=True)\n",
    "predict_df = pd.DataFrame(sales_dates)\n",
    "data_11000000clean = data_11000000.reset_index(drop=True)\n",
    "act_sales = data_11000000clean['total_penjualan'][-30:].to_list()"
   ]
  },
  {
   "cell_type": "code",
   "execution_count": 33,
   "id": "477f7ec0",
   "metadata": {},
   "outputs": [],
   "source": [
    "X_train_lstm = X_train.reshape(X_train.shape[0], 1, X_train.shape[1])\n",
    "X_test_lstm = X_test.reshape(X_test.shape[0], 1, X_test.shape[1])"
   ]
  },
  {
   "cell_type": "code",
   "execution_count": null,
   "id": "f0be0937",
   "metadata": {},
   "outputs": [],
   "source": [
    "model = tf.keras.models.Sequential()\n",
    "model.add(tf.keras.layers.Reshape((29,29,1)))\n",
    "model.add(tf.keras.layers.Conv1D(filters=32, kernel_size=3, activation='relu'))\n",
    "model.add(LSTM(4, batch_input_shape=(1, X_train_lstm.shape[1], X_test_lstm.shape[2])))\n",
    "model.add(Dense(10, activation='relu'))\n",
    "model.add(Dense(1))\n",
    "model.compile(loss='mean_squared_error', optimizer = keras.optimizers.Adam(1e-3))"
   ]
  },
  {
   "cell_type": "code",
   "execution_count": 34,
   "id": "91408a3b",
   "metadata": {},
   "outputs": [],
   "source": [
    "model = tf.keras.models.Sequential()\n",
    "model.add(tf.keras.layers.Reshape((29,29,1)))\n",
    "model.add(tf.keras.layers.Conv1D(filters=32, kernel_size=3, activation='relu'))\n",
    "model.add(LSTM(4, batch_input_shape=(1, X_train_lstm.shape[1], X_test_lstm.shape[2])))\n",
    "model.add(Dense(10, activation='relu'))\n",
    "model.add(Dense(1))\n",
    "model.compile(loss='mean_squared_error',\n",
    "optimizer = keras.optimizers.Adam(1e-3))"
   ]
  },
  {
   "cell_type": "code",
   "execution_count": 35,
   "id": "29ca23c9",
   "metadata": {},
   "outputs": [],
   "source": [
    "model.compile(loss='mean_squared_error',\n",
    "optimizer = keras.optimizers.Adam(1e-3))\n",
    "def lrdecay(epoch):\n",
    "    lr = 1e-3\n",
    "    if epoch > 195:\n",
    "        lr *= 0.5e-4\n",
    "    elif epoch > 100:\n",
    "        lr *= 1e-3\n",
    "    elif epoch > 50:\n",
    "        lr *= 1e-2\n",
    "    elif epoch > 10:\n",
    "        lr *= 1e-1\n",
    "    #print('Learning rate: ', lr)\n",
    "    return lr\n",
    "      # if epoch < 40:\n",
    "    #   return 0.01\n",
    "      # else:\n",
    "      #   return 0.01 * np.math.exp(0.03 * (40 - epoch))\n",
    "lrdecay = tf.keras.callbacks.LearningRateScheduler(lrdecay) # learning rate decay  "
   ]
  },
  {
   "cell_type": "code",
   "execution_count": 36,
   "id": "f2660856",
   "metadata": {},
   "outputs": [
    {
     "name": "stdout",
     "output_type": "stream",
     "text": [
      "Epoch 1/50\n",
      "54/54 [==============================] - 1s 8ms/step - loss: 0.1326 - val_loss: 0.1716 - lr: 0.0010\n",
      "Epoch 2/50\n",
      "54/54 [==============================] - 0s 3ms/step - loss: 0.1066 - val_loss: 0.1622 - lr: 0.0010\n",
      "Epoch 3/50\n",
      "54/54 [==============================] - 0s 3ms/step - loss: 0.0944 - val_loss: 0.1574 - lr: 0.0010\n",
      "Epoch 4/50\n",
      "54/54 [==============================] - 0s 3ms/step - loss: 0.0876 - val_loss: 0.1554 - lr: 0.0010\n",
      "Epoch 5/50\n",
      "54/54 [==============================] - 0s 3ms/step - loss: 0.0838 - val_loss: 0.1541 - lr: 0.0010\n",
      "Epoch 6/50\n",
      "54/54 [==============================] - 0s 3ms/step - loss: 0.0805 - val_loss: 0.1533 - lr: 0.0010\n",
      "Epoch 7/50\n",
      "54/54 [==============================] - 0s 3ms/step - loss: 0.0781 - val_loss: 0.1529 - lr: 0.0010\n",
      "Epoch 8/50\n",
      "54/54 [==============================] - 0s 3ms/step - loss: 0.0760 - val_loss: 0.1526 - lr: 0.0010\n",
      "Epoch 9/50\n",
      "54/54 [==============================] - 0s 3ms/step - loss: 0.0742 - val_loss: 0.1523 - lr: 0.0010\n",
      "Epoch 10/50\n",
      "54/54 [==============================] - 0s 3ms/step - loss: 0.0722 - val_loss: 0.1520 - lr: 0.0010\n",
      "Epoch 11/50\n",
      "54/54 [==============================] - 0s 3ms/step - loss: 0.0685 - val_loss: 0.1516 - lr: 0.0010\n",
      "Epoch 12/50\n",
      "54/54 [==============================] - 0s 3ms/step - loss: 0.0660 - val_loss: 0.1516 - lr: 1.0000e-04\n",
      "Epoch 13/50\n",
      "54/54 [==============================] - 0s 3ms/step - loss: 0.0656 - val_loss: 0.1515 - lr: 1.0000e-04\n",
      "Epoch 14/50\n",
      "54/54 [==============================] - 0s 3ms/step - loss: 0.0652 - val_loss: 0.1515 - lr: 1.0000e-04\n",
      "Epoch 15/50\n",
      "54/54 [==============================] - 0s 3ms/step - loss: 0.0648 - val_loss: 0.1514 - lr: 1.0000e-04\n",
      "Epoch 16/50\n",
      "54/54 [==============================] - 0s 3ms/step - loss: 0.0644 - val_loss: 0.1514 - lr: 1.0000e-04\n",
      "Epoch 17/50\n",
      "54/54 [==============================] - 0s 4ms/step - loss: 0.0640 - val_loss: 0.1513 - lr: 1.0000e-04\n",
      "Epoch 18/50\n",
      "54/54 [==============================] - 0s 3ms/step - loss: 0.0636 - val_loss: 0.1513 - lr: 1.0000e-04\n",
      "Epoch 19/50\n",
      "54/54 [==============================] - 0s 3ms/step - loss: 0.0633 - val_loss: 0.1513 - lr: 1.0000e-04\n",
      "Epoch 20/50\n",
      "54/54 [==============================] - 0s 3ms/step - loss: 0.0629 - val_loss: 0.1512 - lr: 1.0000e-04\n",
      "Epoch 21/50\n",
      "54/54 [==============================] - 0s 3ms/step - loss: 0.0625 - val_loss: 0.1512 - lr: 1.0000e-04\n",
      "Epoch 22/50\n",
      "54/54 [==============================] - 0s 3ms/step - loss: 0.0621 - val_loss: 0.1512 - lr: 1.0000e-04\n",
      "Epoch 23/50\n",
      "54/54 [==============================] - 0s 3ms/step - loss: 0.0617 - val_loss: 0.1512 - lr: 1.0000e-04\n",
      "Epoch 24/50\n",
      "54/54 [==============================] - 0s 3ms/step - loss: 0.0613 - val_loss: 0.1512 - lr: 1.0000e-04\n",
      "Epoch 25/50\n",
      "54/54 [==============================] - 0s 3ms/step - loss: 0.0611 - val_loss: 0.1513 - lr: 1.0000e-04\n",
      "Epoch 26/50\n",
      "54/54 [==============================] - 0s 3ms/step - loss: 0.0607 - val_loss: 0.1513 - lr: 1.0000e-04\n",
      "Epoch 27/50\n",
      "54/54 [==============================] - 0s 3ms/step - loss: 0.0603 - val_loss: 0.1513 - lr: 1.0000e-04\n",
      "Epoch 28/50\n",
      "54/54 [==============================] - 0s 3ms/step - loss: 0.0600 - val_loss: 0.1513 - lr: 1.0000e-04\n",
      "Epoch 29/50\n",
      "54/54 [==============================] - 0s 3ms/step - loss: 0.0596 - val_loss: 0.1513 - lr: 1.0000e-04\n",
      "Epoch 30/50\n",
      "54/54 [==============================] - 0s 4ms/step - loss: 0.0593 - val_loss: 0.1513 - lr: 1.0000e-04\n",
      "Epoch 31/50\n",
      "54/54 [==============================] - 0s 3ms/step - loss: 0.0590 - val_loss: 0.1514 - lr: 1.0000e-04\n",
      "Epoch 32/50\n",
      "54/54 [==============================] - 0s 3ms/step - loss: 0.0584 - val_loss: 0.1513 - lr: 1.0000e-04\n",
      "Epoch 33/50\n",
      "54/54 [==============================] - 0s 3ms/step - loss: 0.0581 - val_loss: 0.1513 - lr: 1.0000e-04\n",
      "Epoch 34/50\n",
      "54/54 [==============================] - 0s 3ms/step - loss: 0.0578 - val_loss: 0.1513 - lr: 1.0000e-04\n",
      "Epoch 35/50\n",
      "54/54 [==============================] - 0s 3ms/step - loss: 0.0573 - val_loss: 0.1514 - lr: 1.0000e-04\n",
      "Epoch 36/50\n",
      "54/54 [==============================] - 0s 3ms/step - loss: 0.0569 - val_loss: 0.1514 - lr: 1.0000e-04\n",
      "Epoch 37/50\n",
      "54/54 [==============================] - 0s 3ms/step - loss: 0.0565 - val_loss: 0.1515 - lr: 1.0000e-04\n",
      "Epoch 38/50\n",
      "54/54 [==============================] - 0s 3ms/step - loss: 0.0561 - val_loss: 0.1516 - lr: 1.0000e-04\n",
      "Epoch 39/50\n",
      "54/54 [==============================] - 0s 3ms/step - loss: 0.0557 - val_loss: 0.1517 - lr: 1.0000e-04\n",
      "Epoch 40/50\n",
      "54/54 [==============================] - 0s 3ms/step - loss: 0.0553 - val_loss: 0.1518 - lr: 1.0000e-04\n",
      "Epoch 41/50\n",
      "54/54 [==============================] - 0s 3ms/step - loss: 0.0548 - val_loss: 0.1518 - lr: 1.0000e-04\n",
      "Epoch 42/50\n",
      "54/54 [==============================] - 0s 3ms/step - loss: 0.0543 - val_loss: 0.1518 - lr: 1.0000e-04\n",
      "Epoch 43/50\n",
      "54/54 [==============================] - 0s 3ms/step - loss: 0.0537 - val_loss: 0.1517 - lr: 1.0000e-04\n",
      "Epoch 44/50\n",
      "54/54 [==============================] - 0s 3ms/step - loss: 0.0531 - val_loss: 0.1517 - lr: 1.0000e-04\n",
      "Epoch 45/50\n",
      "54/54 [==============================] - 0s 3ms/step - loss: 0.0526 - val_loss: 0.1517 - lr: 1.0000e-04\n",
      "Epoch 46/50\n",
      "54/54 [==============================] - 0s 3ms/step - loss: 0.0521 - val_loss: 0.1517 - lr: 1.0000e-04\n",
      "Epoch 47/50\n",
      "54/54 [==============================] - 0s 3ms/step - loss: 0.0517 - val_loss: 0.1518 - lr: 1.0000e-04\n",
      "Epoch 48/50\n",
      "54/54 [==============================] - 0s 3ms/step - loss: 0.0511 - val_loss: 0.1519 - lr: 1.0000e-04\n",
      "Epoch 49/50\n",
      "54/54 [==============================] - 0s 3ms/step - loss: 0.0507 - val_loss: 0.1519 - lr: 1.0000e-04\n",
      "Epoch 50/50\n",
      "54/54 [==============================] - 0s 3ms/step - loss: 0.0503 - val_loss: 0.1519 - lr: 1.0000e-04\n"
     ]
    }
   ],
   "source": [
    "history = model.fit(X_train_lstm, y_train, \n",
    "                    epochs=50, \n",
    "                    batch_size=1, \n",
    "                    validation_data=(X_test_lstm, y_test), \n",
    "                    callbacks=[lrdecay])"
   ]
  },
  {
   "cell_type": "code",
   "execution_count": 159,
   "id": "060e92da",
   "metadata": {},
   "outputs": [
    {
     "ename": "ValueError",
     "evalue": "all the input array dimensions for the concatenation axis must match exactly, but along dimension 0, the array at index 0 has size 29 and the array at index 1 has size 54",
     "output_type": "error",
     "traceback": [
      "\u001b[1;31m---------------------------------------------------------------------------\u001b[0m",
      "\u001b[1;31mValueError\u001b[0m                                Traceback (most recent call last)",
      "Input \u001b[1;32mIn [159]\u001b[0m, in \u001b[0;36m<cell line: 3>\u001b[1;34m()\u001b[0m\n\u001b[0;32m      1\u001b[0m lstm_pred \u001b[38;5;241m=\u001b[39m model\u001b[38;5;241m.\u001b[39mpredict(X_test_lstm, batch_size\u001b[38;5;241m=\u001b[39m\u001b[38;5;241m1\u001b[39m)\n\u001b[0;32m      2\u001b[0m lstm_pred \u001b[38;5;241m=\u001b[39m lstm_pred\u001b[38;5;241m.\u001b[39mreshape(\u001b[38;5;241m-\u001b[39m\u001b[38;5;241m1\u001b[39m,\u001b[38;5;241m1\u001b[39m)\n\u001b[1;32m----> 3\u001b[0m lstm_pred_test_set \u001b[38;5;241m=\u001b[39m \u001b[43mnp\u001b[49m\u001b[38;5;241;43m.\u001b[39;49m\u001b[43mconcatenate\u001b[49m\u001b[43m(\u001b[49m\u001b[43m[\u001b[49m\u001b[43mlstm_pred\u001b[49m\u001b[43m,\u001b[49m\u001b[43mX_test\u001b[49m\u001b[43m]\u001b[49m\u001b[43m,\u001b[49m\u001b[43m \u001b[49m\u001b[43maxis\u001b[49m\u001b[38;5;241;43m=\u001b[39;49m\u001b[38;5;241;43m1\u001b[39;49m\u001b[43m)\u001b[49m\n\u001b[0;32m      4\u001b[0m lstm_pred_test_set \u001b[38;5;241m=\u001b[39m scaler\u001b[38;5;241m.\u001b[39minverse_transform(lstm_pred_test_set)\n\u001b[0;32m      5\u001b[0m result_list \u001b[38;5;241m=\u001b[39m []\n",
      "File \u001b[1;32m<__array_function__ internals>:5\u001b[0m, in \u001b[0;36mconcatenate\u001b[1;34m(*args, **kwargs)\u001b[0m\n",
      "\u001b[1;31mValueError\u001b[0m: all the input array dimensions for the concatenation axis must match exactly, but along dimension 0, the array at index 0 has size 29 and the array at index 1 has size 54"
     ]
    }
   ],
   "source": [
    "lstm_pred = model.predict(X_test_lstm, batch_size=1)\n",
    "lstm_pred = lstm_pred.reshape(-1,1)\n",
    "lstm_pred_test_set = np.concatenate([lstm_pred,X_test], axis=1)\n",
    "lstm_pred_test_set = scaler.inverse_transform(lstm_pred_test_set)\n",
    "result_list = []\n",
    "for index in range(0, len(lstm_pred_test_set)):\n",
    "    result_list.append(lstm_pred_test_set[index][0] + 0)\n",
    "lstm_pred_series = pd.Series(result_list, name='lstm_pred')\n",
    "predict_df = predict_df.merge(lstm_pred_series, left_index=True, right_index=True)"
   ]
  },
  {
   "cell_type": "code",
   "execution_count": 136,
   "id": "4a14e092",
   "metadata": {},
   "outputs": [
    {
     "data": {
      "text/plain": [
       "(29, 1)"
      ]
     },
     "execution_count": 136,
     "metadata": {},
     "output_type": "execute_result"
    }
   ],
   "source": [
    "lstm_pred.shape"
   ]
  },
  {
   "cell_type": "code",
   "execution_count": 108,
   "id": "fc402385",
   "metadata": {},
   "outputs": [],
   "source": [
    "lstm_pred = model.predict(X_test_lstm, batch_size=1)\n",
    "lstm_pred = lstm_pred.reshape(-1,1)\n",
    "lstm_pred_test_set = np.concatenate([lstm_pred,X_test], axis=1)\n",
    "lstm_pred_test_set = scaler.inverse_transform(lstm_pred_test_set)\n",
    "result_list = []\n",
    "for index in range(0, len(lstm_pred_test_set)):\n",
    "    result_list.append(lstm_pred_test_set[index][0] + act_sales[index])\n",
    "lstm_pred_series = pd.Series(result_list, name='lstm_pred')\n",
    "predict_df = predict_df.merge(lstm_pred_series, left_index=True, right_index=True)"
   ]
  },
  {
   "cell_type": "code",
   "execution_count": 105,
   "id": "e648ced7",
   "metadata": {},
   "outputs": [
    {
     "ename": "ValueError",
     "evalue": "'posting_date' is both an index level and a column label, which is ambiguous.",
     "output_type": "error",
     "traceback": [
      "\u001b[1;31m---------------------------------------------------------------------------\u001b[0m",
      "\u001b[1;31mValueError\u001b[0m                                Traceback (most recent call last)",
      "Input \u001b[1;32mIn [105]\u001b[0m, in \u001b[0;36m<cell line: 3>\u001b[1;34m()\u001b[0m\n\u001b[0;32m      1\u001b[0m predict_df[\u001b[38;5;124m'\u001b[39m\u001b[38;5;124mposting_date\u001b[39m\u001b[38;5;124m'\u001b[39m] \u001b[38;5;241m=\u001b[39m pd\u001b[38;5;241m.\u001b[39mdate_range(start\u001b[38;5;241m=\u001b[39m\u001b[38;5;124m'\u001b[39m\u001b[38;5;124m2021-06-01\u001b[39m\u001b[38;5;124m'\u001b[39m, end\u001b[38;5;241m=\u001b[39m\u001b[38;5;124m'\u001b[39m\u001b[38;5;124m2021-06-29\u001b[39m\u001b[38;5;124m'\u001b[39m, freq\u001b[38;5;241m=\u001b[39m\u001b[38;5;124m'\u001b[39m\u001b[38;5;124mD\u001b[39m\u001b[38;5;124m'\u001b[39m)\n\u001b[0;32m      2\u001b[0m predict_result \u001b[38;5;241m=\u001b[39m predict_df\n\u001b[1;32m----> 3\u001b[0m predict_result \u001b[38;5;241m=\u001b[39m \u001b[43mpredict_result\u001b[49m\u001b[38;5;241;43m.\u001b[39;49m\u001b[43mmerge\u001b[49m\u001b[43m(\u001b[49m\u001b[43mdata_11000000\u001b[49m\u001b[43m \u001b[49m\u001b[43m)\u001b[49m\n",
      "File \u001b[1;32m~\\.conda\\envs\\tf\\lib\\site-packages\\pandas\\core\\frame.py:9339\u001b[0m, in \u001b[0;36mDataFrame.merge\u001b[1;34m(self, right, how, on, left_on, right_on, left_index, right_index, sort, suffixes, copy, indicator, validate)\u001b[0m\n\u001b[0;32m   9320\u001b[0m \u001b[38;5;129m@Substitution\u001b[39m(\u001b[38;5;124m\"\u001b[39m\u001b[38;5;124m\"\u001b[39m)\n\u001b[0;32m   9321\u001b[0m \u001b[38;5;129m@Appender\u001b[39m(_merge_doc, indents\u001b[38;5;241m=\u001b[39m\u001b[38;5;241m2\u001b[39m)\n\u001b[0;32m   9322\u001b[0m \u001b[38;5;28;01mdef\u001b[39;00m \u001b[38;5;21mmerge\u001b[39m(\n\u001b[1;32m   (...)\u001b[0m\n\u001b[0;32m   9335\u001b[0m     validate: \u001b[38;5;28mstr\u001b[39m \u001b[38;5;241m|\u001b[39m \u001b[38;5;28;01mNone\u001b[39;00m \u001b[38;5;241m=\u001b[39m \u001b[38;5;28;01mNone\u001b[39;00m,\n\u001b[0;32m   9336\u001b[0m ) \u001b[38;5;241m-\u001b[39m\u001b[38;5;241m>\u001b[39m DataFrame:\n\u001b[0;32m   9337\u001b[0m     \u001b[38;5;28;01mfrom\u001b[39;00m \u001b[38;5;21;01mpandas\u001b[39;00m\u001b[38;5;21;01m.\u001b[39;00m\u001b[38;5;21;01mcore\u001b[39;00m\u001b[38;5;21;01m.\u001b[39;00m\u001b[38;5;21;01mreshape\u001b[39;00m\u001b[38;5;21;01m.\u001b[39;00m\u001b[38;5;21;01mmerge\u001b[39;00m \u001b[38;5;28;01mimport\u001b[39;00m merge\n\u001b[1;32m-> 9339\u001b[0m     \u001b[38;5;28;01mreturn\u001b[39;00m \u001b[43mmerge\u001b[49m\u001b[43m(\u001b[49m\n\u001b[0;32m   9340\u001b[0m \u001b[43m        \u001b[49m\u001b[38;5;28;43mself\u001b[39;49m\u001b[43m,\u001b[49m\n\u001b[0;32m   9341\u001b[0m \u001b[43m        \u001b[49m\u001b[43mright\u001b[49m\u001b[43m,\u001b[49m\n\u001b[0;32m   9342\u001b[0m \u001b[43m        \u001b[49m\u001b[43mhow\u001b[49m\u001b[38;5;241;43m=\u001b[39;49m\u001b[43mhow\u001b[49m\u001b[43m,\u001b[49m\n\u001b[0;32m   9343\u001b[0m \u001b[43m        \u001b[49m\u001b[43mon\u001b[49m\u001b[38;5;241;43m=\u001b[39;49m\u001b[43mon\u001b[49m\u001b[43m,\u001b[49m\n\u001b[0;32m   9344\u001b[0m \u001b[43m        \u001b[49m\u001b[43mleft_on\u001b[49m\u001b[38;5;241;43m=\u001b[39;49m\u001b[43mleft_on\u001b[49m\u001b[43m,\u001b[49m\n\u001b[0;32m   9345\u001b[0m \u001b[43m        \u001b[49m\u001b[43mright_on\u001b[49m\u001b[38;5;241;43m=\u001b[39;49m\u001b[43mright_on\u001b[49m\u001b[43m,\u001b[49m\n\u001b[0;32m   9346\u001b[0m \u001b[43m        \u001b[49m\u001b[43mleft_index\u001b[49m\u001b[38;5;241;43m=\u001b[39;49m\u001b[43mleft_index\u001b[49m\u001b[43m,\u001b[49m\n\u001b[0;32m   9347\u001b[0m \u001b[43m        \u001b[49m\u001b[43mright_index\u001b[49m\u001b[38;5;241;43m=\u001b[39;49m\u001b[43mright_index\u001b[49m\u001b[43m,\u001b[49m\n\u001b[0;32m   9348\u001b[0m \u001b[43m        \u001b[49m\u001b[43msort\u001b[49m\u001b[38;5;241;43m=\u001b[39;49m\u001b[43msort\u001b[49m\u001b[43m,\u001b[49m\n\u001b[0;32m   9349\u001b[0m \u001b[43m        \u001b[49m\u001b[43msuffixes\u001b[49m\u001b[38;5;241;43m=\u001b[39;49m\u001b[43msuffixes\u001b[49m\u001b[43m,\u001b[49m\n\u001b[0;32m   9350\u001b[0m \u001b[43m        \u001b[49m\u001b[43mcopy\u001b[49m\u001b[38;5;241;43m=\u001b[39;49m\u001b[43mcopy\u001b[49m\u001b[43m,\u001b[49m\n\u001b[0;32m   9351\u001b[0m \u001b[43m        \u001b[49m\u001b[43mindicator\u001b[49m\u001b[38;5;241;43m=\u001b[39;49m\u001b[43mindicator\u001b[49m\u001b[43m,\u001b[49m\n\u001b[0;32m   9352\u001b[0m \u001b[43m        \u001b[49m\u001b[43mvalidate\u001b[49m\u001b[38;5;241;43m=\u001b[39;49m\u001b[43mvalidate\u001b[49m\u001b[43m,\u001b[49m\n\u001b[0;32m   9353\u001b[0m \u001b[43m    \u001b[49m\u001b[43m)\u001b[49m\n",
      "File \u001b[1;32m~\\.conda\\envs\\tf\\lib\\site-packages\\pandas\\core\\reshape\\merge.py:107\u001b[0m, in \u001b[0;36mmerge\u001b[1;34m(left, right, how, on, left_on, right_on, left_index, right_index, sort, suffixes, copy, indicator, validate)\u001b[0m\n\u001b[0;32m     90\u001b[0m \u001b[38;5;129m@Substitution\u001b[39m(\u001b[38;5;124m\"\u001b[39m\u001b[38;5;130;01m\\n\u001b[39;00m\u001b[38;5;124mleft : DataFrame or named Series\u001b[39m\u001b[38;5;124m\"\u001b[39m)\n\u001b[0;32m     91\u001b[0m \u001b[38;5;129m@Appender\u001b[39m(_merge_doc, indents\u001b[38;5;241m=\u001b[39m\u001b[38;5;241m0\u001b[39m)\n\u001b[0;32m     92\u001b[0m \u001b[38;5;28;01mdef\u001b[39;00m \u001b[38;5;21mmerge\u001b[39m(\n\u001b[1;32m   (...)\u001b[0m\n\u001b[0;32m    105\u001b[0m     validate: \u001b[38;5;28mstr\u001b[39m \u001b[38;5;241m|\u001b[39m \u001b[38;5;28;01mNone\u001b[39;00m \u001b[38;5;241m=\u001b[39m \u001b[38;5;28;01mNone\u001b[39;00m,\n\u001b[0;32m    106\u001b[0m ) \u001b[38;5;241m-\u001b[39m\u001b[38;5;241m>\u001b[39m DataFrame:\n\u001b[1;32m--> 107\u001b[0m     op \u001b[38;5;241m=\u001b[39m \u001b[43m_MergeOperation\u001b[49m\u001b[43m(\u001b[49m\n\u001b[0;32m    108\u001b[0m \u001b[43m        \u001b[49m\u001b[43mleft\u001b[49m\u001b[43m,\u001b[49m\n\u001b[0;32m    109\u001b[0m \u001b[43m        \u001b[49m\u001b[43mright\u001b[49m\u001b[43m,\u001b[49m\n\u001b[0;32m    110\u001b[0m \u001b[43m        \u001b[49m\u001b[43mhow\u001b[49m\u001b[38;5;241;43m=\u001b[39;49m\u001b[43mhow\u001b[49m\u001b[43m,\u001b[49m\n\u001b[0;32m    111\u001b[0m \u001b[43m        \u001b[49m\u001b[43mon\u001b[49m\u001b[38;5;241;43m=\u001b[39;49m\u001b[43mon\u001b[49m\u001b[43m,\u001b[49m\n\u001b[0;32m    112\u001b[0m \u001b[43m        \u001b[49m\u001b[43mleft_on\u001b[49m\u001b[38;5;241;43m=\u001b[39;49m\u001b[43mleft_on\u001b[49m\u001b[43m,\u001b[49m\n\u001b[0;32m    113\u001b[0m \u001b[43m        \u001b[49m\u001b[43mright_on\u001b[49m\u001b[38;5;241;43m=\u001b[39;49m\u001b[43mright_on\u001b[49m\u001b[43m,\u001b[49m\n\u001b[0;32m    114\u001b[0m \u001b[43m        \u001b[49m\u001b[43mleft_index\u001b[49m\u001b[38;5;241;43m=\u001b[39;49m\u001b[43mleft_index\u001b[49m\u001b[43m,\u001b[49m\n\u001b[0;32m    115\u001b[0m \u001b[43m        \u001b[49m\u001b[43mright_index\u001b[49m\u001b[38;5;241;43m=\u001b[39;49m\u001b[43mright_index\u001b[49m\u001b[43m,\u001b[49m\n\u001b[0;32m    116\u001b[0m \u001b[43m        \u001b[49m\u001b[43msort\u001b[49m\u001b[38;5;241;43m=\u001b[39;49m\u001b[43msort\u001b[49m\u001b[43m,\u001b[49m\n\u001b[0;32m    117\u001b[0m \u001b[43m        \u001b[49m\u001b[43msuffixes\u001b[49m\u001b[38;5;241;43m=\u001b[39;49m\u001b[43msuffixes\u001b[49m\u001b[43m,\u001b[49m\n\u001b[0;32m    118\u001b[0m \u001b[43m        \u001b[49m\u001b[43mcopy\u001b[49m\u001b[38;5;241;43m=\u001b[39;49m\u001b[43mcopy\u001b[49m\u001b[43m,\u001b[49m\n\u001b[0;32m    119\u001b[0m \u001b[43m        \u001b[49m\u001b[43mindicator\u001b[49m\u001b[38;5;241;43m=\u001b[39;49m\u001b[43mindicator\u001b[49m\u001b[43m,\u001b[49m\n\u001b[0;32m    120\u001b[0m \u001b[43m        \u001b[49m\u001b[43mvalidate\u001b[49m\u001b[38;5;241;43m=\u001b[39;49m\u001b[43mvalidate\u001b[49m\u001b[43m,\u001b[49m\n\u001b[0;32m    121\u001b[0m \u001b[43m    \u001b[49m\u001b[43m)\u001b[49m\n\u001b[0;32m    122\u001b[0m     \u001b[38;5;28;01mreturn\u001b[39;00m op\u001b[38;5;241m.\u001b[39mget_result()\n",
      "File \u001b[1;32m~\\.conda\\envs\\tf\\lib\\site-packages\\pandas\\core\\reshape\\merge.py:700\u001b[0m, in \u001b[0;36m_MergeOperation.__init__\u001b[1;34m(self, left, right, how, on, left_on, right_on, axis, left_index, right_index, sort, suffixes, copy, indicator, validate)\u001b[0m\n\u001b[0;32m    693\u001b[0m \u001b[38;5;28mself\u001b[39m\u001b[38;5;241m.\u001b[39m_cross \u001b[38;5;241m=\u001b[39m cross_col\n\u001b[0;32m    695\u001b[0m \u001b[38;5;66;03m# note this function has side effects\u001b[39;00m\n\u001b[0;32m    696\u001b[0m (\n\u001b[0;32m    697\u001b[0m     \u001b[38;5;28mself\u001b[39m\u001b[38;5;241m.\u001b[39mleft_join_keys,\n\u001b[0;32m    698\u001b[0m     \u001b[38;5;28mself\u001b[39m\u001b[38;5;241m.\u001b[39mright_join_keys,\n\u001b[0;32m    699\u001b[0m     \u001b[38;5;28mself\u001b[39m\u001b[38;5;241m.\u001b[39mjoin_names,\n\u001b[1;32m--> 700\u001b[0m ) \u001b[38;5;241m=\u001b[39m \u001b[38;5;28;43mself\u001b[39;49m\u001b[38;5;241;43m.\u001b[39;49m\u001b[43m_get_merge_keys\u001b[49m\u001b[43m(\u001b[49m\u001b[43m)\u001b[49m\n\u001b[0;32m    702\u001b[0m \u001b[38;5;66;03m# validate the merge keys dtypes. We may need to coerce\u001b[39;00m\n\u001b[0;32m    703\u001b[0m \u001b[38;5;66;03m# to avoid incompatible dtypes\u001b[39;00m\n\u001b[0;32m    704\u001b[0m \u001b[38;5;28mself\u001b[39m\u001b[38;5;241m.\u001b[39m_maybe_coerce_merge_keys()\n",
      "File \u001b[1;32m~\\.conda\\envs\\tf\\lib\\site-packages\\pandas\\core\\reshape\\merge.py:1097\u001b[0m, in \u001b[0;36m_MergeOperation._get_merge_keys\u001b[1;34m(self)\u001b[0m\n\u001b[0;32m   1095\u001b[0m \u001b[38;5;28;01mif\u001b[39;00m \u001b[38;5;129;01mnot\u001b[39;00m is_rkey(rk):\n\u001b[0;32m   1096\u001b[0m     \u001b[38;5;28;01mif\u001b[39;00m rk \u001b[38;5;129;01mis\u001b[39;00m \u001b[38;5;129;01mnot\u001b[39;00m \u001b[38;5;28;01mNone\u001b[39;00m:\n\u001b[1;32m-> 1097\u001b[0m         right_keys\u001b[38;5;241m.\u001b[39mappend(\u001b[43mright\u001b[49m\u001b[38;5;241;43m.\u001b[39;49m\u001b[43m_get_label_or_level_values\u001b[49m\u001b[43m(\u001b[49m\u001b[43mrk\u001b[49m\u001b[43m)\u001b[49m)\n\u001b[0;32m   1098\u001b[0m     \u001b[38;5;28;01melse\u001b[39;00m:\n\u001b[0;32m   1099\u001b[0m         \u001b[38;5;66;03m# work-around for merge_asof(right_index=True)\u001b[39;00m\n\u001b[0;32m   1100\u001b[0m         right_keys\u001b[38;5;241m.\u001b[39mappend(right\u001b[38;5;241m.\u001b[39mindex)\n",
      "File \u001b[1;32m~\\.conda\\envs\\tf\\lib\\site-packages\\pandas\\core\\generic.py:1843\u001b[0m, in \u001b[0;36mNDFrame._get_label_or_level_values\u001b[1;34m(self, key, axis)\u001b[0m\n\u001b[0;32m   1840\u001b[0m other_axes \u001b[38;5;241m=\u001b[39m [ax \u001b[38;5;28;01mfor\u001b[39;00m ax \u001b[38;5;129;01min\u001b[39;00m \u001b[38;5;28mrange\u001b[39m(\u001b[38;5;28mself\u001b[39m\u001b[38;5;241m.\u001b[39m_AXIS_LEN) \u001b[38;5;28;01mif\u001b[39;00m ax \u001b[38;5;241m!=\u001b[39m axis]\n\u001b[0;32m   1842\u001b[0m \u001b[38;5;28;01mif\u001b[39;00m \u001b[38;5;28mself\u001b[39m\u001b[38;5;241m.\u001b[39m_is_label_reference(key, axis\u001b[38;5;241m=\u001b[39maxis):\n\u001b[1;32m-> 1843\u001b[0m     \u001b[38;5;28;43mself\u001b[39;49m\u001b[38;5;241;43m.\u001b[39;49m\u001b[43m_check_label_or_level_ambiguity\u001b[49m\u001b[43m(\u001b[49m\u001b[43mkey\u001b[49m\u001b[43m,\u001b[49m\u001b[43m \u001b[49m\u001b[43maxis\u001b[49m\u001b[38;5;241;43m=\u001b[39;49m\u001b[43maxis\u001b[49m\u001b[43m)\u001b[49m\n\u001b[0;32m   1844\u001b[0m     values \u001b[38;5;241m=\u001b[39m \u001b[38;5;28mself\u001b[39m\u001b[38;5;241m.\u001b[39mxs(key, axis\u001b[38;5;241m=\u001b[39mother_axes[\u001b[38;5;241m0\u001b[39m])\u001b[38;5;241m.\u001b[39m_values\n\u001b[0;32m   1845\u001b[0m \u001b[38;5;28;01melif\u001b[39;00m \u001b[38;5;28mself\u001b[39m\u001b[38;5;241m.\u001b[39m_is_level_reference(key, axis\u001b[38;5;241m=\u001b[39maxis):\n",
      "File \u001b[1;32m~\\.conda\\envs\\tf\\lib\\site-packages\\pandas\\core\\generic.py:1802\u001b[0m, in \u001b[0;36mNDFrame._check_label_or_level_ambiguity\u001b[1;34m(self, key, axis)\u001b[0m\n\u001b[0;32m   1794\u001b[0m label_article, label_type \u001b[38;5;241m=\u001b[39m (\n\u001b[0;32m   1795\u001b[0m     (\u001b[38;5;124m\"\u001b[39m\u001b[38;5;124ma\u001b[39m\u001b[38;5;124m\"\u001b[39m, \u001b[38;5;124m\"\u001b[39m\u001b[38;5;124mcolumn\u001b[39m\u001b[38;5;124m\"\u001b[39m) \u001b[38;5;28;01mif\u001b[39;00m axis \u001b[38;5;241m==\u001b[39m \u001b[38;5;241m0\u001b[39m \u001b[38;5;28;01melse\u001b[39;00m (\u001b[38;5;124m\"\u001b[39m\u001b[38;5;124man\u001b[39m\u001b[38;5;124m\"\u001b[39m, \u001b[38;5;124m\"\u001b[39m\u001b[38;5;124mindex\u001b[39m\u001b[38;5;124m\"\u001b[39m)\n\u001b[0;32m   1796\u001b[0m )\n\u001b[0;32m   1798\u001b[0m msg \u001b[38;5;241m=\u001b[39m (\n\u001b[0;32m   1799\u001b[0m     \u001b[38;5;124mf\u001b[39m\u001b[38;5;124m\"\u001b[39m\u001b[38;5;124m'\u001b[39m\u001b[38;5;132;01m{\u001b[39;00mkey\u001b[38;5;132;01m}\u001b[39;00m\u001b[38;5;124m'\u001b[39m\u001b[38;5;124m is both \u001b[39m\u001b[38;5;132;01m{\u001b[39;00mlevel_article\u001b[38;5;132;01m}\u001b[39;00m\u001b[38;5;124m \u001b[39m\u001b[38;5;132;01m{\u001b[39;00mlevel_type\u001b[38;5;132;01m}\u001b[39;00m\u001b[38;5;124m level and \u001b[39m\u001b[38;5;124m\"\u001b[39m\n\u001b[0;32m   1800\u001b[0m     \u001b[38;5;124mf\u001b[39m\u001b[38;5;124m\"\u001b[39m\u001b[38;5;132;01m{\u001b[39;00mlabel_article\u001b[38;5;132;01m}\u001b[39;00m\u001b[38;5;124m \u001b[39m\u001b[38;5;132;01m{\u001b[39;00mlabel_type\u001b[38;5;132;01m}\u001b[39;00m\u001b[38;5;124m label, which is ambiguous.\u001b[39m\u001b[38;5;124m\"\u001b[39m\n\u001b[0;32m   1801\u001b[0m )\n\u001b[1;32m-> 1802\u001b[0m \u001b[38;5;28;01mraise\u001b[39;00m \u001b[38;5;167;01mValueError\u001b[39;00m(msg)\n",
      "\u001b[1;31mValueError\u001b[0m: 'posting_date' is both an index level and a column label, which is ambiguous."
     ]
    }
   ],
   "source": [
    "predict_df['posting_date'] = pd.date_range(start='2021-06-01', end='2021-06-29', freq='D')\n",
    "predict_result = predict_df\n",
    "predict_result = predict_result.merge(data_11000000)"
   ]
  },
  {
   "cell_type": "code",
   "execution_count": 109,
   "id": "16ad4c0d",
   "metadata": {},
   "outputs": [
    {
     "data": {
      "image/png": "[encoded data removed]",
      "text/plain": [
       "<Figure size 1080x504 with 1 Axes>"
      ]
     },
     "metadata": {
      "needs_background": "light"
     },
     "output_type": "display_data"
    }
   ],
   "source": [
    "plt.figure(figsize=(15,7))\n",
    "plt.plot(data_11000000clean['posting_date'], data_11000000['total_penjualan'])\n",
    "plt.plot(predict_df['posting_date'], predict_df['lstm_pred'])\n",
    "plt.title(\"Customer Sales Forecast using LSTM\")\n",
    "plt.xlabel(\"Date\")\n",
    "plt.ylabel(\"Sales\")\n",
    "plt.legend([\"Original Sales\", \"Predicted Sales\"])\n",
    "plt.show()"
   ]
  },
  {
   "cell_type": "code",
   "execution_count": 70,
   "id": "ad332af1",
   "metadata": {},
   "outputs": [],
   "source": [
    "tf.keras.models.save_model(model, '/Users/muham/Machine-Learning/Sales-Forecasting/Model/LSTM_model_total-lagged.h5')"
   ]
  },
  {
   "cell_type": "code",
   "execution_count": 19,
   "id": "8935fec5",
   "metadata": {},
   "outputs": [
    {
     "name": "stdout",
     "output_type": "stream",
     "text": [
      "<class 'pandas.core.frame.DataFrame'>\n",
      "RangeIndex: 6 entries, 0 to 5\n",
      "Data columns (total 2 columns):\n",
      " #   Column        Non-Null Count  Dtype         \n",
      "---  ------        --------------  -----         \n",
      " 0   posting_date  6 non-null      datetime64[ns]\n",
      " 1   lstm_pred     6 non-null      float64       \n",
      "dtypes: datetime64[ns](1), float64(1)\n",
      "memory usage: 224.0 bytes\n"
     ]
    }
   ],
   "source": [
    "predict_df.info()"
   ]
  },
  {
   "cell_type": "code",
   "execution_count": 28,
   "id": "128075cf",
   "metadata": {},
   "outputs": [
    {
     "data": {
      "text/html": [
       "<div>\n",
       "<style scoped>\n",
       "    .dataframe tbody tr th:only-of-type {\n",
       "        vertical-align: middle;\n",
       "    }\n",
       "\n",
       "    .dataframe tbody tr th {\n",
       "        vertical-align: top;\n",
       "    }\n",
       "\n",
       "    .dataframe thead th {\n",
       "        text-align: right;\n",
       "    }\n",
       "</style>\n",
       "<table border=\"1\" class=\"dataframe\">\n",
       "  <thead>\n",
       "    <tr style=\"text-align: right;\">\n",
       "      <th></th>\n",
       "      <th>sales_diff</th>\n",
       "    </tr>\n",
       "  </thead>\n",
       "  <tbody>\n",
       "    <tr>\n",
       "      <th>108</th>\n",
       "      <td>11958419.0</td>\n",
       "    </tr>\n",
       "    <tr>\n",
       "      <th>109</th>\n",
       "      <td>-10491018.0</td>\n",
       "    </tr>\n",
       "    <tr>\n",
       "      <th>110</th>\n",
       "      <td>-1270560.0</td>\n",
       "    </tr>\n",
       "    <tr>\n",
       "      <th>111</th>\n",
       "      <td>1662643.0</td>\n",
       "    </tr>\n",
       "    <tr>\n",
       "      <th>112</th>\n",
       "      <td>2013670.0</td>\n",
       "    </tr>\n",
       "  </tbody>\n",
       "</table>\n",
       "</div>"
      ],
      "text/plain": [
       "     sales_diff\n",
       "108  11958419.0\n",
       "109 -10491018.0\n",
       "110  -1270560.0\n",
       "111   1662643.0\n",
       "112   2013670.0"
      ]
     },
     "execution_count": 28,
     "metadata": {},
     "output_type": "execute_result"
    }
   ],
   "source": [
    "material_sales.tail()"
   ]
  },
  {
   "cell_type": "code",
   "execution_count": 29,
   "id": "9c6878f1",
   "metadata": {},
   "outputs": [
    {
     "data": {
      "text/html": [
       "<div>\n",
       "<style scoped>\n",
       "    .dataframe tbody tr th:only-of-type {\n",
       "        vertical-align: middle;\n",
       "    }\n",
       "\n",
       "    .dataframe tbody tr th {\n",
       "        vertical-align: top;\n",
       "    }\n",
       "\n",
       "    .dataframe thead th {\n",
       "        text-align: right;\n",
       "    }\n",
       "</style>\n",
       "<table border=\"1\" class=\"dataframe\">\n",
       "  <thead>\n",
       "    <tr style=\"text-align: right;\">\n",
       "      <th></th>\n",
       "      <th>posting_date</th>\n",
       "      <th>lstm_pred</th>\n",
       "    </tr>\n",
       "  </thead>\n",
       "  <tbody>\n",
       "    <tr>\n",
       "      <th>1</th>\n",
       "      <td>2021-05-27</td>\n",
       "      <td>2.840790e+06</td>\n",
       "    </tr>\n",
       "    <tr>\n",
       "      <th>2</th>\n",
       "      <td>2021-05-28</td>\n",
       "      <td>9.936084e+06</td>\n",
       "    </tr>\n",
       "    <tr>\n",
       "      <th>3</th>\n",
       "      <td>2021-05-29</td>\n",
       "      <td>7.132821e+06</td>\n",
       "    </tr>\n",
       "    <tr>\n",
       "      <th>4</th>\n",
       "      <td>2021-05-30</td>\n",
       "      <td>4.118824e+06</td>\n",
       "    </tr>\n",
       "    <tr>\n",
       "      <th>5</th>\n",
       "      <td>2021-05-31</td>\n",
       "      <td>5.726198e+06</td>\n",
       "    </tr>\n",
       "  </tbody>\n",
       "</table>\n",
       "</div>"
      ],
      "text/plain": [
       "  posting_date     lstm_pred\n",
       "1   2021-05-27  2.840790e+06\n",
       "2   2021-05-28  9.936084e+06\n",
       "3   2021-05-29  7.132821e+06\n",
       "4   2021-05-30  4.118824e+06\n",
       "5   2021-05-31  5.726198e+06"
      ]
     },
     "execution_count": 29,
     "metadata": {},
     "output_type": "execute_result"
    }
   ],
   "source": [
    "predict_df.tail()"
   ]
  },
  {
   "cell_type": "code",
   "execution_count": 107,
   "id": "cfdd0093",
   "metadata": {},
   "outputs": [
    {
     "data": {
      "text/html": [
       "<div>\n",
       "<style scoped>\n",
       "    .dataframe tbody tr th:only-of-type {\n",
       "        vertical-align: middle;\n",
       "    }\n",
       "\n",
       "    .dataframe tbody tr th {\n",
       "        vertical-align: top;\n",
       "    }\n",
       "\n",
       "    .dataframe thead th {\n",
       "        text-align: right;\n",
       "    }\n",
       "</style>\n",
       "<table border=\"1\" class=\"dataframe\">\n",
       "  <thead>\n",
       "    <tr style=\"text-align: right;\">\n",
       "      <th></th>\n",
       "      <th>posting_date</th>\n",
       "      <th>lstm_pred_x</th>\n",
       "      <th>lstm_pred_y</th>\n",
       "      <th>lstm_pred</th>\n",
       "    </tr>\n",
       "  </thead>\n",
       "  <tbody>\n",
       "    <tr>\n",
       "      <th>1</th>\n",
       "      <td>2021-05-27</td>\n",
       "      <td>1.475102e+07</td>\n",
       "      <td>2.712790e+06</td>\n",
       "      <td>1.475102e+07</td>\n",
       "    </tr>\n",
       "    <tr>\n",
       "      <th>2</th>\n",
       "      <td>2021-05-28</td>\n",
       "      <td>4.115766e+06</td>\n",
       "      <td>1.475102e+07</td>\n",
       "      <td>4.115766e+06</td>\n",
       "    </tr>\n",
       "    <tr>\n",
       "      <th>3</th>\n",
       "      <td>2021-05-29</td>\n",
       "      <td>2.812021e+06</td>\n",
       "      <td>4.115766e+06</td>\n",
       "      <td>2.812021e+06</td>\n",
       "    </tr>\n",
       "    <tr>\n",
       "      <th>4</th>\n",
       "      <td>2021-05-30</td>\n",
       "      <td>4.536234e+06</td>\n",
       "      <td>2.812021e+06</td>\n",
       "      <td>4.536234e+06</td>\n",
       "    </tr>\n",
       "    <tr>\n",
       "      <th>5</th>\n",
       "      <td>2021-05-31</td>\n",
       "      <td>NaN</td>\n",
       "      <td>4.536234e+06</td>\n",
       "      <td>NaN</td>\n",
       "    </tr>\n",
       "  </tbody>\n",
       "</table>\n",
       "</div>"
      ],
      "text/plain": [
       "  posting_date   lstm_pred_x   lstm_pred_y     lstm_pred\n",
       "1   2021-05-27  1.475102e+07  2.712790e+06  1.475102e+07\n",
       "2   2021-05-28  4.115766e+06  1.475102e+07  4.115766e+06\n",
       "3   2021-05-29  2.812021e+06  4.115766e+06  2.812021e+06\n",
       "4   2021-05-30  4.536234e+06  2.812021e+06  4.536234e+06\n",
       "5   2021-05-31           NaN  4.536234e+06           NaN"
      ]
     },
     "execution_count": 107,
     "metadata": {},
     "output_type": "execute_result"
    }
   ],
   "source": [
    "predict_df_shifted.tail()"
   ]
  },
  {
   "cell_type": "code",
   "execution_count": 108,
   "id": "48d6d97c",
   "metadata": {},
   "outputs": [
    {
     "data": {
      "text/html": [
       "<div>\n",
       "<style scoped>\n",
       "    .dataframe tbody tr th:only-of-type {\n",
       "        vertical-align: middle;\n",
       "    }\n",
       "\n",
       "    .dataframe tbody tr th {\n",
       "        vertical-align: top;\n",
       "    }\n",
       "\n",
       "    .dataframe thead th {\n",
       "        text-align: right;\n",
       "    }\n",
       "</style>\n",
       "<table border=\"1\" class=\"dataframe\">\n",
       "  <thead>\n",
       "    <tr style=\"text-align: right;\">\n",
       "      <th></th>\n",
       "      <th>posting_date</th>\n",
       "      <th>lstm_pred_x</th>\n",
       "      <th>lstm_pred_y</th>\n",
       "      <th>lstm_pred</th>\n",
       "    </tr>\n",
       "  </thead>\n",
       "  <tbody>\n",
       "    <tr>\n",
       "      <th>1</th>\n",
       "      <td>2021-05-27</td>\n",
       "      <td>1.475102e+07</td>\n",
       "      <td>2.712790e+06</td>\n",
       "      <td>1.475102e+07</td>\n",
       "    </tr>\n",
       "    <tr>\n",
       "      <th>2</th>\n",
       "      <td>2021-05-28</td>\n",
       "      <td>4.115766e+06</td>\n",
       "      <td>1.475102e+07</td>\n",
       "      <td>4.115766e+06</td>\n",
       "    </tr>\n",
       "    <tr>\n",
       "      <th>3</th>\n",
       "      <td>2021-05-29</td>\n",
       "      <td>2.812021e+06</td>\n",
       "      <td>4.115766e+06</td>\n",
       "      <td>2.812021e+06</td>\n",
       "    </tr>\n",
       "    <tr>\n",
       "      <th>4</th>\n",
       "      <td>2021-05-30</td>\n",
       "      <td>4.536234e+06</td>\n",
       "      <td>2.812021e+06</td>\n",
       "      <td>4.536234e+06</td>\n",
       "    </tr>\n",
       "    <tr>\n",
       "      <th>5</th>\n",
       "      <td>2021-05-31</td>\n",
       "      <td>NaN</td>\n",
       "      <td>4.536234e+06</td>\n",
       "      <td>NaN</td>\n",
       "    </tr>\n",
       "  </tbody>\n",
       "</table>\n",
       "</div>"
      ],
      "text/plain": [
       "  posting_date   lstm_pred_x   lstm_pred_y     lstm_pred\n",
       "1   2021-05-27  1.475102e+07  2.712790e+06  1.475102e+07\n",
       "2   2021-05-28  4.115766e+06  1.475102e+07  4.115766e+06\n",
       "3   2021-05-29  2.812021e+06  4.115766e+06  2.812021e+06\n",
       "4   2021-05-30  4.536234e+06  2.812021e+06  4.536234e+06\n",
       "5   2021-05-31           NaN  4.536234e+06           NaN"
      ]
     },
     "execution_count": 108,
     "metadata": {},
     "output_type": "execute_result"
    }
   ],
   "source": [
    "predict_df.tail()"
   ]
  },
  {
   "cell_type": "code",
   "execution_count": 109,
   "id": "0a99b1d8",
   "metadata": {},
   "outputs": [
    {
     "data": {
      "image/png": "[encoded data removed]",
      "text/plain": [
       "<Figure size 1080x504 with 1 Axes>"
      ]
     },
     "metadata": {
      "needs_background": "light"
     },
     "output_type": "display_data"
    }
   ],
   "source": [
    "plt.figure(figsize=(15,7))\n",
    "plt.plot(data_11000000clean['posting_date'], data_11000000clean['total_penjualan'])\n",
    "plt.plot(predict_df_shifted['posting_date'], predict_df_shifted['lstm_pred'])\n",
    "plt.title(\"Customer Sales Forecast using LSTM\")\n",
    "plt.xlabel(\"Date\")\n",
    "plt.ylabel(\"Sales\")\n",
    "plt.legend([\"Original Sales\", \"Predicted Sales\"])\n",
    "plt.show()"
   ]
  },
  {
   "cell_type": "code",
   "execution_count": null,
   "id": "9364e53c",
   "metadata": {},
   "outputs": [],
   "source": []
  }
 ],
 "metadata": {
  "kernelspec": {
   "display_name": "Python 3.10 (tensorflow)",
   "language": "python",
   "name": "tensorflow"
  },
  "language_info": {
   "codemirror_mode": {
    "name": "ipython",
    "version": 3
   },
   "file_extension": ".py",
   "mimetype": "text/x-python",
   "name": "python",
   "nbconvert_exporter": "python",
   "pygments_lexer": "ipython3",
   "version": "3.10.0"
  }
 },
 "nbformat": 4,
 "nbformat_minor": 5
}
