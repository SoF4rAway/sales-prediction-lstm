{
 "cells": [
  {
   "cell_type": "markdown",
   "source": [
    "# Notebook Prep"
   ],
   "metadata": {
    "collapsed": false
   }
  },
  {
   "cell_type": "markdown",
   "source": [
    "Berikut adalah module python yang diperlukan"
   ],
   "metadata": {
    "collapsed": false
   }
  },
  {
   "cell_type": "code",
   "execution_count": 15,
   "outputs": [
    {
     "data": {
      "text/html": "        <script type=\"text/javascript\">\n        window.PlotlyConfig = {MathJaxConfig: 'local'};\n        if (window.MathJax && window.MathJax.Hub && window.MathJax.Hub.Config) {window.MathJax.Hub.Config({SVG: {font: \"STIX-Web\"}});}\n        if (typeof require !== 'undefined') {\n        require.undef(\"plotly\");\n        requirejs.config({\n            paths: {\n                'plotly': ['https://cdn.plot.ly/plotly-2.18.0.min']\n            }\n        });\n        require(['plotly'], function(Plotly) {\n            window._Plotly = Plotly;\n        });\n        }\n        </script>\n        "
     },
     "metadata": {},
     "output_type": "display_data"
    }
   ],
   "source": [
    "import numpy as np\n",
    "import pandas as pd\n",
    "import tensorflow as tf\n",
    "from tensorflow import keras\n",
    "from keras.preprocessing.sequence import TimeseriesGenerator\n",
    "from keras import Input, Model, layers, models\n",
    "from keras.callbacks import EarlyStopping\n",
    "from sklearn.preprocessing import MinMaxScaler\n",
    "from sklearn.metrics import mean_squared_error\n",
    "from sklearn.metrics import mean_absolute_percentage_error, mean_absolute_error\n",
    "import matplotlib.pyplot as plt\n",
    "import seaborn as sns\n",
    "import warnings\n",
    "import chart_studio.plotly as py\n",
    "import plotly.graph_objs as go\n",
    "from plotly.offline import init_notebook_mode, iplot\n",
    "import psycopg2\n",
    "from psycopg2 import Error\n",
    "\n",
    "%matplotlib inline\n",
    "warnings.filterwarnings(\"ignore\")\n",
    "init_notebook_mode(connected=True)"
   ],
   "metadata": {
    "collapsed": false
   }
  },
  {
   "cell_type": "markdown",
   "source": [
    "# Data Loading"
   ],
   "metadata": {
    "collapsed": false
   }
  },
  {
   "cell_type": "markdown",
   "source": [
    "Setelah menyiapkan notebook, tentu akan dilakukan data loading untuk memuat data yang nantinya akan di eksplore"
   ],
   "metadata": {
    "collapsed": false
   }
  },
  {
   "cell_type": "code",
   "execution_count": 16,
   "outputs": [
    {
     "name": "stdout",
     "output_type": "stream",
     "text": [
      "PostgreSQL server information\n",
      "{'user': 'user', 'channel_binding': 'prefer', 'dbname': 'dwh-supplychain', 'host': '34.101.98.206', 'port': '5432', 'options': '', 'sslmode': 'prefer', 'sslcompression': '0', 'sslsni': '1', 'ssl_min_protocol_version': 'TLSv1.2', 'gssencmode': 'disable', 'krbsrvname': 'postgres', 'target_session_attrs': 'any'} \n",
      "\n",
      "You are connected to -  ('PostgreSQL 14.4 on x86_64-pc-linux-gnu, compiled by Debian clang version 12.0.1, 64-bit',) \n",
      "\n",
      "<class 'pandas.core.frame.DataFrame'>\n",
      "RangeIndex: 841600 entries, 0 to 841599\n",
      "Data columns (total 6 columns):\n",
      " #   Column             Non-Null Count   Dtype \n",
      "---  ------             --------------   ----- \n",
      " 0   plant              841600 non-null  object\n",
      " 1   plant_description  841600 non-null  object\n",
      " 2   posting_date       841600 non-null  object\n",
      " 3   material           841600 non-null  object\n",
      " 4   bill_qty_sku       841600 non-null  object\n",
      " 5   material_desc      841600 non-null  object\n",
      "dtypes: object(6)\n",
      "memory usage: 38.5+ MB\n"
     ]
    },
    {
     "data": {
      "text/plain": "  plant plant_description posting_date  material bill_qty_sku  \\\n0  2201         KFTD Aceh   2021-02-26  11000147       300.00   \n1  2202        KFTD Medan   2021-02-25  11000072     10000.00   \n2  2202        KFTD Medan   2021-02-25  11000113      6000.00   \n3  2202        KFTD Medan   2021-02-25  11000113      1000.00   \n4  2202        KFTD Medan   2021-02-25  11000000       200.00   \n\n                          material_desc  \n0          AMBROXOL 30 MG (DUS 100 TAB)  \n1      GLIBENCLAMIDE 5 MG (DUS 100 TAB)  \n2  NITROKAF RETARD KAPSUL (DUS 100 KPS)  \n3  NITROKAF RETARD KAPSUL (DUS 100 KPS)  \n4        ACICLOVIR 200 MG (DUS 100 TAB)  ",
      "text/html": "<div>\n<style scoped>\n    .dataframe tbody tr th:only-of-type {\n        vertical-align: middle;\n    }\n\n    .dataframe tbody tr th {\n        vertical-align: top;\n    }\n\n    .dataframe thead th {\n        text-align: right;\n    }\n</style>\n<table border=\"1\" class=\"dataframe\">\n  <thead>\n    <tr style=\"text-align: right;\">\n      <th></th>\n      <th>plant</th>\n      <th>plant_description</th>\n      <th>posting_date</th>\n      <th>material</th>\n      <th>bill_qty_sku</th>\n      <th>material_desc</th>\n    </tr>\n  </thead>\n  <tbody>\n    <tr>\n      <th>0</th>\n      <td>2201</td>\n      <td>KFTD Aceh</td>\n      <td>2021-02-26</td>\n      <td>11000147</td>\n      <td>300.00</td>\n      <td>AMBROXOL 30 MG (DUS 100 TAB)</td>\n    </tr>\n    <tr>\n      <th>1</th>\n      <td>2202</td>\n      <td>KFTD Medan</td>\n      <td>2021-02-25</td>\n      <td>11000072</td>\n      <td>10000.00</td>\n      <td>GLIBENCLAMIDE 5 MG (DUS 100 TAB)</td>\n    </tr>\n    <tr>\n      <th>2</th>\n      <td>2202</td>\n      <td>KFTD Medan</td>\n      <td>2021-02-25</td>\n      <td>11000113</td>\n      <td>6000.00</td>\n      <td>NITROKAF RETARD KAPSUL (DUS 100 KPS)</td>\n    </tr>\n    <tr>\n      <th>3</th>\n      <td>2202</td>\n      <td>KFTD Medan</td>\n      <td>2021-02-25</td>\n      <td>11000113</td>\n      <td>1000.00</td>\n      <td>NITROKAF RETARD KAPSUL (DUS 100 KPS)</td>\n    </tr>\n    <tr>\n      <th>4</th>\n      <td>2202</td>\n      <td>KFTD Medan</td>\n      <td>2021-02-25</td>\n      <td>11000000</td>\n      <td>200.00</td>\n      <td>ACICLOVIR 200 MG (DUS 100 TAB)</td>\n    </tr>\n  </tbody>\n</table>\n</div>"
     },
     "execution_count": 16,
     "metadata": {},
     "output_type": "execute_result"
    }
   ],
   "source": [
    "try:\n",
    "    # Connect to an existing database\n",
    "    connection = psycopg2.connect(user=\"user\",\n",
    "                                  password=\"batugin2\",\n",
    "                                  host=\"34.101.98.206\",\n",
    "                                  port=\"5432\",\n",
    "                                  database=\"dwh-supplychain\")\n",
    "\n",
    "    # Create a cursor to perform database operations\n",
    "    cursor = connection.cursor()\n",
    "    # Print PostgreSQL details\n",
    "    print(\"PostgreSQL server information\")\n",
    "    print(connection.get_dsn_parameters(), \"\\n\")\n",
    "    # Executing a SQL query\n",
    "    cursor.execute(\"SELECT version();\")\n",
    "    # Fetch result\n",
    "    record = cursor.fetchone()\n",
    "    print(\"You are connected to - \", record, \"\\n\")\n",
    "except (Exception, Error) as error:\n",
    "    print(\"Error while connecting to PostgreSQL\", error)\n",
    "\n",
    "cursor.execute('''SELECT plant, plant_description, posting_date, material, bill_qty_sku, material_desc FROM v_sales_2021''')\n",
    "data = cursor.fetchall()\n",
    "\n",
    "col = []\n",
    "for elt in cursor.description:\n",
    "    col.append(elt[0])\n",
    "\n",
    "df=pd.DataFrame(data=data, columns=col)\n",
    "df.info()\n",
    "df.head()"
   ],
   "metadata": {
    "collapsed": false
   }
  },
  {
   "cell_type": "markdown",
   "source": [
    "Diatas adalah kode yang digunakan untuk melakukan koneksi ke database PostgreSQL dan melakukan data fetch sesuai SQL Query tersebut, yang nantinya disimpan pada sebuah pandas DataFrame, dan juga ditampilkan informasi terkait DataFrame tersebut"
   ],
   "metadata": {
    "collapsed": false
   }
  },
  {
   "cell_type": "markdown",
   "source": [
    "# Exploratory Data Analysis"
   ],
   "metadata": {
    "collapsed": false
   }
  },
  {
   "cell_type": "markdown",
   "source": [
    "Setelah dilakukan Data Loading, lalu dilakukan Exploratory Data Analysis (EDA). Setelah dilakukan data Fetch, dapat dilihat pada tipe data dan juga karena disebelumnya sudah dicetak 10 baris awal. Dapat dilihat beberapa data ada yang tidak sesuai dengan jenis datanya. Maka dengan kode dibawah diubah menjadi tipe data yang sesuai"
   ],
   "metadata": {
    "collapsed": false
   }
  },
  {
   "cell_type": "code",
   "execution_count": 17,
   "outputs": [
    {
     "name": "stdout",
     "output_type": "stream",
     "text": [
      "<class 'pandas.core.frame.DataFrame'>\n",
      "RangeIndex: 841600 entries, 0 to 841599\n",
      "Data columns (total 6 columns):\n",
      " #   Column             Non-Null Count   Dtype         \n",
      "---  ------             --------------   -----         \n",
      " 0   plant              841600 non-null  int64         \n",
      " 1   plant_description  841600 non-null  object        \n",
      " 2   material           841600 non-null  int64         \n",
      " 3   material_desc      841600 non-null  object        \n",
      " 4   date               841600 non-null  datetime64[ns]\n",
      " 5   sale_qty           841600 non-null  int64         \n",
      "dtypes: datetime64[ns](1), int64(3), object(2)\n",
      "memory usage: 38.5+ MB\n"
     ]
    },
    {
     "data": {
      "text/plain": "   plant plant_description  material  \\\n0   2201         KFTD Aceh  11000147   \n1   2202        KFTD Medan  11000072   \n2   2202        KFTD Medan  11000113   \n3   2202        KFTD Medan  11000113   \n4   2202        KFTD Medan  11000000   \n5   2202        KFTD Medan  11000391   \n6   2202        KFTD Medan  11000216   \n7   2202        KFTD Medan  11000296   \n8   2202        KFTD Medan  11000391   \n9   2202        KFTD Medan  11000384   \n\n                              material_desc       date  sale_qty  \n0              AMBROXOL 30 MG (DUS 100 TAB) 2021-02-26       300  \n1          GLIBENCLAMIDE 5 MG (DUS 100 TAB) 2021-02-25     10000  \n2      NITROKAF RETARD KAPSUL (DUS 100 KPS) 2021-02-25      6000  \n3      NITROKAF RETARD KAPSUL (DUS 100 KPS) 2021-02-25      1000  \n4            ACICLOVIR 200 MG (DUS 100 TAB) 2021-02-25       200  \n5  GENTAMYCIN 0.1  % (DUS 10 TUBE @ 5 GRAM) 2021-02-25        20  \n6                       KINA (DUS 24 STRIP) 2021-02-25       288  \n7    MICONAZOLE 2 % CR(DUS 24 TUBE@10 GRAM) 2021-02-25        24  \n8  GENTAMYCIN 0.1  % (DUS 10 TUBE @ 5 GRAM) 2021-02-25        10  \n9         BETASON N CREAM (DUS 24 TUB @5 G) 2021-02-25        11  ",
      "text/html": "<div>\n<style scoped>\n    .dataframe tbody tr th:only-of-type {\n        vertical-align: middle;\n    }\n\n    .dataframe tbody tr th {\n        vertical-align: top;\n    }\n\n    .dataframe thead th {\n        text-align: right;\n    }\n</style>\n<table border=\"1\" class=\"dataframe\">\n  <thead>\n    <tr style=\"text-align: right;\">\n      <th></th>\n      <th>plant</th>\n      <th>plant_description</th>\n      <th>material</th>\n      <th>material_desc</th>\n      <th>date</th>\n      <th>sale_qty</th>\n    </tr>\n  </thead>\n  <tbody>\n    <tr>\n      <th>0</th>\n      <td>2201</td>\n      <td>KFTD Aceh</td>\n      <td>11000147</td>\n      <td>AMBROXOL 30 MG (DUS 100 TAB)</td>\n      <td>2021-02-26</td>\n      <td>300</td>\n    </tr>\n    <tr>\n      <th>1</th>\n      <td>2202</td>\n      <td>KFTD Medan</td>\n      <td>11000072</td>\n      <td>GLIBENCLAMIDE 5 MG (DUS 100 TAB)</td>\n      <td>2021-02-25</td>\n      <td>10000</td>\n    </tr>\n    <tr>\n      <th>2</th>\n      <td>2202</td>\n      <td>KFTD Medan</td>\n      <td>11000113</td>\n      <td>NITROKAF RETARD KAPSUL (DUS 100 KPS)</td>\n      <td>2021-02-25</td>\n      <td>6000</td>\n    </tr>\n    <tr>\n      <th>3</th>\n      <td>2202</td>\n      <td>KFTD Medan</td>\n      <td>11000113</td>\n      <td>NITROKAF RETARD KAPSUL (DUS 100 KPS)</td>\n      <td>2021-02-25</td>\n      <td>1000</td>\n    </tr>\n    <tr>\n      <th>4</th>\n      <td>2202</td>\n      <td>KFTD Medan</td>\n      <td>11000000</td>\n      <td>ACICLOVIR 200 MG (DUS 100 TAB)</td>\n      <td>2021-02-25</td>\n      <td>200</td>\n    </tr>\n    <tr>\n      <th>5</th>\n      <td>2202</td>\n      <td>KFTD Medan</td>\n      <td>11000391</td>\n      <td>GENTAMYCIN 0.1  % (DUS 10 TUBE @ 5 GRAM)</td>\n      <td>2021-02-25</td>\n      <td>20</td>\n    </tr>\n    <tr>\n      <th>6</th>\n      <td>2202</td>\n      <td>KFTD Medan</td>\n      <td>11000216</td>\n      <td>KINA (DUS 24 STRIP)</td>\n      <td>2021-02-25</td>\n      <td>288</td>\n    </tr>\n    <tr>\n      <th>7</th>\n      <td>2202</td>\n      <td>KFTD Medan</td>\n      <td>11000296</td>\n      <td>MICONAZOLE 2 % CR(DUS 24 TUBE@10 GRAM)</td>\n      <td>2021-02-25</td>\n      <td>24</td>\n    </tr>\n    <tr>\n      <th>8</th>\n      <td>2202</td>\n      <td>KFTD Medan</td>\n      <td>11000391</td>\n      <td>GENTAMYCIN 0.1  % (DUS 10 TUBE @ 5 GRAM)</td>\n      <td>2021-02-25</td>\n      <td>10</td>\n    </tr>\n    <tr>\n      <th>9</th>\n      <td>2202</td>\n      <td>KFTD Medan</td>\n      <td>11000384</td>\n      <td>BETASON N CREAM (DUS 24 TUB @5 G)</td>\n      <td>2021-02-25</td>\n      <td>11</td>\n    </tr>\n  </tbody>\n</table>\n</div>"
     },
     "execution_count": 17,
     "metadata": {},
     "output_type": "execute_result"
    }
   ],
   "source": [
    "df['date'] = pd.to_datetime(df['posting_date'])\n",
    "df['material'] = df['material'].astype(np.int64)\n",
    "df['sale_qty'] = df['bill_qty_sku'].astype(np.int64)\n",
    "df = df.drop(['posting_date', 'bill_qty_sku'], axis=1)\n",
    "df['plant'] = df['plant'].astype(np.int64)\n",
    "df.info()\n",
    "df.head(10)"
   ],
   "metadata": {
    "collapsed": false
   }
  },
  {
   "cell_type": "markdown",
   "source": [
    "Setelah diubah menjadi tipe data yang sesuai. Perlu diketahui karakteristik data tersebut, dengan menggunakan describe() function dapat dilihat beberapa karakteristik data seperti count, mean, dan standard deviation."
   ],
   "metadata": {
    "collapsed": false
   }
  },
  {
   "cell_type": "code",
   "execution_count": 18,
   "outputs": [
    {
     "data": {
      "text/plain": "               plant      material      sale_qty\ncount  841600.000000  8.416000e+05  8.416000e+05\nmean     2175.580271  1.100050e+07  1.432382e+03\nstd       215.993254  5.781524e+02  2.062117e+04\nmin      1201.000000  1.100000e+07 -8.904000e+05\n25%      2213.000000  1.100015e+07  1.000000e+01\n50%      2222.000000  1.100030e+07  1.000000e+02\n75%      2232.000000  1.100049e+07  3.360000e+02\nmax      2248.000000  1.100220e+07  1.370400e+07",
      "text/html": "<div>\n<style scoped>\n    .dataframe tbody tr th:only-of-type {\n        vertical-align: middle;\n    }\n\n    .dataframe tbody tr th {\n        vertical-align: top;\n    }\n\n    .dataframe thead th {\n        text-align: right;\n    }\n</style>\n<table border=\"1\" class=\"dataframe\">\n  <thead>\n    <tr style=\"text-align: right;\">\n      <th></th>\n      <th>plant</th>\n      <th>material</th>\n      <th>sale_qty</th>\n    </tr>\n  </thead>\n  <tbody>\n    <tr>\n      <th>count</th>\n      <td>841600.000000</td>\n      <td>8.416000e+05</td>\n      <td>8.416000e+05</td>\n    </tr>\n    <tr>\n      <th>mean</th>\n      <td>2175.580271</td>\n      <td>1.100050e+07</td>\n      <td>1.432382e+03</td>\n    </tr>\n    <tr>\n      <th>std</th>\n      <td>215.993254</td>\n      <td>5.781524e+02</td>\n      <td>2.062117e+04</td>\n    </tr>\n    <tr>\n      <th>min</th>\n      <td>1201.000000</td>\n      <td>1.100000e+07</td>\n      <td>-8.904000e+05</td>\n    </tr>\n    <tr>\n      <th>25%</th>\n      <td>2213.000000</td>\n      <td>1.100015e+07</td>\n      <td>1.000000e+01</td>\n    </tr>\n    <tr>\n      <th>50%</th>\n      <td>2222.000000</td>\n      <td>1.100030e+07</td>\n      <td>1.000000e+02</td>\n    </tr>\n    <tr>\n      <th>75%</th>\n      <td>2232.000000</td>\n      <td>1.100049e+07</td>\n      <td>3.360000e+02</td>\n    </tr>\n    <tr>\n      <th>max</th>\n      <td>2248.000000</td>\n      <td>1.100220e+07</td>\n      <td>1.370400e+07</td>\n    </tr>\n  </tbody>\n</table>\n</div>"
     },
     "execution_count": 18,
     "metadata": {},
     "output_type": "execute_result"
    }
   ],
   "source": [
    "df.describe()"
   ],
   "metadata": {
    "collapsed": false
   }
  },
  {
   "cell_type": "markdown",
   "source": [
    "Dari data diatas yang perlu dilihat adalah kolom bill_qty_sku yang mana merupakan jumlah penjualan. dapat dilihat pada 75th percentile jika dibandingkan dengan max nya dapat dilihat perbedaan nilai yang sangat besar, dari hal ini dapat diketahui bahwa pada data tersebut terdapat sebuah outlier yang artinya dalam data tersebut ada nilai yang perbedaannya terlampau tinggi yang dapat menyebabkan analisa data menjadi sulit."
   ],
   "metadata": {
    "collapsed": false
   }
  },
  {
   "cell_type": "markdown",
   "source": [
    "Setelah itu kita juga perlu melihat apakah terdapat nilai kosong"
   ],
   "metadata": {
    "collapsed": false
   }
  },
  {
   "cell_type": "code",
   "execution_count": 19,
   "outputs": [
    {
     "data": {
      "text/plain": "<Axes: >"
     },
     "execution_count": 19,
     "metadata": {},
     "output_type": "execute_result"
    },
    {
     "data": {
      "text/plain": "<Figure size 640x480 with 1 Axes>",
      "image/png": "[encoded data removed]"
     },
     "metadata": {},
     "output_type": "display_data"
    }
   ],
   "source": [
    "sns.heatmap(df.isnull(),cbar=False,yticklabels=False,cmap = 'viridis')"
   ],
   "metadata": {
    "collapsed": false
   }
  },
  {
   "cell_type": "markdown",
   "source": [
    "Dapat dilihat bahwa tidak terdapat nilai kosong pada data tersebut. Lalu dapat dilakukan pengecekan terhadap sebaran penjualan perhari tiap material, dan tiap plant"
   ],
   "metadata": {
    "collapsed": false
   }
  },
  {
   "cell_type": "markdown",
   "source": [
    "Lalu perlu dilihat terkait bagaimana visualisasi data tersebut sehingga didapatkan gambaran yang lebih luas atas data tersebut."
   ],
   "metadata": {
    "collapsed": false
   }
  },
  {
   "cell_type": "code",
   "execution_count": 20,
   "outputs": [],
   "source": [
    "plant_daily = df.groupby(['plant','date'], as_index=False)['sale_qty'].sum()\n",
    "material_daily = df.groupby(['material','date'], as_index=False)['sale_qty'].sum()\n",
    "daily = df.groupby(['date'], as_index=False)['sale_qty'].sum()"
   ],
   "metadata": {
    "collapsed": false
   }
  },
  {
   "cell_type": "code",
   "execution_count": 21,
   "outputs": [
    {
     "ename": "ValueError",
     "evalue": "Mime type rendering requires nbformat>=4.2.0 but it is not installed",
     "output_type": "error",
     "traceback": [
      "\u001B[1;31m---------------------------------------------------------------------------\u001B[0m",
      "\u001B[1;31mValueError\u001B[0m                                Traceback (most recent call last)",
      "Cell \u001B[1;32mIn[21], line 4\u001B[0m\n\u001B[0;32m      2\u001B[0m layout \u001B[38;5;241m=\u001B[39m go\u001B[38;5;241m.\u001B[39mLayout(title\u001B[38;5;241m=\u001B[39m\u001B[38;5;124m'\u001B[39m\u001B[38;5;124mDaily sales\u001B[39m\u001B[38;5;124m'\u001B[39m, xaxis\u001B[38;5;241m=\u001B[39m\u001B[38;5;28mdict\u001B[39m(title\u001B[38;5;241m=\u001B[39m\u001B[38;5;124m'\u001B[39m\u001B[38;5;124mDate\u001B[39m\u001B[38;5;124m'\u001B[39m), yaxis\u001B[38;5;241m=\u001B[39m\u001B[38;5;28mdict\u001B[39m(title\u001B[38;5;241m=\u001B[39m\u001B[38;5;124m'\u001B[39m\u001B[38;5;124mSales\u001B[39m\u001B[38;5;124m'\u001B[39m))\n\u001B[0;32m      3\u001B[0m fig \u001B[38;5;241m=\u001B[39m go\u001B[38;5;241m.\u001B[39mFigure(data\u001B[38;5;241m=\u001B[39m[daily_sales_sc], layout\u001B[38;5;241m=\u001B[39mlayout)\n\u001B[1;32m----> 4\u001B[0m \u001B[43miplot\u001B[49m\u001B[43m(\u001B[49m\u001B[43mfig\u001B[49m\u001B[43m)\u001B[49m\n",
      "File \u001B[1;32m~\\miniconda3\\envs\\tf\\lib\\site-packages\\plotly\\offline\\offline.py:392\u001B[0m, in \u001B[0;36miplot\u001B[1;34m(figure_or_data, show_link, link_text, validate, image, filename, image_width, image_height, config, auto_play, animation_opts)\u001B[0m\n\u001B[0;32m    387\u001B[0m post_script \u001B[38;5;241m=\u001B[39m build_save_image_post_script(\n\u001B[0;32m    388\u001B[0m     image, filename, image_height, image_width, \u001B[38;5;124m\"\u001B[39m\u001B[38;5;124miplot\u001B[39m\u001B[38;5;124m\"\u001B[39m\n\u001B[0;32m    389\u001B[0m )\n\u001B[0;32m    391\u001B[0m \u001B[38;5;66;03m# Show figure\u001B[39;00m\n\u001B[1;32m--> 392\u001B[0m \u001B[43mpio\u001B[49m\u001B[38;5;241;43m.\u001B[39;49m\u001B[43mshow\u001B[49m\u001B[43m(\u001B[49m\n\u001B[0;32m    393\u001B[0m \u001B[43m    \u001B[49m\u001B[43mfigure\u001B[49m\u001B[43m,\u001B[49m\n\u001B[0;32m    394\u001B[0m \u001B[43m    \u001B[49m\u001B[43mvalidate\u001B[49m\u001B[38;5;241;43m=\u001B[39;49m\u001B[43mvalidate\u001B[49m\u001B[43m,\u001B[49m\n\u001B[0;32m    395\u001B[0m \u001B[43m    \u001B[49m\u001B[43mconfig\u001B[49m\u001B[38;5;241;43m=\u001B[39;49m\u001B[43mconfig\u001B[49m\u001B[43m,\u001B[49m\n\u001B[0;32m    396\u001B[0m \u001B[43m    \u001B[49m\u001B[43mauto_play\u001B[49m\u001B[38;5;241;43m=\u001B[39;49m\u001B[43mauto_play\u001B[49m\u001B[43m,\u001B[49m\n\u001B[0;32m    397\u001B[0m \u001B[43m    \u001B[49m\u001B[43mpost_script\u001B[49m\u001B[38;5;241;43m=\u001B[39;49m\u001B[43mpost_script\u001B[49m\u001B[43m,\u001B[49m\n\u001B[0;32m    398\u001B[0m \u001B[43m    \u001B[49m\u001B[43manimation_opts\u001B[49m\u001B[38;5;241;43m=\u001B[39;49m\u001B[43manimation_opts\u001B[49m\u001B[43m,\u001B[49m\n\u001B[0;32m    399\u001B[0m \u001B[43m\u001B[49m\u001B[43m)\u001B[49m\n",
      "File \u001B[1;32m~\\miniconda3\\envs\\tf\\lib\\site-packages\\plotly\\io\\_renderers.py:396\u001B[0m, in \u001B[0;36mshow\u001B[1;34m(fig, renderer, validate, **kwargs)\u001B[0m\n\u001B[0;32m    391\u001B[0m         \u001B[38;5;28;01mraise\u001B[39;00m \u001B[38;5;167;01mValueError\u001B[39;00m(\n\u001B[0;32m    392\u001B[0m             \u001B[38;5;124m\"\u001B[39m\u001B[38;5;124mMime type rendering requires ipython but it is not installed\u001B[39m\u001B[38;5;124m\"\u001B[39m\n\u001B[0;32m    393\u001B[0m         )\n\u001B[0;32m    395\u001B[0m     \u001B[38;5;28;01mif\u001B[39;00m \u001B[38;5;129;01mnot\u001B[39;00m nbformat \u001B[38;5;129;01mor\u001B[39;00m LooseVersion(nbformat\u001B[38;5;241m.\u001B[39m__version__) \u001B[38;5;241m<\u001B[39m LooseVersion(\u001B[38;5;124m\"\u001B[39m\u001B[38;5;124m4.2.0\u001B[39m\u001B[38;5;124m\"\u001B[39m):\n\u001B[1;32m--> 396\u001B[0m         \u001B[38;5;28;01mraise\u001B[39;00m \u001B[38;5;167;01mValueError\u001B[39;00m(\n\u001B[0;32m    397\u001B[0m             \u001B[38;5;124m\"\u001B[39m\u001B[38;5;124mMime type rendering requires nbformat>=4.2.0 but it is not installed\u001B[39m\u001B[38;5;124m\"\u001B[39m\n\u001B[0;32m    398\u001B[0m         )\n\u001B[0;32m    400\u001B[0m     ipython_display\u001B[38;5;241m.\u001B[39mdisplay(bundle, raw\u001B[38;5;241m=\u001B[39m\u001B[38;5;28;01mTrue\u001B[39;00m)\n\u001B[0;32m    402\u001B[0m \u001B[38;5;66;03m# external renderers\u001B[39;00m\n",
      "\u001B[1;31mValueError\u001B[0m: Mime type rendering requires nbformat>=4.2.0 but it is not installed"
     ]
    }
   ],
   "source": [
    "daily_sales_sc = go.Scatter(x=daily['date'], y=daily['sale_qty'])\n",
    "layout = go.Layout(title='Daily sales', xaxis=dict(title='Date'), yaxis=dict(title='Sales'))\n",
    "fig = go.Figure(data=[daily_sales_sc], layout=layout)\n",
    "iplot(fig)"
   ],
   "metadata": {
    "collapsed": false
   }
  },
  {
   "cell_type": "markdown",
   "source": [
    "Diatas merupakan grafik penjualan perhari keseluruhan. Dapat dilihat bahwa terdapat spike pada data yang dilihat sebelumnya pada max value yang jauh lebih tinggi dibanding 75th percentile."
   ],
   "metadata": {
    "collapsed": false
   }
  },
  {
   "cell_type": "code",
   "execution_count": null,
   "outputs": [],
   "source": [
    "plant_daily_sc = []\n",
    "for plant in plant_daily['plant'].unique():\n",
    "    current_plant_daily_sales = plant_daily[(plant_daily['plant'] == plant)]\n",
    "    plant_daily_sc.append(go.Scatter(x=current_plant_daily_sales['date'], y=current_plant_daily_sales['sale_qty'], name=('Plant %s' % plant)))\n",
    "\n",
    "layout = go.Layout(title='plant daily sales', xaxis=dict(title='Date'), yaxis=dict(title='Sales'))\n",
    "fig = go.Figure(data=plant_daily_sc, layout=layout)\n",
    "iplot(fig)"
   ],
   "metadata": {
    "collapsed": false
   }
  },
  {
   "cell_type": "markdown",
   "source": [
    "Ditas adalah grafik penjualan perhari dari setiap plant. Dapat dilihat terdapat outlier pada data plant 1201"
   ],
   "metadata": {
    "collapsed": false
   }
  },
  {
   "cell_type": "code",
   "execution_count": null,
   "outputs": [],
   "source": [
    "material_daily_sc = []\n",
    "for material in material_daily['material'].unique():\n",
    "    current_material_daily_sales = material_daily[(material_daily['material'] == material)]\n",
    "    material_daily_sc.append(go.Scatter(x=current_material_daily_sales['date'], y=current_material_daily_sales['sale_qty'], name=('Material %s' % material)))\n",
    "\n",
    "layout = go.Layout(title='material daily sales', xaxis=dict(title='Date'), yaxis=dict(title='Sales'))\n",
    "fig = go.Figure(data=material_daily_sc, layout=layout)\n",
    "iplot(fig)"
   ],
   "metadata": {
    "collapsed": false
   }
  },
  {
   "cell_type": "markdown",
   "source": [
    "Dapat dilihat pada grafik diatas yang merupakan grafik penjualan per hari tiap material."
   ],
   "metadata": {
    "collapsed": false
   }
  },
  {
   "cell_type": "markdown",
   "source": [
    "Setelah melihat grafik - grafik diatas, perlu di lakukan pengamatan lebih dalam pada data plant 1201"
   ],
   "metadata": {
    "collapsed": false
   }
  },
  {
   "cell_type": "code",
   "execution_count": null,
   "outputs": [],
   "source": [
    "df_1201 = df.loc[(df['plant'] == 1201)].copy()\n",
    "df_1201 = df_1201.groupby(['material','date'], as_index=False)['sale_qty'].sum()\n",
    "\n",
    "material_daily_sc = []\n",
    "for material in df_1201['material'].unique():\n",
    "    current_material_daily_sales = df_1201[(df_1201['material'] == material)]\n",
    "    material_daily_sc.append(go.Scatter(x=current_material_daily_sales['date'], y=current_material_daily_sales['sale_qty'], name=('Material %s' % material)))\n",
    "\n",
    "layout = go.Layout(title='1201 material daily sales', xaxis=dict(title='Date'), yaxis=dict(title='Sales'))\n",
    "fig = go.Figure(data=material_daily_sc, layout=layout)\n",
    "iplot(fig)"
   ],
   "metadata": {
    "collapsed": false
   }
  },
  {
   "cell_type": "markdown",
   "source": [
    "Dapat dilihat dari grafik diatas terdapat spike yang cukup tinggi pada tanggal 16 Maret 2021, dan juga pada tanggal 31 May 2021, Hal tersebut lah yang merupakan outlier pada data tersebut. Dengan mengetahui karakteristik data dan juga dikarenakan daat tersebut merupakan data penjualan maka data tersebut tidak dapat dihapus dikarenakan menyimpan detail harian yang dapat terjadi dikemudian harinya, sehingga untuk mengatasi permaslahan tersebut ketika training maka perlu digunakan loss function yang menangani hal - hal seperti itu dengan baik. Salah satunya dan yang akan digunakan adalah Hubber Loss Function, yang merupakan gabungan dari MSE (Mean Squared Error) dan MAE (Mean Absolute Error)"
   ],
   "metadata": {
    "collapsed": false
   }
  },
  {
   "cell_type": "markdown",
   "id": "dfbfa336",
   "metadata": {},
   "source": [
    "# Data Cleaning"
   ]
  },
  {
   "cell_type": "markdown",
   "source": [
    "Dalam melakukan analisa big data, Data Cleaning merupakan salah satu step paling krusial dalam mendapatkan hasil analisa yang baik dan dapat digunakan. Sehingga langkah pertama dalam melakukan data analysis itu adalah Data Cleaning"
   ],
   "metadata": {
    "collapsed": false
   }
  },
  {
   "cell_type": "markdown",
   "id": "79e8e482",
   "metadata": {},
   "source": [
    "Setelah itu data dikelompokkan menjadi beberapa kelompok, yaitu kelompok yang diurutkan berdasar 'material' dan 'posting_date'. Dan berdasarkan 'material', 'plant', dan 'posting_date'. Kelompok pertama digunakan untuk melakukan analisa performa sebuah barang secara umum. Sedangkan kelompok kedua digunakan untuk melakukan analisa performa sebuah barang pada plant tertentu"
   ]
  },
  {
   "cell_type": "code",
   "execution_count": 22,
   "id": "da625fbb",
   "metadata": {},
   "outputs": [
    {
     "name": "stdout",
     "output_type": "stream",
     "text": [
      "<class 'pandas.core.frame.DataFrame'>\n",
      "MultiIndex: 39961 entries, (11000000, Timestamp('2021-01-07 00:00:00')) to (11002204, Timestamp('2021-05-11 00:00:00'))\n",
      "Data columns (total 3 columns):\n",
      " #   Column    Non-Null Count  Dtype         \n",
      "---  ------    --------------  -----         \n",
      " 0   sale_qty  39961 non-null  int64         \n",
      " 1   material  39961 non-null  int64         \n",
      " 2   date      39961 non-null  datetime64[ns]\n",
      "dtypes: datetime64[ns](1), int64(2)\n",
      "memory usage: 1.0 MB\n"
     ]
    },
    {
     "data": {
      "text/plain": "                     sale_qty  material       date\nmaterial date                                     \n11000000 2021-01-07       100  11000000 2021-01-07\n         2021-01-08      1900  11000000 2021-01-08\n         2021-01-09      2700  11000000 2021-01-09\n         2021-01-11      5700  11000000 2021-01-11\n         2021-01-12     23200  11000000 2021-01-12\n         2021-01-13      4700  11000000 2021-01-13\n         2021-01-14      7200  11000000 2021-01-14\n         2021-01-15      6800  11000000 2021-01-15\n         2021-01-16      1000  11000000 2021-01-16\n         2021-01-18      1100  11000000 2021-01-18",
      "text/html": "<div>\n<style scoped>\n    .dataframe tbody tr th:only-of-type {\n        vertical-align: middle;\n    }\n\n    .dataframe tbody tr th {\n        vertical-align: top;\n    }\n\n    .dataframe thead th {\n        text-align: right;\n    }\n</style>\n<table border=\"1\" class=\"dataframe\">\n  <thead>\n    <tr style=\"text-align: right;\">\n      <th></th>\n      <th></th>\n      <th>sale_qty</th>\n      <th>material</th>\n      <th>date</th>\n    </tr>\n    <tr>\n      <th>material</th>\n      <th>date</th>\n      <th></th>\n      <th></th>\n      <th></th>\n    </tr>\n  </thead>\n  <tbody>\n    <tr>\n      <th rowspan=\"10\" valign=\"top\">11000000</th>\n      <th>2021-01-07</th>\n      <td>100</td>\n      <td>11000000</td>\n      <td>2021-01-07</td>\n    </tr>\n    <tr>\n      <th>2021-01-08</th>\n      <td>1900</td>\n      <td>11000000</td>\n      <td>2021-01-08</td>\n    </tr>\n    <tr>\n      <th>2021-01-09</th>\n      <td>2700</td>\n      <td>11000000</td>\n      <td>2021-01-09</td>\n    </tr>\n    <tr>\n      <th>2021-01-11</th>\n      <td>5700</td>\n      <td>11000000</td>\n      <td>2021-01-11</td>\n    </tr>\n    <tr>\n      <th>2021-01-12</th>\n      <td>23200</td>\n      <td>11000000</td>\n      <td>2021-01-12</td>\n    </tr>\n    <tr>\n      <th>2021-01-13</th>\n      <td>4700</td>\n      <td>11000000</td>\n      <td>2021-01-13</td>\n    </tr>\n    <tr>\n      <th>2021-01-14</th>\n      <td>7200</td>\n      <td>11000000</td>\n      <td>2021-01-14</td>\n    </tr>\n    <tr>\n      <th>2021-01-15</th>\n      <td>6800</td>\n      <td>11000000</td>\n      <td>2021-01-15</td>\n    </tr>\n    <tr>\n      <th>2021-01-16</th>\n      <td>1000</td>\n      <td>11000000</td>\n      <td>2021-01-16</td>\n    </tr>\n    <tr>\n      <th>2021-01-18</th>\n      <td>1100</td>\n      <td>11000000</td>\n      <td>2021-01-18</td>\n    </tr>\n  </tbody>\n</table>\n</div>"
     },
     "execution_count": 22,
     "metadata": {},
     "output_type": "execute_result"
    }
   ],
   "source": [
    "material_df = df.groupby(['material','date']).agg({'sale_qty':'sum', 'material':'first', 'date':'first'})\n",
    "material_df.info()\n",
    "material_df.head(10)"
   ]
  },
  {
   "cell_type": "code",
   "execution_count": 23,
   "id": "7b87ab8a",
   "metadata": {},
   "outputs": [
    {
     "name": "stdout",
     "output_type": "stream",
     "text": [
      "<class 'pandas.core.frame.DataFrame'>\n",
      "MultiIndex: 354779 entries, (1201, 11000000, Timestamp('2021-01-21 00:00:00')) to (2248, 11002125, Timestamp('2021-04-16 00:00:00'))\n",
      "Data columns (total 4 columns):\n",
      " #   Column    Non-Null Count   Dtype         \n",
      "---  ------    --------------   -----         \n",
      " 0   sale_qty  354779 non-null  int64         \n",
      " 1   material  354779 non-null  int64         \n",
      " 2   date      354779 non-null  datetime64[ns]\n",
      " 3   plant     354779 non-null  int64         \n",
      "dtypes: datetime64[ns](1), int64(3)\n",
      "memory usage: 12.2 MB\n"
     ]
    },
    {
     "data": {
      "text/plain": "                           sale_qty  material       date  plant\nplant material date                                            \n1201  11000000 2021-01-21     65000  11000000 2021-01-21   1201\n               2021-01-22     31000  11000000 2021-01-22   1201\n               2021-01-25     26100  11000000 2021-01-25   1201\n               2021-01-26     22600  11000000 2021-01-26   1201\n               2021-01-27      2000  11000000 2021-01-27   1201\n               2021-01-29    123400  11000000 2021-01-29   1201\n               2021-02-02     41900  11000000 2021-02-02   1201\n               2021-02-04     13000  11000000 2021-02-04   1201\n               2021-02-05      5000  11000000 2021-02-05   1201\n               2021-02-08     23200  11000000 2021-02-08   1201",
      "text/html": "<div>\n<style scoped>\n    .dataframe tbody tr th:only-of-type {\n        vertical-align: middle;\n    }\n\n    .dataframe tbody tr th {\n        vertical-align: top;\n    }\n\n    .dataframe thead th {\n        text-align: right;\n    }\n</style>\n<table border=\"1\" class=\"dataframe\">\n  <thead>\n    <tr style=\"text-align: right;\">\n      <th></th>\n      <th></th>\n      <th></th>\n      <th>sale_qty</th>\n      <th>material</th>\n      <th>date</th>\n      <th>plant</th>\n    </tr>\n    <tr>\n      <th>plant</th>\n      <th>material</th>\n      <th>date</th>\n      <th></th>\n      <th></th>\n      <th></th>\n      <th></th>\n    </tr>\n  </thead>\n  <tbody>\n    <tr>\n      <th rowspan=\"10\" valign=\"top\">1201</th>\n      <th rowspan=\"10\" valign=\"top\">11000000</th>\n      <th>2021-01-21</th>\n      <td>65000</td>\n      <td>11000000</td>\n      <td>2021-01-21</td>\n      <td>1201</td>\n    </tr>\n    <tr>\n      <th>2021-01-22</th>\n      <td>31000</td>\n      <td>11000000</td>\n      <td>2021-01-22</td>\n      <td>1201</td>\n    </tr>\n    <tr>\n      <th>2021-01-25</th>\n      <td>26100</td>\n      <td>11000000</td>\n      <td>2021-01-25</td>\n      <td>1201</td>\n    </tr>\n    <tr>\n      <th>2021-01-26</th>\n      <td>22600</td>\n      <td>11000000</td>\n      <td>2021-01-26</td>\n      <td>1201</td>\n    </tr>\n    <tr>\n      <th>2021-01-27</th>\n      <td>2000</td>\n      <td>11000000</td>\n      <td>2021-01-27</td>\n      <td>1201</td>\n    </tr>\n    <tr>\n      <th>2021-01-29</th>\n      <td>123400</td>\n      <td>11000000</td>\n      <td>2021-01-29</td>\n      <td>1201</td>\n    </tr>\n    <tr>\n      <th>2021-02-02</th>\n      <td>41900</td>\n      <td>11000000</td>\n      <td>2021-02-02</td>\n      <td>1201</td>\n    </tr>\n    <tr>\n      <th>2021-02-04</th>\n      <td>13000</td>\n      <td>11000000</td>\n      <td>2021-02-04</td>\n      <td>1201</td>\n    </tr>\n    <tr>\n      <th>2021-02-05</th>\n      <td>5000</td>\n      <td>11000000</td>\n      <td>2021-02-05</td>\n      <td>1201</td>\n    </tr>\n    <tr>\n      <th>2021-02-08</th>\n      <td>23200</td>\n      <td>11000000</td>\n      <td>2021-02-08</td>\n      <td>1201</td>\n    </tr>\n  </tbody>\n</table>\n</div>"
     },
     "execution_count": 23,
     "metadata": {},
     "output_type": "execute_result"
    }
   ],
   "source": [
    "plant_df = df.groupby(['plant','material','date']).agg({'sale_qty':'sum', 'material':'first', 'date':'first', 'plant':'first'})\n",
    "plant_df.info()\n",
    "plant_df.head(10)"
   ]
  },
  {
   "cell_type": "markdown",
   "id": "084308de",
   "metadata": {},
   "source": [
    "Tentu saja untuk membantu analisa diperlukan list - list dari nama material dan juga nama dari plant. Untuk itu dapat diambil dari DataFrame yang sudah dibuat di pertama tadi"
   ]
  },
  {
   "cell_type": "code",
   "execution_count": 24,
   "id": "ad1668d2",
   "metadata": {},
   "outputs": [
    {
     "name": "stdout",
     "output_type": "stream",
     "text": [
      "<class 'pandas.core.frame.DataFrame'>\n",
      "Int64Index: 549 entries, 11000000 to 11002204\n",
      "Data columns (total 2 columns):\n",
      " #   Column         Non-Null Count  Dtype \n",
      "---  ------         --------------  ----- \n",
      " 0   material       549 non-null    int64 \n",
      " 1   material_desc  549 non-null    object\n",
      "dtypes: int64(1), object(1)\n",
      "memory usage: 12.9+ KB\n"
     ]
    },
    {
     "data": {
      "text/plain": "          material                             material_desc\nmaterial                                                    \n11000000  11000000            ACICLOVIR 200 MG (DUS 100 TAB)\n11000002  11000002            ACICLOVIR 400 MG (DUS 100 TAB)\n11000004  11000004  ACICLOVIR CREAM 5%(DUS 25 TUBE @ 5 GRAM)\n11000006  11000006           ALERGINE 10 MG TSS (DUS 50 TAB)\n11000008  11000008           ALPRAZOLAM 0.5 MG (DUS 100 TAB)\n11000009  11000009             ALPRAZOLAM 1 MG (DUS 100 TAB)\n11000011  11000011          AMOXICILLIN 500 MG (DUS 100 TAB)\n11000012  11000012           AMPICILLIN 500 MG (DUS 100 TAB)\n11000013  11000013        ANTASIDA DOEN SUSPENSI (BTL 60 ML)\n11000016  11000016          AZITHROMYCIN 500 MG (DUS 20 TAB)",
      "text/html": "<div>\n<style scoped>\n    .dataframe tbody tr th:only-of-type {\n        vertical-align: middle;\n    }\n\n    .dataframe tbody tr th {\n        vertical-align: top;\n    }\n\n    .dataframe thead th {\n        text-align: right;\n    }\n</style>\n<table border=\"1\" class=\"dataframe\">\n  <thead>\n    <tr style=\"text-align: right;\">\n      <th></th>\n      <th>material</th>\n      <th>material_desc</th>\n    </tr>\n    <tr>\n      <th>material</th>\n      <th></th>\n      <th></th>\n    </tr>\n  </thead>\n  <tbody>\n    <tr>\n      <th>11000000</th>\n      <td>11000000</td>\n      <td>ACICLOVIR 200 MG (DUS 100 TAB)</td>\n    </tr>\n    <tr>\n      <th>11000002</th>\n      <td>11000002</td>\n      <td>ACICLOVIR 400 MG (DUS 100 TAB)</td>\n    </tr>\n    <tr>\n      <th>11000004</th>\n      <td>11000004</td>\n      <td>ACICLOVIR CREAM 5%(DUS 25 TUBE @ 5 GRAM)</td>\n    </tr>\n    <tr>\n      <th>11000006</th>\n      <td>11000006</td>\n      <td>ALERGINE 10 MG TSS (DUS 50 TAB)</td>\n    </tr>\n    <tr>\n      <th>11000008</th>\n      <td>11000008</td>\n      <td>ALPRAZOLAM 0.5 MG (DUS 100 TAB)</td>\n    </tr>\n    <tr>\n      <th>11000009</th>\n      <td>11000009</td>\n      <td>ALPRAZOLAM 1 MG (DUS 100 TAB)</td>\n    </tr>\n    <tr>\n      <th>11000011</th>\n      <td>11000011</td>\n      <td>AMOXICILLIN 500 MG (DUS 100 TAB)</td>\n    </tr>\n    <tr>\n      <th>11000012</th>\n      <td>11000012</td>\n      <td>AMPICILLIN 500 MG (DUS 100 TAB)</td>\n    </tr>\n    <tr>\n      <th>11000013</th>\n      <td>11000013</td>\n      <td>ANTASIDA DOEN SUSPENSI (BTL 60 ML)</td>\n    </tr>\n    <tr>\n      <th>11000016</th>\n      <td>11000016</td>\n      <td>AZITHROMYCIN 500 MG (DUS 20 TAB)</td>\n    </tr>\n  </tbody>\n</table>\n</div>"
     },
     "execution_count": 24,
     "metadata": {},
     "output_type": "execute_result"
    }
   ],
   "source": [
    "material_list = df.groupby(['material']).agg({'material':'first','material_desc':'first'})\n",
    "material_list.info()\n",
    "material_list.head(10)"
   ]
  },
  {
   "cell_type": "code",
   "execution_count": 25,
   "id": "68af422f",
   "metadata": {},
   "outputs": [
    {
     "name": "stdout",
     "output_type": "stream",
     "text": [
      "<class 'pandas.core.frame.DataFrame'>\n",
      "Int64Index: 50 entries, 1201 to 2248\n",
      "Data columns (total 2 columns):\n",
      " #   Column             Non-Null Count  Dtype \n",
      "---  ------             --------------  ----- \n",
      " 0   plant              50 non-null     int64 \n",
      " 1   plant_description  50 non-null     object\n",
      "dtypes: int64(1), object(1)\n",
      "memory usage: 1.2+ KB\n"
     ]
    },
    {
     "data": {
      "text/plain": "       plant       plant_description\nplant                               \n1201    1201   Unit Logistik Sentral\n2101    2101  KFTD Unit Bisnis Pusat\n2201    2201               KFTD Aceh\n2202    2202              KFTD Medan\n2203    2203    KFTD Pematangsiantar\n2204    2204             KFTD Padang\n2205    2205          KFTD Pekanbaru\n2206    2206              KFTD Batam\n2207    2207              KFTD Jambi\n2208    2208          KFTD Palembang",
      "text/html": "<div>\n<style scoped>\n    .dataframe tbody tr th:only-of-type {\n        vertical-align: middle;\n    }\n\n    .dataframe tbody tr th {\n        vertical-align: top;\n    }\n\n    .dataframe thead th {\n        text-align: right;\n    }\n</style>\n<table border=\"1\" class=\"dataframe\">\n  <thead>\n    <tr style=\"text-align: right;\">\n      <th></th>\n      <th>plant</th>\n      <th>plant_description</th>\n    </tr>\n    <tr>\n      <th>plant</th>\n      <th></th>\n      <th></th>\n    </tr>\n  </thead>\n  <tbody>\n    <tr>\n      <th>1201</th>\n      <td>1201</td>\n      <td>Unit Logistik Sentral</td>\n    </tr>\n    <tr>\n      <th>2101</th>\n      <td>2101</td>\n      <td>KFTD Unit Bisnis Pusat</td>\n    </tr>\n    <tr>\n      <th>2201</th>\n      <td>2201</td>\n      <td>KFTD Aceh</td>\n    </tr>\n    <tr>\n      <th>2202</th>\n      <td>2202</td>\n      <td>KFTD Medan</td>\n    </tr>\n    <tr>\n      <th>2203</th>\n      <td>2203</td>\n      <td>KFTD Pematangsiantar</td>\n    </tr>\n    <tr>\n      <th>2204</th>\n      <td>2204</td>\n      <td>KFTD Padang</td>\n    </tr>\n    <tr>\n      <th>2205</th>\n      <td>2205</td>\n      <td>KFTD Pekanbaru</td>\n    </tr>\n    <tr>\n      <th>2206</th>\n      <td>2206</td>\n      <td>KFTD Batam</td>\n    </tr>\n    <tr>\n      <th>2207</th>\n      <td>2207</td>\n      <td>KFTD Jambi</td>\n    </tr>\n    <tr>\n      <th>2208</th>\n      <td>2208</td>\n      <td>KFTD Palembang</td>\n    </tr>\n  </tbody>\n</table>\n</div>"
     },
     "execution_count": 25,
     "metadata": {},
     "output_type": "execute_result"
    }
   ],
   "source": [
    "plant_list = df.groupby(['plant']).agg({'plant':'first','plant_description':'first'})\n",
    "plant_list.info()\n",
    "plant_list.head(10)"
   ]
  },
  {
   "cell_type": "markdown",
   "id": "bdd317be",
   "metadata": {},
   "source": [
    "Dengan demikian proses data fetch dan data cleaning sudah selesai. Selanjutnya akan dilanjutkan dengan data preprocessing"
   ]
  },
  {
   "cell_type": "markdown",
   "source": [
    "# Data Preprocessing"
   ],
   "metadata": {
    "collapsed": false
   }
  },
  {
   "cell_type": "markdown",
   "source": [
    "Sebelum diinputkan ke dalam machine learning mode, data tentu saja perlu dipreprocess terlebih dahulu, terutama apabila menggunakan model LSTM ( Long-Short Term Memory). Berikut adalah tahapan preprocess yang digunakan"
   ],
   "metadata": {
    "collapsed": false
   }
  },
  {
   "cell_type": "markdown",
   "source": [
    "Sebagai contoh, akan dilakukan model training dengan menggunakan data Sale Qty dari material_id = 11000267"
   ],
   "metadata": {
    "collapsed": false
   }
  },
  {
   "cell_type": "code",
   "execution_count": 26,
   "outputs": [
    {
     "name": "stdout",
     "output_type": "stream",
     "text": [
      "<class 'pandas.core.frame.DataFrame'>\n",
      "RangeIndex: 70 entries, 0 to 69\n",
      "Data columns (total 1 columns):\n",
      " #   Column    Non-Null Count  Dtype\n",
      "---  ------    --------------  -----\n",
      " 0   sale_qty  70 non-null     int64\n",
      "dtypes: int64(1)\n",
      "memory usage: 688.0 bytes\n"
     ]
    },
    {
     "data": {
      "text/plain": "    sale_qty\n0        390\n1         60\n2         30\n3         30\n4        210\n..       ...\n65        30\n66      1080\n67        90\n68       660\n69      1200\n\n[70 rows x 1 columns]",
      "text/html": "<div>\n<style scoped>\n    .dataframe tbody tr th:only-of-type {\n        vertical-align: middle;\n    }\n\n    .dataframe tbody tr th {\n        vertical-align: top;\n    }\n\n    .dataframe thead th {\n        text-align: right;\n    }\n</style>\n<table border=\"1\" class=\"dataframe\">\n  <thead>\n    <tr style=\"text-align: right;\">\n      <th></th>\n      <th>sale_qty</th>\n    </tr>\n  </thead>\n  <tbody>\n    <tr>\n      <th>0</th>\n      <td>390</td>\n    </tr>\n    <tr>\n      <th>1</th>\n      <td>60</td>\n    </tr>\n    <tr>\n      <th>2</th>\n      <td>30</td>\n    </tr>\n    <tr>\n      <th>3</th>\n      <td>30</td>\n    </tr>\n    <tr>\n      <th>4</th>\n      <td>210</td>\n    </tr>\n    <tr>\n      <th>...</th>\n      <td>...</td>\n    </tr>\n    <tr>\n      <th>65</th>\n      <td>30</td>\n    </tr>\n    <tr>\n      <th>66</th>\n      <td>1080</td>\n    </tr>\n    <tr>\n      <th>67</th>\n      <td>90</td>\n    </tr>\n    <tr>\n      <th>68</th>\n      <td>660</td>\n    </tr>\n    <tr>\n      <th>69</th>\n      <td>1200</td>\n    </tr>\n  </tbody>\n</table>\n<p>70 rows × 1 columns</p>\n</div>"
     },
     "execution_count": 26,
     "metadata": {},
     "output_type": "execute_result"
    }
   ],
   "source": [
    "train_data = material_df.reset_index(drop=True)\n",
    "train_data = train_data.loc[(train_data['material']==11000267)].copy()\n",
    "train_data= train_data.drop(['material','date'],axis=1)\n",
    "train_data = train_data.reset_index(drop=True)\n",
    "train_data.info()\n",
    "train_data"
   ],
   "metadata": {
    "collapsed": false
   }
  },
  {
   "cell_type": "markdown",
   "source": [
    "Pada kode diatas, nilai dari material.df disimpan pada sebuah DataFrame baru lalu dikelompokkan sehingga nilai dari 'sale_qty' adalah jumlah dari penjualan sehari. Lalu untuk menggunakannya sebagai data input bagi model, maka dihapus kolom 'posting_date' dan 'material'."
   ],
   "metadata": {
    "collapsed": false
   }
  },
  {
   "cell_type": "markdown",
   "source": [
    "Setelah itu train_data dapat di preprocess sesuai dengan model LSTM, pada model LSTM yang digunakan terdapat aturan ukuran input dengan format [n_input, n_feature], n_input adalah jumlah langkah yang digunakan untuk memprediksi, n_feature adalah jumlah target yang ingin diprediksi."
   ],
   "metadata": {
    "collapsed": false
   }
  },
  {
   "cell_type": "code",
   "execution_count": 27,
   "outputs": [],
   "source": [
    "train = train_data[:-15]\n",
    "test = train_data[-30:]\n",
    "scaler = MinMaxScaler()\n",
    "scaler.fit(train_data)\n",
    "scaled_train = scaler.transform(train)\n",
    "scaled_test = scaler.transform(test)\n",
    "n_input = 30\n",
    "n_feature = 1\n",
    "batch_size = 1\n",
    "generator = TimeseriesGenerator(scaled_train, scaled_train, length = n_input, batch_size=batch_size)"
   ],
   "metadata": {
    "collapsed": false
   }
  },
  {
   "cell_type": "markdown",
   "source": [
    "Dan karena pada LSTM menerima input yang berada dikisaran 0 hingga 1, maka perlu dilakukan scaling terhadap train_data dengan menggunakan sklearn.preprocessing.MinMaxScaler yang nantinya hasil dari scaling di jadikan input untuk generator yang akan men-generate data sebagai input untuk model training sesuai dengan yang ukuran yang dibutuhkan yaitu (10,1)"
   ],
   "metadata": {
    "collapsed": false
   }
  },
  {
   "cell_type": "markdown",
   "source": [
    "# Training"
   ],
   "metadata": {
    "collapsed": false
   }
  },
  {
   "cell_type": "markdown",
   "source": [
    "Setelah data generator disiapkan, maka dapat dilakukan pembuatan model LSTM yang akan digunakan"
   ],
   "metadata": {
    "collapsed": false
   }
  },
  {
   "cell_type": "code",
   "execution_count": 28,
   "outputs": [
    {
     "name": "stdout",
     "output_type": "stream",
     "text": [
      "Model: \"model\"\n",
      "_________________________________________________________________\n",
      " Layer (type)                Output Shape              Param #   \n",
      "=================================================================\n",
      " input_1 (InputLayer)        [(None, 30, 1)]           0         \n",
      "                                                                 \n",
      " lstm (LSTM)                 (None, 100)               40800     \n",
      "                                                                 \n",
      " activation (Activation)     (None, 100)               0         \n",
      "                                                                 \n",
      " dense (Dense)               (None, 1)                 101       \n",
      "                                                                 \n",
      "=================================================================\n",
      "Total params: 40,901\n",
      "Trainable params: 40,901\n",
      "Non-trainable params: 0\n",
      "_________________________________________________________________\n"
     ]
    }
   ],
   "source": [
    "huber_loss = tf.keras.losses.Huber(delta=1.25)\n",
    "\n",
    "def TesNet():\n",
    "    inputs = Input(shape=(30,1))\n",
    "    x = layers.LSTM(100)(inputs)\n",
    "    x = layers.Activation('relu')(x)\n",
    "    outputs = layers.Dense(1)(x)\n",
    "    model = Model(inputs=inputs, outputs=outputs)\n",
    "    return model\n",
    "\n",
    "model = TesNet()\n",
    "model.compile(loss=huber_loss, optimizer = keras.optimizers.Adam(1e-3))\n",
    "model.summary()"
   ],
   "metadata": {
    "collapsed": false
   }
  },
  {
   "cell_type": "markdown",
   "source": [
    "Dapat dilihat pada kode diatas bahwa model LSTM yang digunakan terdiri dari layer input, lalu layer LSTM dengan 100 neuron, lalu layer Dense yang menjadi output layer dari model ini. Model ini juga menerima input berukuran (10,1)."
   ],
   "metadata": {
    "collapsed": false
   }
  },
  {
   "cell_type": "markdown",
   "source": [
    "Lalu dalam melakukan training tentu saja perlu dilakukan beberapa hal untuk menghindari Overfitting, Overfitting sendiri adalah kondisi dimana model menjadi terlalu terlatih untuk input yang diberikan saat training sehingga memiliki nilai loss yang sangat rendah tetapi ketika di tes ke data yang belum pernah di inputkan saat training memiliki loss yang sangat tinggi. Hal tersebut dapat di hindarkan dengan cara menggunakan callbacks, pada notebook ini yang digunakan adalah metode EarlyStopping dan LRDecay, EarlyStopping merupakan callbacks yang builtin dari tensorflow.keras yang memantau nilai loss apabila tidak terjadi perubahan signifikan selama waktu yang ditentukan maka proses training dianggap sudah selesai. Lalu LRDecay (Learning Rate Decay) adalah metode dimana berdasar banyak epoch yang sudah dilakukan learning rate dari model di ubah untuk menghindari learning rate terlalu tinggi."
   ],
   "metadata": {
    "collapsed": false
   }
  },
  {
   "cell_type": "code",
   "execution_count": 29,
   "outputs": [],
   "source": [
    "def lrdecay(epoch):\n",
    "    lr = 1e-3\n",
    "    if epoch > 175:\n",
    "        lr *= 0.5e-4\n",
    "    elif epoch > 100:\n",
    "        lr *= 1e-3\n",
    "    elif epoch > 50:\n",
    "        lr *= 1e-2\n",
    "    elif epoch > 10:\n",
    "        lr *= 1e-1\n",
    "    #print('Learning rate: ', lr)\n",
    "    return lr\n",
    "    # if epoch < 40:\n",
    "    #   return 0.01\n",
    "    # else:\n",
    "    #   return 0.01 * np.math.exp(0.03 * (40 - epoch))\n",
    "lrdecay = tf.keras.callbacks.LearningRateScheduler(lrdecay) # learning rate decay\n",
    "\n",
    "stop = EarlyStopping(\n",
    "    monitor='loss',\n",
    "    patience=10,\n",
    "    min_delta=0.01,\n",
    "    mode='max',\n",
    "    restore_best_weights=True)"
   ],
   "metadata": {
    "collapsed": false
   }
  },
  {
   "cell_type": "markdown",
   "source": [
    "Setelah disiapkan Callbacks yang diperlukan maka dapat dilakukan untuk training"
   ],
   "metadata": {
    "collapsed": false
   }
  },
  {
   "cell_type": "code",
   "execution_count": 30,
   "outputs": [
    {
     "name": "stdout",
     "output_type": "stream",
     "text": [
      "Epoch 1/125\n",
      "25/25 [==============================] - 5s 7ms/step - loss: 0.0108 - lr: 0.0010\n",
      "Epoch 2/125\n",
      "25/25 [==============================] - 0s 7ms/step - loss: 0.0099 - lr: 0.0010\n",
      "Epoch 3/125\n",
      "25/25 [==============================] - 0s 6ms/step - loss: 0.0103 - lr: 0.0010\n",
      "Epoch 4/125\n",
      "25/25 [==============================] - 0s 6ms/step - loss: 0.0109 - lr: 0.0010\n",
      "Epoch 5/125\n",
      "25/25 [==============================] - 0s 6ms/step - loss: 0.0099 - lr: 0.0010\n",
      "Epoch 6/125\n",
      "25/25 [==============================] - 0s 6ms/step - loss: 0.0096 - lr: 0.0010\n",
      "Epoch 7/125\n",
      "25/25 [==============================] - 0s 5ms/step - loss: 0.0098 - lr: 0.0010\n",
      "Epoch 8/125\n",
      "25/25 [==============================] - 0s 5ms/step - loss: 0.0094 - lr: 0.0010\n",
      "Epoch 9/125\n",
      "25/25 [==============================] - 0s 5ms/step - loss: 0.0091 - lr: 0.0010\n",
      "Epoch 10/125\n",
      "25/25 [==============================] - 0s 6ms/step - loss: 0.0097 - lr: 0.0010\n",
      "Epoch 11/125\n",
      "25/25 [==============================] - 0s 6ms/step - loss: 0.0094 - lr: 0.0010\n"
     ]
    },
    {
     "data": {
      "text/plain": "<keras.callbacks.History at 0x29c826bc850>"
     },
     "execution_count": 30,
     "metadata": {},
     "output_type": "execute_result"
    }
   ],
   "source": [
    "model.fit(generator, epochs = 125, callbacks=[lrdecay, stop])"
   ],
   "metadata": {
    "collapsed": false
   }
  },
  {
   "cell_type": "markdown",
   "source": [
    "Setelah dilakukan Training terhadap model yang digunakan dapat kita lakukan test terhadap data set yang belum pernah dilihat oleh model, yang nantinya dapat digunakan sebagai evaluasi terhadap performa model tersebut."
   ],
   "metadata": {
    "collapsed": false
   }
  },
  {
   "cell_type": "code",
   "execution_count": 31,
   "outputs": [
    {
     "name": "stdout",
     "output_type": "stream",
     "text": [
      "1/1 [==============================] - 0s 273ms/step\n",
      "1/1 [==============================] - 0s 19ms/step\n",
      "1/1 [==============================] - 0s 18ms/step\n",
      "1/1 [==============================] - 0s 18ms/step\n",
      "1/1 [==============================] - 0s 19ms/step\n",
      "1/1 [==============================] - 0s 19ms/step\n",
      "1/1 [==============================] - 0s 18ms/step\n",
      "1/1 [==============================] - 0s 19ms/step\n",
      "1/1 [==============================] - 0s 19ms/step\n",
      "1/1 [==============================] - 0s 21ms/step\n",
      "1/1 [==============================] - 0s 18ms/step\n",
      "1/1 [==============================] - 0s 20ms/step\n",
      "1/1 [==============================] - 0s 19ms/step\n",
      "1/1 [==============================] - 0s 18ms/step\n",
      "1/1 [==============================] - 0s 17ms/step\n",
      "1/1 [==============================] - 0s 18ms/step\n",
      "1/1 [==============================] - 0s 18ms/step\n",
      "1/1 [==============================] - 0s 17ms/step\n",
      "1/1 [==============================] - 0s 18ms/step\n",
      "1/1 [==============================] - 0s 18ms/step\n",
      "1/1 [==============================] - 0s 18ms/step\n",
      "1/1 [==============================] - 0s 17ms/step\n",
      "1/1 [==============================] - 0s 19ms/step\n",
      "1/1 [==============================] - 0s 19ms/step\n",
      "1/1 [==============================] - 0s 19ms/step\n",
      "1/1 [==============================] - 0s 18ms/step\n",
      "1/1 [==============================] - 0s 18ms/step\n",
      "1/1 [==============================] - 0s 18ms/step\n",
      "1/1 [==============================] - 0s 19ms/step\n",
      "1/1 [==============================] - 0s 19ms/step\n"
     ]
    }
   ],
   "source": [
    "pred = []\n",
    "first_eval_batch = scaled_train[-30:]\n",
    "current_batch = first_eval_batch.reshape((1,30,1))\n",
    "\n",
    "for i in range(30):\n",
    "    current_pred = model.predict(current_batch)[0]\n",
    "    pred.append(current_pred)\n",
    "    current_batch = np.append(current_batch[:,1:,:],[[current_pred]],axis=1)"
   ],
   "metadata": {
    "collapsed": false
   }
  },
  {
   "cell_type": "code",
   "execution_count": 32,
   "outputs": [
    {
     "data": {
      "text/plain": "         date  act_sale  pred_sale\n0  2021-03-29  0.048387   0.038999\n1  2021-03-30  0.064516   0.040099\n2  2021-03-31  0.016129   0.040123\n3  2021-04-12  0.032258   0.039427\n4  2021-04-13  0.016129   0.038322\n5  2021-04-14  0.548387   0.037175\n6  2021-04-15  0.000000   0.035845\n7  2021-04-16  0.145161   0.034567\n8  2021-04-17  0.016129   0.033375\n9  2021-04-19  0.048387   0.032296\n10 2021-04-22  0.032258   0.031365\n11 2021-04-26  0.080645   0.030566\n12 2021-04-28  0.032258   0.029880\n13 2021-04-29  0.516129   0.029300\n14 2021-04-30  0.016129   0.028820\n15 2021-05-04  0.016129   0.028445\n16 2021-05-06  0.483871   0.028127\n17 2021-05-07  0.080645   0.027872\n18 2021-05-08  0.096774   0.027658\n19 2021-05-10  0.016129   0.027495\n20 2021-05-11  0.016129   0.027365\n21 2021-05-17  0.016129   0.027415\n22 2021-05-18  0.032258   0.027333\n23 2021-05-20  0.032258   0.027315\n24 2021-05-24  0.016129   0.027274\n25 2021-05-25  0.016129   0.027256\n26 2021-05-27  0.580645   0.027243\n27 2021-05-28  0.048387   0.027253\n28 2021-05-30  0.354839   0.027252\n29 2021-05-31  0.645161   0.027392",
      "text/html": "<div>\n<style scoped>\n    .dataframe tbody tr th:only-of-type {\n        vertical-align: middle;\n    }\n\n    .dataframe tbody tr th {\n        vertical-align: top;\n    }\n\n    .dataframe thead th {\n        text-align: right;\n    }\n</style>\n<table border=\"1\" class=\"dataframe\">\n  <thead>\n    <tr style=\"text-align: right;\">\n      <th></th>\n      <th>date</th>\n      <th>act_sale</th>\n      <th>pred_sale</th>\n    </tr>\n  </thead>\n  <tbody>\n    <tr>\n      <th>0</th>\n      <td>2021-03-29</td>\n      <td>0.048387</td>\n      <td>0.038999</td>\n    </tr>\n    <tr>\n      <th>1</th>\n      <td>2021-03-30</td>\n      <td>0.064516</td>\n      <td>0.040099</td>\n    </tr>\n    <tr>\n      <th>2</th>\n      <td>2021-03-31</td>\n      <td>0.016129</td>\n      <td>0.040123</td>\n    </tr>\n    <tr>\n      <th>3</th>\n      <td>2021-04-12</td>\n      <td>0.032258</td>\n      <td>0.039427</td>\n    </tr>\n    <tr>\n      <th>4</th>\n      <td>2021-04-13</td>\n      <td>0.016129</td>\n      <td>0.038322</td>\n    </tr>\n    <tr>\n      <th>5</th>\n      <td>2021-04-14</td>\n      <td>0.548387</td>\n      <td>0.037175</td>\n    </tr>\n    <tr>\n      <th>6</th>\n      <td>2021-04-15</td>\n      <td>0.000000</td>\n      <td>0.035845</td>\n    </tr>\n    <tr>\n      <th>7</th>\n      <td>2021-04-16</td>\n      <td>0.145161</td>\n      <td>0.034567</td>\n    </tr>\n    <tr>\n      <th>8</th>\n      <td>2021-04-17</td>\n      <td>0.016129</td>\n      <td>0.033375</td>\n    </tr>\n    <tr>\n      <th>9</th>\n      <td>2021-04-19</td>\n      <td>0.048387</td>\n      <td>0.032296</td>\n    </tr>\n    <tr>\n      <th>10</th>\n      <td>2021-04-22</td>\n      <td>0.032258</td>\n      <td>0.031365</td>\n    </tr>\n    <tr>\n      <th>11</th>\n      <td>2021-04-26</td>\n      <td>0.080645</td>\n      <td>0.030566</td>\n    </tr>\n    <tr>\n      <th>12</th>\n      <td>2021-04-28</td>\n      <td>0.032258</td>\n      <td>0.029880</td>\n    </tr>\n    <tr>\n      <th>13</th>\n      <td>2021-04-29</td>\n      <td>0.516129</td>\n      <td>0.029300</td>\n    </tr>\n    <tr>\n      <th>14</th>\n      <td>2021-04-30</td>\n      <td>0.016129</td>\n      <td>0.028820</td>\n    </tr>\n    <tr>\n      <th>15</th>\n      <td>2021-05-04</td>\n      <td>0.016129</td>\n      <td>0.028445</td>\n    </tr>\n    <tr>\n      <th>16</th>\n      <td>2021-05-06</td>\n      <td>0.483871</td>\n      <td>0.028127</td>\n    </tr>\n    <tr>\n      <th>17</th>\n      <td>2021-05-07</td>\n      <td>0.080645</td>\n      <td>0.027872</td>\n    </tr>\n    <tr>\n      <th>18</th>\n      <td>2021-05-08</td>\n      <td>0.096774</td>\n      <td>0.027658</td>\n    </tr>\n    <tr>\n      <th>19</th>\n      <td>2021-05-10</td>\n      <td>0.016129</td>\n      <td>0.027495</td>\n    </tr>\n    <tr>\n      <th>20</th>\n      <td>2021-05-11</td>\n      <td>0.016129</td>\n      <td>0.027365</td>\n    </tr>\n    <tr>\n      <th>21</th>\n      <td>2021-05-17</td>\n      <td>0.016129</td>\n      <td>0.027415</td>\n    </tr>\n    <tr>\n      <th>22</th>\n      <td>2021-05-18</td>\n      <td>0.032258</td>\n      <td>0.027333</td>\n    </tr>\n    <tr>\n      <th>23</th>\n      <td>2021-05-20</td>\n      <td>0.032258</td>\n      <td>0.027315</td>\n    </tr>\n    <tr>\n      <th>24</th>\n      <td>2021-05-24</td>\n      <td>0.016129</td>\n      <td>0.027274</td>\n    </tr>\n    <tr>\n      <th>25</th>\n      <td>2021-05-25</td>\n      <td>0.016129</td>\n      <td>0.027256</td>\n    </tr>\n    <tr>\n      <th>26</th>\n      <td>2021-05-27</td>\n      <td>0.580645</td>\n      <td>0.027243</td>\n    </tr>\n    <tr>\n      <th>27</th>\n      <td>2021-05-28</td>\n      <td>0.048387</td>\n      <td>0.027253</td>\n    </tr>\n    <tr>\n      <th>28</th>\n      <td>2021-05-30</td>\n      <td>0.354839</td>\n      <td>0.027252</td>\n    </tr>\n    <tr>\n      <th>29</th>\n      <td>2021-05-31</td>\n      <td>0.645161</td>\n      <td>0.027392</td>\n    </tr>\n  </tbody>\n</table>\n</div>"
     },
     "execution_count": 32,
     "metadata": {},
     "output_type": "execute_result"
    }
   ],
   "source": [
    "tes_res = material_df.reset_index(drop=True)\n",
    "tes_res = tes_res.loc[(tes_res['material']==11000267)].copy()\n",
    "tes_res = tes_res.groupby(['date']).sum()\n",
    "tes_res = tes_res.drop(['material','sale_qty'], axis=1)\n",
    "tes_res = tes_res[-30:]\n",
    "tes_res = tes_res.reset_index()\n",
    "tes_res['act_sale'] = scaled_test.astype(np.float64)\n",
    "tes_res['pred_sale'] = pred\n",
    "tes_res['pred_sale'] = tes_res['pred_sale'].astype(np.float64)\n",
    "tes_res"
   ],
   "metadata": {
    "collapsed": false
   }
  },
  {
   "cell_type": "code",
   "execution_count": 33,
   "outputs": [
    {
     "ename": "ValueError",
     "evalue": "Mime type rendering requires nbformat>=4.2.0 but it is not installed",
     "output_type": "error",
     "traceback": [
      "\u001B[1;31m---------------------------------------------------------------------------\u001B[0m",
      "\u001B[1;31mValueError\u001B[0m                                Traceback (most recent call last)",
      "Cell \u001B[1;32mIn[33], line 5\u001B[0m\n\u001B[0;32m      3\u001B[0m layout \u001B[38;5;241m=\u001B[39m go\u001B[38;5;241m.\u001B[39mLayout(title\u001B[38;5;241m=\u001B[39m\u001B[38;5;124m'\u001B[39m\u001B[38;5;124mTest\u001B[39m\u001B[38;5;124m'\u001B[39m, xaxis\u001B[38;5;241m=\u001B[39m\u001B[38;5;28mdict\u001B[39m(title\u001B[38;5;241m=\u001B[39m\u001B[38;5;124m'\u001B[39m\u001B[38;5;124mDate\u001B[39m\u001B[38;5;124m'\u001B[39m), yaxis\u001B[38;5;241m=\u001B[39m\u001B[38;5;28mdict\u001B[39m(title\u001B[38;5;241m=\u001B[39m\u001B[38;5;124m'\u001B[39m\u001B[38;5;124mSales\u001B[39m\u001B[38;5;124m'\u001B[39m))\n\u001B[0;32m      4\u001B[0m fig \u001B[38;5;241m=\u001B[39m go\u001B[38;5;241m.\u001B[39mFigure(data\u001B[38;5;241m=\u001B[39m[actual_sales_sc, predicted_sales_sc], layout\u001B[38;5;241m=\u001B[39mlayout)\n\u001B[1;32m----> 5\u001B[0m \u001B[43miplot\u001B[49m\u001B[43m(\u001B[49m\u001B[43mfig\u001B[49m\u001B[43m)\u001B[49m\n",
      "File \u001B[1;32m~\\miniconda3\\envs\\tf\\lib\\site-packages\\plotly\\offline\\offline.py:392\u001B[0m, in \u001B[0;36miplot\u001B[1;34m(figure_or_data, show_link, link_text, validate, image, filename, image_width, image_height, config, auto_play, animation_opts)\u001B[0m\n\u001B[0;32m    387\u001B[0m post_script \u001B[38;5;241m=\u001B[39m build_save_image_post_script(\n\u001B[0;32m    388\u001B[0m     image, filename, image_height, image_width, \u001B[38;5;124m\"\u001B[39m\u001B[38;5;124miplot\u001B[39m\u001B[38;5;124m\"\u001B[39m\n\u001B[0;32m    389\u001B[0m )\n\u001B[0;32m    391\u001B[0m \u001B[38;5;66;03m# Show figure\u001B[39;00m\n\u001B[1;32m--> 392\u001B[0m \u001B[43mpio\u001B[49m\u001B[38;5;241;43m.\u001B[39;49m\u001B[43mshow\u001B[49m\u001B[43m(\u001B[49m\n\u001B[0;32m    393\u001B[0m \u001B[43m    \u001B[49m\u001B[43mfigure\u001B[49m\u001B[43m,\u001B[49m\n\u001B[0;32m    394\u001B[0m \u001B[43m    \u001B[49m\u001B[43mvalidate\u001B[49m\u001B[38;5;241;43m=\u001B[39;49m\u001B[43mvalidate\u001B[49m\u001B[43m,\u001B[49m\n\u001B[0;32m    395\u001B[0m \u001B[43m    \u001B[49m\u001B[43mconfig\u001B[49m\u001B[38;5;241;43m=\u001B[39;49m\u001B[43mconfig\u001B[49m\u001B[43m,\u001B[49m\n\u001B[0;32m    396\u001B[0m \u001B[43m    \u001B[49m\u001B[43mauto_play\u001B[49m\u001B[38;5;241;43m=\u001B[39;49m\u001B[43mauto_play\u001B[49m\u001B[43m,\u001B[49m\n\u001B[0;32m    397\u001B[0m \u001B[43m    \u001B[49m\u001B[43mpost_script\u001B[49m\u001B[38;5;241;43m=\u001B[39;49m\u001B[43mpost_script\u001B[49m\u001B[43m,\u001B[49m\n\u001B[0;32m    398\u001B[0m \u001B[43m    \u001B[49m\u001B[43manimation_opts\u001B[49m\u001B[38;5;241;43m=\u001B[39;49m\u001B[43manimation_opts\u001B[49m\u001B[43m,\u001B[49m\n\u001B[0;32m    399\u001B[0m \u001B[43m\u001B[49m\u001B[43m)\u001B[49m\n",
      "File \u001B[1;32m~\\miniconda3\\envs\\tf\\lib\\site-packages\\plotly\\io\\_renderers.py:396\u001B[0m, in \u001B[0;36mshow\u001B[1;34m(fig, renderer, validate, **kwargs)\u001B[0m\n\u001B[0;32m    391\u001B[0m         \u001B[38;5;28;01mraise\u001B[39;00m \u001B[38;5;167;01mValueError\u001B[39;00m(\n\u001B[0;32m    392\u001B[0m             \u001B[38;5;124m\"\u001B[39m\u001B[38;5;124mMime type rendering requires ipython but it is not installed\u001B[39m\u001B[38;5;124m\"\u001B[39m\n\u001B[0;32m    393\u001B[0m         )\n\u001B[0;32m    395\u001B[0m     \u001B[38;5;28;01mif\u001B[39;00m \u001B[38;5;129;01mnot\u001B[39;00m nbformat \u001B[38;5;129;01mor\u001B[39;00m LooseVersion(nbformat\u001B[38;5;241m.\u001B[39m__version__) \u001B[38;5;241m<\u001B[39m LooseVersion(\u001B[38;5;124m\"\u001B[39m\u001B[38;5;124m4.2.0\u001B[39m\u001B[38;5;124m\"\u001B[39m):\n\u001B[1;32m--> 396\u001B[0m         \u001B[38;5;28;01mraise\u001B[39;00m \u001B[38;5;167;01mValueError\u001B[39;00m(\n\u001B[0;32m    397\u001B[0m             \u001B[38;5;124m\"\u001B[39m\u001B[38;5;124mMime type rendering requires nbformat>=4.2.0 but it is not installed\u001B[39m\u001B[38;5;124m\"\u001B[39m\n\u001B[0;32m    398\u001B[0m         )\n\u001B[0;32m    400\u001B[0m     ipython_display\u001B[38;5;241m.\u001B[39mdisplay(bundle, raw\u001B[38;5;241m=\u001B[39m\u001B[38;5;28;01mTrue\u001B[39;00m)\n\u001B[0;32m    402\u001B[0m \u001B[38;5;66;03m# external renderers\u001B[39;00m\n",
      "\u001B[1;31mValueError\u001B[0m: Mime type rendering requires nbformat>=4.2.0 but it is not installed"
     ]
    }
   ],
   "source": [
    "predicted_sales_sc = go.Scatter(x=tes_res['date'], y=tes_res['pred_sale'], name='Predicted')\n",
    "actual_sales_sc = go.Scatter(x=tes_res['date'], y=tes_res['act_sale'], name='Actual')\n",
    "layout = go.Layout(title='Test', xaxis=dict(title='Date'), yaxis=dict(title='Sales'))\n",
    "fig = go.Figure(data=[actual_sales_sc, predicted_sales_sc], layout=layout)\n",
    "iplot(fig)"
   ],
   "metadata": {
    "collapsed": false
   }
  },
  {
   "cell_type": "code",
   "execution_count": 35,
   "outputs": [
    {
     "name": "stdout",
     "output_type": "stream",
     "text": [
      "RMSE:  0.2257314257521595\n",
      "MSE:  0.05095467657210269\n",
      "MAE:  0.11689636073005134\n",
      "MPE 5381110278827.312\n"
     ]
    }
   ],
   "source": [
    "rmse = np.sqrt(mean_squared_error(scaled_test, pred))\n",
    "print(\"RMSE: \", rmse)\n",
    "mse = mean_squared_error(scaled_test, pred)\n",
    "print(\"MSE: \", mse)\n",
    "mae = mean_absolute_error(scaled_test, pred)\n",
    "print(\"MAE: \", mae)\n",
    "mpe = mean_absolute_percentage_error(scaled_test, pred)\n",
    "print(\"MPE\", mpe)"
   ],
   "metadata": {
    "collapsed": false
   }
  },
  {
   "cell_type": "markdown",
   "source": [
    "Dapat dilihat pada hasil prediction model ketika dibandingkan dengan hasil sebenarnya, dapat dilihat bahwa hasil prediksi model masih kurang baik oleh karena itu dilakukan training diluar notebook ini sehingga dapat langsung di load model yang sudah ditraining"
   ],
   "metadata": {
    "collapsed": false
   }
  },
  {
   "cell_type": "code",
   "execution_count": 38,
   "outputs": [
    {
     "name": "stdout",
     "output_type": "stream",
     "text": [
      "Model: \"model_7\"\n",
      "_________________________________________________________________\n",
      " Layer (type)                Output Shape              Param #   \n",
      "=================================================================\n",
      " input_8 (InputLayer)        [(None, 30, 1)]           0         \n",
      "                                                                 \n",
      " lstm_15 (LSTM)              (None, 100)               40800     \n",
      "                                                                 \n",
      " activation_7 (Activation)   (None, 100)               0         \n",
      "                                                                 \n",
      " dense_7 (Dense)             (None, 1)                 101       \n",
      "                                                                 \n",
      "=================================================================\n",
      "Total params: 40,901\n",
      "Trainable params: 40,901\n",
      "Non-trainable params: 0\n",
      "_________________________________________________________________\n"
     ]
    }
   ],
   "source": [
    "model = tf.keras.models.load_model(\"E:/Program/PKLProjekt/ML/model.h5\")\n",
    "model.summary()"
   ],
   "metadata": {
    "collapsed": false
   }
  },
  {
   "cell_type": "code",
   "execution_count": 39,
   "outputs": [
    {
     "name": "stdout",
     "output_type": "stream",
     "text": [
      "1/1 [==============================] - 0s 247ms/step\n",
      "1/1 [==============================] - 0s 19ms/step\n",
      "1/1 [==============================] - 0s 17ms/step\n",
      "1/1 [==============================] - 0s 18ms/step\n",
      "1/1 [==============================] - 0s 18ms/step\n",
      "1/1 [==============================] - 0s 18ms/step\n",
      "1/1 [==============================] - 0s 17ms/step\n",
      "1/1 [==============================] - 0s 18ms/step\n",
      "1/1 [==============================] - 0s 18ms/step\n",
      "1/1 [==============================] - 0s 18ms/step\n",
      "1/1 [==============================] - 0s 18ms/step\n",
      "1/1 [==============================] - 0s 18ms/step\n",
      "1/1 [==============================] - 0s 19ms/step\n",
      "1/1 [==============================] - 0s 19ms/step\n",
      "1/1 [==============================] - 0s 18ms/step\n",
      "1/1 [==============================] - 0s 18ms/step\n",
      "1/1 [==============================] - 0s 20ms/step\n",
      "1/1 [==============================] - 0s 20ms/step\n",
      "1/1 [==============================] - 0s 20ms/step\n",
      "1/1 [==============================] - 0s 18ms/step\n",
      "1/1 [==============================] - 0s 19ms/step\n",
      "1/1 [==============================] - 0s 18ms/step\n",
      "1/1 [==============================] - 0s 19ms/step\n",
      "1/1 [==============================] - 0s 20ms/step\n",
      "1/1 [==============================] - 0s 19ms/step\n",
      "1/1 [==============================] - 0s 18ms/step\n",
      "1/1 [==============================] - 0s 17ms/step\n",
      "1/1 [==============================] - 0s 19ms/step\n",
      "1/1 [==============================] - 0s 18ms/step\n",
      "1/1 [==============================] - 0s 18ms/step\n"
     ]
    }
   ],
   "source": [
    "pred = []\n",
    "first_eval_batch = scaled_train[-30:]\n",
    "current_batch = first_eval_batch.reshape((1,30,1))\n",
    "\n",
    "for i in range(30):\n",
    "    current_pred = model.predict(current_batch)[0]\n",
    "    pred.append(current_pred)\n",
    "    current_batch = np.append(current_batch[:,1:,:],[[current_pred]],axis=1)"
   ],
   "metadata": {
    "collapsed": false
   }
  },
  {
   "cell_type": "code",
   "execution_count": 40,
   "outputs": [
    {
     "data": {
      "text/plain": "         date  act_sale  pred_sale\n0  2021-03-29  0.048387   0.272153\n1  2021-03-30  0.064516   0.225458\n2  2021-03-31  0.016129   0.307886\n3  2021-04-12  0.032258   0.101310\n4  2021-04-13  0.016129   0.110384\n5  2021-04-14  0.548387   0.182486\n6  2021-04-15  0.000000   0.232989\n7  2021-04-16  0.145161   0.288247\n8  2021-04-17  0.016129   0.265076\n9  2021-04-19  0.048387   0.238633\n10 2021-04-22  0.032258   0.216043\n11 2021-04-26  0.080645   0.209679\n12 2021-04-28  0.032258   0.246109\n13 2021-04-29  0.516129   0.367310\n14 2021-04-30  0.016129   0.225661\n15 2021-05-04  0.016129   0.212291\n16 2021-05-06  0.483871  -0.082348\n17 2021-05-07  0.080645   0.025338\n18 2021-05-08  0.096774   0.249561\n19 2021-05-10  0.016129   0.251711\n20 2021-05-11  0.016129   0.279341\n21 2021-05-17  0.016129   0.194739\n22 2021-05-18  0.032258   0.052397\n23 2021-05-20  0.032258   0.013799\n24 2021-05-24  0.016129   0.025361\n25 2021-05-25  0.016129   0.128114\n26 2021-05-27  0.580645   0.096957\n27 2021-05-28  0.048387   0.132992\n28 2021-05-30  0.354839   0.206422\n29 2021-05-31  0.645161   0.093825",
      "text/html": "<div>\n<style scoped>\n    .dataframe tbody tr th:only-of-type {\n        vertical-align: middle;\n    }\n\n    .dataframe tbody tr th {\n        vertical-align: top;\n    }\n\n    .dataframe thead th {\n        text-align: right;\n    }\n</style>\n<table border=\"1\" class=\"dataframe\">\n  <thead>\n    <tr style=\"text-align: right;\">\n      <th></th>\n      <th>date</th>\n      <th>act_sale</th>\n      <th>pred_sale</th>\n    </tr>\n  </thead>\n  <tbody>\n    <tr>\n      <th>0</th>\n      <td>2021-03-29</td>\n      <td>0.048387</td>\n      <td>0.272153</td>\n    </tr>\n    <tr>\n      <th>1</th>\n      <td>2021-03-30</td>\n      <td>0.064516</td>\n      <td>0.225458</td>\n    </tr>\n    <tr>\n      <th>2</th>\n      <td>2021-03-31</td>\n      <td>0.016129</td>\n      <td>0.307886</td>\n    </tr>\n    <tr>\n      <th>3</th>\n      <td>2021-04-12</td>\n      <td>0.032258</td>\n      <td>0.101310</td>\n    </tr>\n    <tr>\n      <th>4</th>\n      <td>2021-04-13</td>\n      <td>0.016129</td>\n      <td>0.110384</td>\n    </tr>\n    <tr>\n      <th>5</th>\n      <td>2021-04-14</td>\n      <td>0.548387</td>\n      <td>0.182486</td>\n    </tr>\n    <tr>\n      <th>6</th>\n      <td>2021-04-15</td>\n      <td>0.000000</td>\n      <td>0.232989</td>\n    </tr>\n    <tr>\n      <th>7</th>\n      <td>2021-04-16</td>\n      <td>0.145161</td>\n      <td>0.288247</td>\n    </tr>\n    <tr>\n      <th>8</th>\n      <td>2021-04-17</td>\n      <td>0.016129</td>\n      <td>0.265076</td>\n    </tr>\n    <tr>\n      <th>9</th>\n      <td>2021-04-19</td>\n      <td>0.048387</td>\n      <td>0.238633</td>\n    </tr>\n    <tr>\n      <th>10</th>\n      <td>2021-04-22</td>\n      <td>0.032258</td>\n      <td>0.216043</td>\n    </tr>\n    <tr>\n      <th>11</th>\n      <td>2021-04-26</td>\n      <td>0.080645</td>\n      <td>0.209679</td>\n    </tr>\n    <tr>\n      <th>12</th>\n      <td>2021-04-28</td>\n      <td>0.032258</td>\n      <td>0.246109</td>\n    </tr>\n    <tr>\n      <th>13</th>\n      <td>2021-04-29</td>\n      <td>0.516129</td>\n      <td>0.367310</td>\n    </tr>\n    <tr>\n      <th>14</th>\n      <td>2021-04-30</td>\n      <td>0.016129</td>\n      <td>0.225661</td>\n    </tr>\n    <tr>\n      <th>15</th>\n      <td>2021-05-04</td>\n      <td>0.016129</td>\n      <td>0.212291</td>\n    </tr>\n    <tr>\n      <th>16</th>\n      <td>2021-05-06</td>\n      <td>0.483871</td>\n      <td>-0.082348</td>\n    </tr>\n    <tr>\n      <th>17</th>\n      <td>2021-05-07</td>\n      <td>0.080645</td>\n      <td>0.025338</td>\n    </tr>\n    <tr>\n      <th>18</th>\n      <td>2021-05-08</td>\n      <td>0.096774</td>\n      <td>0.249561</td>\n    </tr>\n    <tr>\n      <th>19</th>\n      <td>2021-05-10</td>\n      <td>0.016129</td>\n      <td>0.251711</td>\n    </tr>\n    <tr>\n      <th>20</th>\n      <td>2021-05-11</td>\n      <td>0.016129</td>\n      <td>0.279341</td>\n    </tr>\n    <tr>\n      <th>21</th>\n      <td>2021-05-17</td>\n      <td>0.016129</td>\n      <td>0.194739</td>\n    </tr>\n    <tr>\n      <th>22</th>\n      <td>2021-05-18</td>\n      <td>0.032258</td>\n      <td>0.052397</td>\n    </tr>\n    <tr>\n      <th>23</th>\n      <td>2021-05-20</td>\n      <td>0.032258</td>\n      <td>0.013799</td>\n    </tr>\n    <tr>\n      <th>24</th>\n      <td>2021-05-24</td>\n      <td>0.016129</td>\n      <td>0.025361</td>\n    </tr>\n    <tr>\n      <th>25</th>\n      <td>2021-05-25</td>\n      <td>0.016129</td>\n      <td>0.128114</td>\n    </tr>\n    <tr>\n      <th>26</th>\n      <td>2021-05-27</td>\n      <td>0.580645</td>\n      <td>0.096957</td>\n    </tr>\n    <tr>\n      <th>27</th>\n      <td>2021-05-28</td>\n      <td>0.048387</td>\n      <td>0.132992</td>\n    </tr>\n    <tr>\n      <th>28</th>\n      <td>2021-05-30</td>\n      <td>0.354839</td>\n      <td>0.206422</td>\n    </tr>\n    <tr>\n      <th>29</th>\n      <td>2021-05-31</td>\n      <td>0.645161</td>\n      <td>0.093825</td>\n    </tr>\n  </tbody>\n</table>\n</div>"
     },
     "execution_count": 40,
     "metadata": {},
     "output_type": "execute_result"
    }
   ],
   "source": [
    "tes_res = material_df.reset_index(drop=True)\n",
    "tes_res = tes_res.loc[(tes_res['material']==11000267)].copy()\n",
    "tes_res = tes_res.groupby(['date']).sum()\n",
    "tes_res = tes_res.drop(['material','sale_qty'], axis=1)\n",
    "tes_res = tes_res[-30:]\n",
    "tes_res = tes_res.reset_index()\n",
    "tes_res['act_sale'] = scaled_test.astype(np.float64)\n",
    "tes_res['pred_sale'] = pred\n",
    "tes_res['pred_sale'] = tes_res['pred_sale'].astype(np.float64)\n",
    "tes_res"
   ],
   "metadata": {
    "collapsed": false
   }
  },
  {
   "cell_type": "code",
   "execution_count": 41,
   "outputs": [
    {
     "ename": "ValueError",
     "evalue": "Mime type rendering requires nbformat>=4.2.0 but it is not installed",
     "output_type": "error",
     "traceback": [
      "\u001B[1;31m---------------------------------------------------------------------------\u001B[0m",
      "\u001B[1;31mValueError\u001B[0m                                Traceback (most recent call last)",
      "Cell \u001B[1;32mIn[41], line 5\u001B[0m\n\u001B[0;32m      3\u001B[0m layout \u001B[38;5;241m=\u001B[39m go\u001B[38;5;241m.\u001B[39mLayout(title\u001B[38;5;241m=\u001B[39m\u001B[38;5;124m'\u001B[39m\u001B[38;5;124mTest\u001B[39m\u001B[38;5;124m'\u001B[39m, xaxis\u001B[38;5;241m=\u001B[39m\u001B[38;5;28mdict\u001B[39m(title\u001B[38;5;241m=\u001B[39m\u001B[38;5;124m'\u001B[39m\u001B[38;5;124mDate\u001B[39m\u001B[38;5;124m'\u001B[39m), yaxis\u001B[38;5;241m=\u001B[39m\u001B[38;5;28mdict\u001B[39m(title\u001B[38;5;241m=\u001B[39m\u001B[38;5;124m'\u001B[39m\u001B[38;5;124mSales\u001B[39m\u001B[38;5;124m'\u001B[39m))\n\u001B[0;32m      4\u001B[0m fig \u001B[38;5;241m=\u001B[39m go\u001B[38;5;241m.\u001B[39mFigure(data\u001B[38;5;241m=\u001B[39m[actual_sales_sc, predicted_sales_sc], layout\u001B[38;5;241m=\u001B[39mlayout)\n\u001B[1;32m----> 5\u001B[0m \u001B[43miplot\u001B[49m\u001B[43m(\u001B[49m\u001B[43mfig\u001B[49m\u001B[43m)\u001B[49m\n",
      "File \u001B[1;32m~\\miniconda3\\envs\\tf\\lib\\site-packages\\plotly\\offline\\offline.py:392\u001B[0m, in \u001B[0;36miplot\u001B[1;34m(figure_or_data, show_link, link_text, validate, image, filename, image_width, image_height, config, auto_play, animation_opts)\u001B[0m\n\u001B[0;32m    387\u001B[0m post_script \u001B[38;5;241m=\u001B[39m build_save_image_post_script(\n\u001B[0;32m    388\u001B[0m     image, filename, image_height, image_width, \u001B[38;5;124m\"\u001B[39m\u001B[38;5;124miplot\u001B[39m\u001B[38;5;124m\"\u001B[39m\n\u001B[0;32m    389\u001B[0m )\n\u001B[0;32m    391\u001B[0m \u001B[38;5;66;03m# Show figure\u001B[39;00m\n\u001B[1;32m--> 392\u001B[0m \u001B[43mpio\u001B[49m\u001B[38;5;241;43m.\u001B[39;49m\u001B[43mshow\u001B[49m\u001B[43m(\u001B[49m\n\u001B[0;32m    393\u001B[0m \u001B[43m    \u001B[49m\u001B[43mfigure\u001B[49m\u001B[43m,\u001B[49m\n\u001B[0;32m    394\u001B[0m \u001B[43m    \u001B[49m\u001B[43mvalidate\u001B[49m\u001B[38;5;241;43m=\u001B[39;49m\u001B[43mvalidate\u001B[49m\u001B[43m,\u001B[49m\n\u001B[0;32m    395\u001B[0m \u001B[43m    \u001B[49m\u001B[43mconfig\u001B[49m\u001B[38;5;241;43m=\u001B[39;49m\u001B[43mconfig\u001B[49m\u001B[43m,\u001B[49m\n\u001B[0;32m    396\u001B[0m \u001B[43m    \u001B[49m\u001B[43mauto_play\u001B[49m\u001B[38;5;241;43m=\u001B[39;49m\u001B[43mauto_play\u001B[49m\u001B[43m,\u001B[49m\n\u001B[0;32m    397\u001B[0m \u001B[43m    \u001B[49m\u001B[43mpost_script\u001B[49m\u001B[38;5;241;43m=\u001B[39;49m\u001B[43mpost_script\u001B[49m\u001B[43m,\u001B[49m\n\u001B[0;32m    398\u001B[0m \u001B[43m    \u001B[49m\u001B[43manimation_opts\u001B[49m\u001B[38;5;241;43m=\u001B[39;49m\u001B[43manimation_opts\u001B[49m\u001B[43m,\u001B[49m\n\u001B[0;32m    399\u001B[0m \u001B[43m\u001B[49m\u001B[43m)\u001B[49m\n",
      "File \u001B[1;32m~\\miniconda3\\envs\\tf\\lib\\site-packages\\plotly\\io\\_renderers.py:396\u001B[0m, in \u001B[0;36mshow\u001B[1;34m(fig, renderer, validate, **kwargs)\u001B[0m\n\u001B[0;32m    391\u001B[0m         \u001B[38;5;28;01mraise\u001B[39;00m \u001B[38;5;167;01mValueError\u001B[39;00m(\n\u001B[0;32m    392\u001B[0m             \u001B[38;5;124m\"\u001B[39m\u001B[38;5;124mMime type rendering requires ipython but it is not installed\u001B[39m\u001B[38;5;124m\"\u001B[39m\n\u001B[0;32m    393\u001B[0m         )\n\u001B[0;32m    395\u001B[0m     \u001B[38;5;28;01mif\u001B[39;00m \u001B[38;5;129;01mnot\u001B[39;00m nbformat \u001B[38;5;129;01mor\u001B[39;00m LooseVersion(nbformat\u001B[38;5;241m.\u001B[39m__version__) \u001B[38;5;241m<\u001B[39m LooseVersion(\u001B[38;5;124m\"\u001B[39m\u001B[38;5;124m4.2.0\u001B[39m\u001B[38;5;124m\"\u001B[39m):\n\u001B[1;32m--> 396\u001B[0m         \u001B[38;5;28;01mraise\u001B[39;00m \u001B[38;5;167;01mValueError\u001B[39;00m(\n\u001B[0;32m    397\u001B[0m             \u001B[38;5;124m\"\u001B[39m\u001B[38;5;124mMime type rendering requires nbformat>=4.2.0 but it is not installed\u001B[39m\u001B[38;5;124m\"\u001B[39m\n\u001B[0;32m    398\u001B[0m         )\n\u001B[0;32m    400\u001B[0m     ipython_display\u001B[38;5;241m.\u001B[39mdisplay(bundle, raw\u001B[38;5;241m=\u001B[39m\u001B[38;5;28;01mTrue\u001B[39;00m)\n\u001B[0;32m    402\u001B[0m \u001B[38;5;66;03m# external renderers\u001B[39;00m\n",
      "\u001B[1;31mValueError\u001B[0m: Mime type rendering requires nbformat>=4.2.0 but it is not installed"
     ]
    }
   ],
   "source": [
    "predicted_sales_sc = go.Scatter(x=tes_res['date'], y=tes_res['pred_sale'], name='Predicted')\n",
    "actual_sales_sc = go.Scatter(x=tes_res['date'], y=tes_res['act_sale'], name='Actual')\n",
    "layout = go.Layout(title='Test', xaxis=dict(title='Date'), yaxis=dict(title='Sales'))\n",
    "fig = go.Figure(data=[actual_sales_sc, predicted_sales_sc], layout=layout)\n",
    "iplot(fig)"
   ],
   "metadata": {
    "collapsed": false
   }
  },
  {
   "cell_type": "code",
   "execution_count": 42,
   "outputs": [
    {
     "name": "stdout",
     "output_type": "stream",
     "text": [
      "RMSE:  0.2426532449486161\n",
      "MSE:  0.058880597284093075\n",
      "MAE:  0.1993900591327298\n",
      "MAPE 34976254079800.258\n"
     ]
    }
   ],
   "source": [
    "rmse = np.sqrt(mean_squared_error(scaled_test, pred))\n",
    "print(\"RMSE: \", rmse)\n",
    "mse = mean_squared_error(scaled_test, pred)\n",
    "print(\"MSE: \", mse)\n",
    "mae = mean_absolute_error(scaled_test, pred)\n",
    "print(\"MAE: \", mae)\n",
    "mpe = mean_absolute_percentage_error(scaled_test, pred)\n",
    "print(\"MAPE\", mpe)"
   ],
   "metadata": {
    "collapsed": false
   }
  },
  {
   "cell_type": "code",
   "execution_count": null,
   "outputs": [],
   "source": [],
   "metadata": {
    "collapsed": false
   }
  }
 ],
 "metadata": {
  "kernelspec": {
   "display_name": "Python 3.10 (tensorflow)",
   "language": "python",
   "name": "tensorflow"
  },
  "language_info": {
   "codemirror_mode": {
    "name": "ipython",
    "version": 3
   },
   "file_extension": ".py",
   "mimetype": "text/x-python",
   "name": "python",
   "nbconvert_exporter": "python",
   "pygments_lexer": "ipython3",
   "version": "3.10.0"
  }
 },
 "nbformat": 4,
 "nbformat_minor": 5
}
